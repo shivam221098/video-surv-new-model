{
 "cells": [
  {
   "cell_type": "markdown",
   "metadata": {
    "collapsed": true,
    "pycharm": {
     "name": "#%% md\n"
    }
   },
   "source": [
    "## Algorithm used - CNN and LSTM"
   ]
  },
  {
   "cell_type": "code",
   "execution_count": 1,
   "outputs": [],
   "source": [
    "import cv2\n",
    "import os\n",
    "import sys\n",
    "import h5py\n",
    "import glob\n",
    "import random\n",
    "import numpy as np\n",
    "import pandas as pd\n",
    "import matplotlib.pyplot as plt\n",
    "from tensorflow.python.keras import backend\n",
    "from tensorflow.keras.applications import VGG16\n",
    "from tensorflow.python.keras.models import Model, Sequential\n",
    "from tensorflow.python.keras.layers import Input, LSTM, Dense, Activation"
   ],
   "metadata": {
    "collapsed": false,
    "pycharm": {
     "name": "#%%\n"
    }
   }
  },
  {
   "cell_type": "markdown",
   "source": [
    "## Loading data"
   ],
   "metadata": {
    "collapsed": false,
    "pycharm": {
     "name": "#%% md\n"
    }
   }
  },
  {
   "cell_type": "code",
   "execution_count": 2,
   "outputs": [],
   "source": [
    "# Frame size\n",
    "img_size = 224\n",
    "\n",
    "img_size_touple = (img_size, img_size)\n",
    "\n",
    "# Number of channels (RGB)\n",
    "num_channels = 3\n",
    "\n",
    "# Flat frame size\n",
    "img_size_flat = img_size * img_size * num_channels\n",
    "\n",
    "# Number of classes for classification (Violence-No Violence)\n",
    "num_classes = 2\n",
    "\n",
    "# Number of files to train\n",
    "_num_files_train = 1\n",
    "\n",
    "# Number of frames per video\n",
    "_images_per_file = 20\n",
    "\n",
    "# Number of frames per training set\n",
    "_num_images_train = _num_files_train * _images_per_file\n",
    "\n",
    "# Video extension\n",
    "video_exts = \".mp4\""
   ],
   "metadata": {
    "collapsed": false,
    "pycharm": {
     "name": "#%%\n"
    }
   }
  },
  {
   "cell_type": "markdown",
   "source": [
    "## Extracting video frames"
   ],
   "metadata": {
    "collapsed": false,
    "pycharm": {
     "name": "#%% md\n"
    }
   }
  },
  {
   "cell_type": "code",
   "execution_count": 3,
   "outputs": [],
   "source": [
    "def extract_frames(file_path):\n",
    "    images = []\n",
    "\n",
    "    cap = cv2.VideoCapture(file_path)\n",
    "\n",
    "    success, image = cap.read()\n",
    "    count = 0\n",
    "    while success and count < _images_per_file:\n",
    "        rgb_img = cv2.cvtColor(image, cv2.COLOR_BGR2RGB)\n",
    "        resized = cv2.resize(rgb_img, dsize=(img_size, img_size), interpolation=cv2.INTER_CUBIC)\n",
    "        images.append(resized)\n",
    "\n",
    "        success, image = cap.read()\n",
    "        count += 1\n",
    "\n",
    "    result = np.array(images)\n",
    "    result = result / 255\n",
    "    result = result.astype(np.float16)\n",
    "\n",
    "    return result"
   ],
   "metadata": {
    "collapsed": false,
    "pycharm": {
     "name": "#%%\n"
    }
   }
  },
  {
   "cell_type": "code",
   "execution_count": 4,
   "outputs": [],
   "source": [
    "def create_labels(file_path):\n",
    "    names = []\n",
    "    labels = []\n",
    "\n",
    "    for current, directory, file_names in os.walk(file_path):\n",
    "        for file_name in file_names:\n",
    "            if file_name.endswith(video_exts):\n",
    "                if file_name.startswith(\"V\"):\n",
    "                    labels.append([1, 0])\n",
    "                    names.append(f\"{current}/\" + file_name)\n",
    "                elif file_name.startswith(\"NV\"):\n",
    "                    labels.append([0, 1])\n",
    "                    names.append(f\"{current}/\" + file_name)\n",
    "\n",
    "    name_lab = list(zip(names, labels))\n",
    "    random.shuffle(name_lab)\n",
    "    names, labels = zip(*name_lab)\n",
    "\n",
    "    return names, labels"
   ],
   "metadata": {
    "collapsed": false,
    "pycharm": {
     "name": "#%%\n"
    }
   }
  },
  {
   "cell_type": "code",
   "execution_count": 5,
   "outputs": [],
   "source": [
    "dir_path = \"dataset/Real Life Violence Dataset\""
   ],
   "metadata": {
    "collapsed": false,
    "pycharm": {
     "name": "#%%\n"
    }
   }
  },
  {
   "cell_type": "code",
   "execution_count": 6,
   "outputs": [],
   "source": [
    "names, labels = create_labels(dir_path)"
   ],
   "metadata": {
    "collapsed": false,
    "pycharm": {
     "name": "#%%\n"
    }
   }
  },
  {
   "cell_type": "code",
   "execution_count": 7,
   "outputs": [],
   "source": [
    "frames = extract_frames(f\"{names[0]}\")"
   ],
   "metadata": {
    "collapsed": false,
    "pycharm": {
     "name": "#%%\n"
    }
   }
  },
  {
   "cell_type": "markdown",
   "source": [
    "### Checking loaded image"
   ],
   "metadata": {
    "collapsed": false,
    "pycharm": {
     "name": "#%% md\n"
    }
   }
  },
  {
   "cell_type": "code",
   "execution_count": 8,
   "outputs": [],
   "source": [
    "visibility = (frames * 255).astype(\"uint8\")"
   ],
   "metadata": {
    "collapsed": false,
    "pycharm": {
     "name": "#%%\n"
    }
   }
  },
  {
   "cell_type": "code",
   "execution_count": 9,
   "outputs": [
    {
     "data": {
      "text/plain": "<matplotlib.image.AxesImage at 0x2149d166e48>"
     },
     "execution_count": 9,
     "metadata": {},
     "output_type": "execute_result"
    },
    {
     "data": {
      "text/plain": "<Figure size 432x288 with 1 Axes>",
      "image/png": "[encoded data removed]"
     },
     "metadata": {
      "needs_background": "light"
     },
     "output_type": "display_data"
    }
   ],
   "source": [
    "plt.imshow(visibility[3])"
   ],
   "metadata": {
    "collapsed": false,
    "pycharm": {
     "name": "#%%\n"
    }
   }
  },
  {
   "cell_type": "code",
   "execution_count": 10,
   "outputs": [],
   "source": [
    "def print_progress(count, max_count):\n",
    "    # Percentage completion.\n",
    "    pct_complete = count / max_count\n",
    "\n",
    "    # Status-message. Note the \\r which means the line should\n",
    "    # overwrite itself.\n",
    "    msg = \"\\r- Progress: {0:.1%}\".format(pct_complete)\n",
    "\n",
    "    # Print it.\n",
    "    sys.stdout.write(msg)\n",
    "    sys.stdout.flush()"
   ],
   "metadata": {
    "collapsed": false,
    "pycharm": {
     "name": "#%%\n"
    }
   }
  },
  {
   "cell_type": "markdown",
   "source": [
    "### Pre-Trained Model: VGG16 (CNN part)"
   ],
   "metadata": {
    "collapsed": false,
    "pycharm": {
     "name": "#%% md\n"
    }
   }
  },
  {
   "cell_type": "code",
   "execution_count": 11,
   "outputs": [],
   "source": [
    "image_model = VGG16(include_top=True, weights=\"imagenet\")"
   ],
   "metadata": {
    "collapsed": false,
    "pycharm": {
     "name": "#%%\n"
    }
   }
  },
  {
   "cell_type": "code",
   "execution_count": 12,
   "outputs": [
    {
     "name": "stdout",
     "output_type": "stream",
     "text": [
      "Model: \"vgg16\"\n",
      "_________________________________________________________________\n",
      " Layer (type)                Output Shape              Param #   \n",
      "=================================================================\n",
      " input_1 (InputLayer)        [(None, 224, 224, 3)]     0         \n",
      "                                                                 \n",
      " block1_conv1 (Conv2D)       (None, 224, 224, 64)      1792      \n",
      "                                                                 \n",
      " block1_conv2 (Conv2D)       (None, 224, 224, 64)      36928     \n",
      "                                                                 \n",
      " block1_pool (MaxPooling2D)  (None, 112, 112, 64)      0         \n",
      "                                                                 \n",
      " block2_conv1 (Conv2D)       (None, 112, 112, 128)     73856     \n",
      "                                                                 \n",
      " block2_conv2 (Conv2D)       (None, 112, 112, 128)     147584    \n",
      "                                                                 \n",
      " block2_pool (MaxPooling2D)  (None, 56, 56, 128)       0         \n",
      "                                                                 \n",
      " block3_conv1 (Conv2D)       (None, 56, 56, 256)       295168    \n",
      "                                                                 \n",
      " block3_conv2 (Conv2D)       (None, 56, 56, 256)       590080    \n",
      "                                                                 \n",
      " block3_conv3 (Conv2D)       (None, 56, 56, 256)       590080    \n",
      "                                                                 \n",
      " block3_pool (MaxPooling2D)  (None, 28, 28, 256)       0         \n",
      "                                                                 \n",
      " block4_conv1 (Conv2D)       (None, 28, 28, 512)       1180160   \n",
      "                                                                 \n",
      " block4_conv2 (Conv2D)       (None, 28, 28, 512)       2359808   \n",
      "                                                                 \n",
      " block4_conv3 (Conv2D)       (None, 28, 28, 512)       2359808   \n",
      "                                                                 \n",
      " block4_pool (MaxPooling2D)  (None, 14, 14, 512)       0         \n",
      "                                                                 \n",
      " block5_conv1 (Conv2D)       (None, 14, 14, 512)       2359808   \n",
      "                                                                 \n",
      " block5_conv2 (Conv2D)       (None, 14, 14, 512)       2359808   \n",
      "                                                                 \n",
      " block5_conv3 (Conv2D)       (None, 14, 14, 512)       2359808   \n",
      "                                                                 \n",
      " block5_pool (MaxPooling2D)  (None, 7, 7, 512)         0         \n",
      "                                                                 \n",
      " flatten (Flatten)           (None, 25088)             0         \n",
      "                                                                 \n",
      " fc1 (Dense)                 (None, 4096)              102764544 \n",
      "                                                                 \n",
      " fc2 (Dense)                 (None, 4096)              16781312  \n",
      "                                                                 \n",
      " predictions (Dense)         (None, 1000)              4097000   \n",
      "                                                                 \n",
      "=================================================================\n",
      "Total params: 138,357,544\n",
      "Trainable params: 138,357,544\n",
      "Non-trainable params: 0\n",
      "_________________________________________________________________\n"
     ]
    }
   ],
   "source": [
    "image_model.summary()"
   ],
   "metadata": {
    "collapsed": false,
    "pycharm": {
     "name": "#%%\n"
    }
   }
  },
  {
   "cell_type": "code",
   "execution_count": 13,
   "outputs": [
    {
     "name": "stdout",
     "output_type": "stream",
     "text": [
      "Input shape: (224, 224)\n",
      "Output: 4096\n"
     ]
    }
   ],
   "source": [
    "transfer_layer = image_model.get_layer(\"fc2\")\n",
    "\n",
    "image_model_transfer = Model(inputs=image_model.input, outputs=transfer_layer.output)\n",
    "\n",
    "transfer_value_size = backend.int_shape(transfer_layer.output)[1]\n",
    "\n",
    "print(f\"Input shape: {backend.int_shape(image_model.input)[1:3]}\")\n",
    "print(f\"Output: {transfer_value_size}\")"
   ],
   "metadata": {
    "collapsed": false,
    "pycharm": {
     "name": "#%%\n"
    }
   }
  },
  {
   "cell_type": "code",
   "execution_count": 14,
   "outputs": [],
   "source": [
    "def get_transfer_values(file_path):\n",
    "\n",
    "    # Pre-allocate input-batch-array for images.\n",
    "    shape = (_images_per_file,) + img_size_touple + (3,)\n",
    "\n",
    "    image_batch = np.zeros(shape=shape, dtype=np.float16)\n",
    "\n",
    "    image_batch = extract_frames(file_path)\n",
    "\n",
    "    # Pre-allocate output-array for transfer-values.\n",
    "    # Note that we use 16-bit floating-points to save memory.\n",
    "    shape = (_images_per_file, transfer_value_size)\n",
    "    transfer_values = np.zeros(shape=shape, dtype=np.float16)\n",
    "\n",
    "    transfer_values = image_model_transfer.predict(image_batch)\n",
    "\n",
    "    return transfer_values"
   ],
   "metadata": {
    "collapsed": false,
    "pycharm": {
     "name": "#%%\n"
    }
   }
  },
  {
   "cell_type": "code",
   "execution_count": 15,
   "outputs": [],
   "source": [
    "def proces_transfer(vid_names, labels):\n",
    "\n",
    "    count = 0\n",
    "\n",
    "    tam = len(vid_names)\n",
    "\n",
    "    # Pre-allocate input-batch-array for images.\n",
    "    shape = (_images_per_file,) + img_size_touple + (3,)\n",
    "\n",
    "    while count<tam:\n",
    "\n",
    "        video_name = vid_names[count]\n",
    "\n",
    "        image_batch = np.zeros(shape=shape, dtype=np.float16)\n",
    "\n",
    "        image_batch = extract_frames(video_name)\n",
    "\n",
    "         # Note that we use 16-bit floating-points to save memory.\n",
    "        shape = (_images_per_file, transfer_value_size)\n",
    "        transfer_values = np.zeros(shape=shape, dtype=np.float16)\n",
    "\n",
    "        transfer_values = \\\n",
    "            image_model_transfer.predict(image_batch)\n",
    "\n",
    "        labels1 = labels[count]\n",
    "\n",
    "        aux = np.ones([20,2])\n",
    "\n",
    "        labelss = labels1*aux\n",
    "\n",
    "        yield transfer_values, labelss\n",
    "\n",
    "        count+=1"
   ],
   "metadata": {
    "collapsed": false,
    "pycharm": {
     "name": "#%%\n"
    }
   }
  },
  {
   "cell_type": "code",
   "execution_count": 16,
   "outputs": [],
   "source": [
    "def make_files(n_files, names_training, labels_training):\n",
    "\n",
    "    gen = proces_transfer(names_training, labels_training)\n",
    "\n",
    "    numer = 1\n",
    "\n",
    "    # Read the first chunk to get the column dtypes\n",
    "    chunk = next(gen)\n",
    "\n",
    "    row_count = chunk[0].shape[0]\n",
    "    row_count2 = chunk[1].shape[0]\n",
    "\n",
    "    with h5py.File('prueba.h5', 'w') as f:\n",
    "\n",
    "        # Initialize a resizable dataset to hold the output\n",
    "        maxshape = (None,) + chunk[0].shape[1:]\n",
    "        maxshape2 = (None,) + chunk[1].shape[1:]\n",
    "\n",
    "\n",
    "        dset = f.create_dataset('data', shape=chunk[0].shape, maxshape=maxshape,\n",
    "                                chunks=chunk[0].shape, dtype=chunk[0].dtype)\n",
    "\n",
    "        dset2 = f.create_dataset('labels', shape=chunk[1].shape, maxshape=maxshape2,\n",
    "                                 chunks=chunk[1].shape, dtype=chunk[1].dtype)\n",
    "\n",
    "         # Write the first chunk of rows\n",
    "        dset[:] = chunk[0]\n",
    "        dset2[:] = chunk[1]\n",
    "\n",
    "        for chunk in gen:\n",
    "\n",
    "            if numer == n_files:\n",
    "\n",
    "                break\n",
    "\n",
    "            # Resize the dataset to accommodate the next chunk of rows\n",
    "            dset.resize(row_count + chunk[0].shape[0], axis=0)\n",
    "            dset2.resize(row_count2 + chunk[1].shape[0], axis=0)\n",
    "\n",
    "            # Write the next chunk\n",
    "            dset[row_count:] = chunk[0]\n",
    "            dset2[row_count:] = chunk[1]\n",
    "\n",
    "            # Increment the row count\n",
    "            row_count += chunk[0].shape[0]\n",
    "            row_count2 += chunk[1].shape[0]\n",
    "\n",
    "            print_progress(numer, n_files)\n",
    "\n",
    "            numer += 1"
   ],
   "metadata": {
    "collapsed": false,
    "pycharm": {
     "name": "#%%\n"
    }
   }
  },
  {
   "cell_type": "code",
   "execution_count": 17,
   "outputs": [],
   "source": [
    "def make_files_test(n_files, names_test, labels_test):\n",
    "\n",
    "    gen = proces_transfer(names_test, labels_test)\n",
    "\n",
    "    numer = 1\n",
    "\n",
    "    # Read the first chunk to get the column dtypes\n",
    "    chunk = next(gen)\n",
    "\n",
    "    row_count = chunk[0].shape[0]\n",
    "    row_count2 = chunk[1].shape[0]\n",
    "\n",
    "    with h5py.File('pruebavalidation.h5', 'w') as f:\n",
    "\n",
    "        # Initialize a resizable dataset to hold the output\n",
    "        maxshape = (None,) + chunk[0].shape[1:]\n",
    "        maxshape2 = (None,) + chunk[1].shape[1:]\n",
    "\n",
    "\n",
    "        dset = f.create_dataset('data', shape=chunk[0].shape, maxshape=maxshape,\n",
    "                                chunks=chunk[0].shape, dtype=chunk[0].dtype)\n",
    "\n",
    "        dset2 = f.create_dataset('labels', shape=chunk[1].shape, maxshape=maxshape2,\n",
    "                                 chunks=chunk[1].shape, dtype=chunk[1].dtype)\n",
    "\n",
    "         # Write the first chunk of rows\n",
    "        dset[:] = chunk[0]\n",
    "        dset2[:] = chunk[1]\n",
    "\n",
    "        for chunk in gen:\n",
    "\n",
    "            if numer == n_files:\n",
    "\n",
    "                break\n",
    "\n",
    "            # Resize the dataset to accommodate the next chunk of rows\n",
    "            dset.resize(row_count + chunk[0].shape[0], axis=0)\n",
    "            dset2.resize(row_count2 + chunk[1].shape[0], axis=0)\n",
    "\n",
    "            # Write the next chunk\n",
    "            dset[row_count:] = chunk[0]\n",
    "            dset2[row_count:] = chunk[1]\n",
    "\n",
    "            # Increment the row count\n",
    "            row_count += chunk[0].shape[0]\n",
    "            row_count2 += chunk[1].shape[0]\n",
    "\n",
    "            print_progress(numer, n_files)\n",
    "\n",
    "            numer += 1"
   ],
   "metadata": {
    "collapsed": false,
    "pycharm": {
     "name": "#%%\n"
    }
   }
  },
  {
   "cell_type": "code",
   "execution_count": 18,
   "outputs": [],
   "source": [
    "training_set = int(len(names)*0.8)\n",
    "test_set = int(len(names)*0.2)\n",
    "\n",
    "names_training = names[:training_set]\n",
    "names_test = names[training_set:]\n",
    "\n",
    "labels_training = labels[:training_set]\n",
    "labels_test = labels[training_set:]"
   ],
   "metadata": {
    "collapsed": false,
    "pycharm": {
     "name": "#%%\n"
    }
   }
  },
  {
   "cell_type": "code",
   "execution_count": 83,
   "outputs": [
    {
     "name": "stdout",
     "output_type": "stream",
     "text": [
      "- Progress: 99.9%"
     ]
    }
   ],
   "source": [
    "make_files(training_set, names_training, labels_training)"
   ],
   "metadata": {
    "collapsed": false,
    "pycharm": {
     "name": "#%%\n"
    }
   }
  },
  {
   "cell_type": "code",
   "execution_count": 19,
   "outputs": [
    {
     "name": "stdout",
     "output_type": "stream",
     "text": [
      "- Progress: 99.7%"
     ]
    }
   ],
   "source": [
    "make_files_test(test_set, names_test, labels_test)"
   ],
   "metadata": {
    "collapsed": false,
    "pycharm": {
     "name": "#%%\n"
    }
   }
  },
  {
   "cell_type": "code",
   "execution_count": 19,
   "outputs": [],
   "source": [
    "def process_alldata_training_and_test(filename):\n",
    "\n",
    "    joint_transfer=[]\n",
    "    frames_num=20\n",
    "    count = 0\n",
    "\n",
    "    with h5py.File(filename, 'r') as f:\n",
    "\n",
    "        X_batch = f['data'][:]\n",
    "        y_batch = f['labels'][:]\n",
    "\n",
    "    for i in range(int(len(X_batch)/frames_num)):\n",
    "        inc = count+frames_num\n",
    "        joint_transfer.append([X_batch[count:inc],y_batch[count]])\n",
    "        count =inc\n",
    "\n",
    "    data =[]\n",
    "    target=[]\n",
    "\n",
    "    for i in joint_transfer:\n",
    "        data.append(i[0])\n",
    "        target.append(np.array(i[1]))\n",
    "\n",
    "    return data, target"
   ],
   "metadata": {
    "collapsed": false,
    "pycharm": {
     "name": "#%%\n"
    }
   }
  },
  {
   "cell_type": "code",
   "execution_count": 20,
   "outputs": [],
   "source": [
    "data, target = process_alldata_training_and_test(\"prueba.h5\")"
   ],
   "metadata": {
    "collapsed": false,
    "pycharm": {
     "name": "#%%\n"
    }
   }
  },
  {
   "cell_type": "code",
   "execution_count": 21,
   "outputs": [],
   "source": [
    "data_test, target_test = process_alldata_training_and_test(\"pruebavalidation.h5\")"
   ],
   "metadata": {
    "collapsed": false,
    "pycharm": {
     "name": "#%%\n"
    }
   }
  },
  {
   "cell_type": "code",
   "execution_count": 26,
   "outputs": [
    {
     "data": {
      "text/plain": "(1415, 1415)"
     },
     "execution_count": 26,
     "metadata": {},
     "output_type": "execute_result"
    }
   ],
   "source": [
    "data_train_size = int(len(data) * 0.9)\n",
    "target_train_size = int(len(target) * 0.9)\n",
    "\n",
    "data_train_size, target_train_size"
   ],
   "metadata": {
    "collapsed": false,
    "pycharm": {
     "name": "#%%\n"
    }
   }
  },
  {
   "cell_type": "markdown",
   "source": [
    "## LSTM Architecture"
   ],
   "metadata": {
    "collapsed": false,
    "pycharm": {
     "name": "#%% md\n"
    }
   }
  },
  {
   "cell_type": "code",
   "execution_count": 27,
   "outputs": [],
   "source": [
    "chunk_size = 4096\n",
    "n_chunks = 20\n",
    "rnn_size = 512\n",
    "\n",
    "model = Sequential()\n",
    "model.add(LSTM(rnn_size, input_shape=(n_chunks, chunk_size)))\n",
    "model.add(Dense(1024))\n",
    "model.add(Activation('relu'))\n",
    "model.add(Dense(50))\n",
    "model.add(Activation('sigmoid'))\n",
    "model.add(Dense(2))\n",
    "model.add(Activation('softmax'))\n",
    "model.compile(loss='mean_squared_error', optimizer='adam',metrics=['accuracy'])"
   ],
   "metadata": {
    "collapsed": false,
    "pycharm": {
     "name": "#%%\n"
    }
   }
  },
  {
   "cell_type": "code",
   "execution_count": 28,
   "outputs": [
    {
     "name": "stdout",
     "output_type": "stream",
     "text": [
      "Epoch 1/200\n",
      "3/3 - 25s - loss: 0.3187 - accuracy: 0.4968 - val_loss: 0.2965 - val_accuracy: 0.5000\n",
      "Epoch 2/200\n",
      "3/3 - 11s - loss: 0.2804 - accuracy: 0.4933 - val_loss: 0.2535 - val_accuracy: 0.5000\n",
      "Epoch 3/200\n",
      "3/3 - 11s - loss: 0.2544 - accuracy: 0.5067 - val_loss: 0.2514 - val_accuracy: 0.5000\n",
      "Epoch 4/200\n",
      "3/3 - 11s - loss: 0.2485 - accuracy: 0.5258 - val_loss: 0.2517 - val_accuracy: 0.5000\n",
      "Epoch 5/200\n",
      "3/3 - 11s - loss: 0.2514 - accuracy: 0.4933 - val_loss: 0.2483 - val_accuracy: 0.6456\n",
      "Epoch 6/200\n",
      "3/3 - 12s - loss: 0.2487 - accuracy: 0.5717 - val_loss: 0.2497 - val_accuracy: 0.5000\n",
      "Epoch 7/200\n",
      "3/3 - 11s - loss: 0.2475 - accuracy: 0.5152 - val_loss: 0.2463 - val_accuracy: 0.5633\n",
      "Epoch 8/200\n",
      "3/3 - 12s - loss: 0.2458 - accuracy: 0.5442 - val_loss: 0.2444 - val_accuracy: 0.5506\n",
      "Epoch 9/200\n",
      "3/3 - 11s - loss: 0.2434 - accuracy: 0.6071 - val_loss: 0.2425 - val_accuracy: 0.5570\n",
      "Epoch 10/200\n",
      "3/3 - 11s - loss: 0.2390 - accuracy: 0.6155 - val_loss: 0.2366 - val_accuracy: 0.6392\n",
      "Epoch 11/200\n",
      "3/3 - 11s - loss: 0.2348 - accuracy: 0.6558 - val_loss: 0.2300 - val_accuracy: 0.6519\n",
      "Epoch 12/200\n",
      "3/3 - 11s - loss: 0.2247 - accuracy: 0.6792 - val_loss: 0.2206 - val_accuracy: 0.7025\n",
      "Epoch 13/200\n",
      "3/3 - 11s - loss: 0.2141 - accuracy: 0.6961 - val_loss: 0.2104 - val_accuracy: 0.7152\n",
      "Epoch 14/200\n",
      "3/3 - 11s - loss: 0.2030 - accuracy: 0.7011 - val_loss: 0.2018 - val_accuracy: 0.6962\n",
      "Epoch 15/200\n",
      "3/3 - 10s - loss: 0.1939 - accuracy: 0.7173 - val_loss: 0.2040 - val_accuracy: 0.6646\n",
      "Epoch 16/200\n",
      "3/3 - 11s - loss: 0.1898 - accuracy: 0.7166 - val_loss: 0.1910 - val_accuracy: 0.7152\n",
      "Epoch 17/200\n",
      "3/3 - 11s - loss: 0.1902 - accuracy: 0.7060 - val_loss: 0.2056 - val_accuracy: 0.6772\n",
      "Epoch 18/200\n",
      "3/3 - 11s - loss: 0.1835 - accuracy: 0.7314 - val_loss: 0.1810 - val_accuracy: 0.6772\n",
      "Epoch 19/200\n",
      "3/3 - 10s - loss: 0.1819 - accuracy: 0.7216 - val_loss: 0.2184 - val_accuracy: 0.6646\n",
      "Epoch 20/200\n",
      "3/3 - 11s - loss: 0.1903 - accuracy: 0.6982 - val_loss: 0.2225 - val_accuracy: 0.6519\n",
      "Epoch 21/200\n",
      "3/3 - 10s - loss: 0.1856 - accuracy: 0.7060 - val_loss: 0.1853 - val_accuracy: 0.7278\n",
      "Epoch 22/200\n",
      "3/3 - 10s - loss: 0.1682 - accuracy: 0.7590 - val_loss: 0.1821 - val_accuracy: 0.7089\n",
      "Epoch 23/200\n",
      "3/3 - 10s - loss: 0.1607 - accuracy: 0.7682 - val_loss: 0.1664 - val_accuracy: 0.7658\n",
      "Epoch 24/200\n",
      "3/3 - 10s - loss: 0.1569 - accuracy: 0.7703 - val_loss: 0.1624 - val_accuracy: 0.7658\n",
      "Epoch 25/200\n",
      "3/3 - 10s - loss: 0.1514 - accuracy: 0.7901 - val_loss: 0.1661 - val_accuracy: 0.7278\n",
      "Epoch 26/200\n",
      "3/3 - 10s - loss: 0.1500 - accuracy: 0.7943 - val_loss: 0.1624 - val_accuracy: 0.7911\n",
      "Epoch 27/200\n",
      "3/3 - 10s - loss: 0.1441 - accuracy: 0.7943 - val_loss: 0.1608 - val_accuracy: 0.7342\n",
      "Epoch 28/200\n",
      "3/3 - 10s - loss: 0.1446 - accuracy: 0.8000 - val_loss: 0.1605 - val_accuracy: 0.7278\n",
      "Epoch 29/200\n",
      "3/3 - 10s - loss: 0.1404 - accuracy: 0.8028 - val_loss: 0.1545 - val_accuracy: 0.7911\n",
      "Epoch 30/200\n",
      "3/3 - 11s - loss: 0.1387 - accuracy: 0.8064 - val_loss: 0.1561 - val_accuracy: 0.7848\n",
      "Epoch 31/200\n",
      "3/3 - 11s - loss: 0.1377 - accuracy: 0.8028 - val_loss: 0.1524 - val_accuracy: 0.7658\n",
      "Epoch 32/200\n",
      "3/3 - 11s - loss: 0.1334 - accuracy: 0.8148 - val_loss: 0.1636 - val_accuracy: 0.7532\n",
      "Epoch 33/200\n",
      "3/3 - 12s - loss: 0.1406 - accuracy: 0.7908 - val_loss: 0.1463 - val_accuracy: 0.7911\n",
      "Epoch 34/200\n",
      "3/3 - 11s - loss: 0.1323 - accuracy: 0.8177 - val_loss: 0.1551 - val_accuracy: 0.7785\n",
      "Epoch 35/200\n",
      "3/3 - 11s - loss: 0.1341 - accuracy: 0.8163 - val_loss: 0.1470 - val_accuracy: 0.7975\n",
      "Epoch 36/200\n",
      "3/3 - 11s - loss: 0.1254 - accuracy: 0.8240 - val_loss: 0.1693 - val_accuracy: 0.7532\n",
      "Epoch 37/200\n",
      "3/3 - 10s - loss: 0.1402 - accuracy: 0.7943 - val_loss: 0.1446 - val_accuracy: 0.8038\n",
      "Epoch 38/200\n",
      "3/3 - 10s - loss: 0.1331 - accuracy: 0.8106 - val_loss: 0.1582 - val_accuracy: 0.7658\n",
      "Epoch 39/200\n",
      "3/3 - 10s - loss: 0.1329 - accuracy: 0.8177 - val_loss: 0.1380 - val_accuracy: 0.8038\n",
      "Epoch 40/200\n",
      "3/3 - 11s - loss: 0.1208 - accuracy: 0.8311 - val_loss: 0.1595 - val_accuracy: 0.7658\n",
      "Epoch 41/200\n",
      "3/3 - 11s - loss: 0.1209 - accuracy: 0.8353 - val_loss: 0.1514 - val_accuracy: 0.7785\n",
      "Epoch 42/200\n",
      "3/3 - 10s - loss: 0.1271 - accuracy: 0.8233 - val_loss: 0.1363 - val_accuracy: 0.8038\n",
      "Epoch 43/200\n",
      "3/3 - 11s - loss: 0.1180 - accuracy: 0.8339 - val_loss: 0.1411 - val_accuracy: 0.8101\n",
      "Epoch 44/200\n",
      "3/3 - 10s - loss: 0.1153 - accuracy: 0.8488 - val_loss: 0.1330 - val_accuracy: 0.8228\n",
      "Epoch 45/200\n",
      "3/3 - 11s - loss: 0.1125 - accuracy: 0.8466 - val_loss: 0.1316 - val_accuracy: 0.7975\n",
      "Epoch 46/200\n",
      "3/3 - 10s - loss: 0.1113 - accuracy: 0.8509 - val_loss: 0.1339 - val_accuracy: 0.8165\n",
      "Epoch 47/200\n",
      "3/3 - 11s - loss: 0.1099 - accuracy: 0.8537 - val_loss: 0.1275 - val_accuracy: 0.8228\n",
      "Epoch 48/200\n",
      "3/3 - 11s - loss: 0.1052 - accuracy: 0.8657 - val_loss: 0.1285 - val_accuracy: 0.8291\n",
      "Epoch 49/200\n",
      "3/3 - 10s - loss: 0.1041 - accuracy: 0.8643 - val_loss: 0.1258 - val_accuracy: 0.8228\n",
      "Epoch 50/200\n",
      "3/3 - 10s - loss: 0.1035 - accuracy: 0.8657 - val_loss: 0.1258 - val_accuracy: 0.8228\n",
      "Epoch 51/200\n",
      "3/3 - 10s - loss: 0.1048 - accuracy: 0.8594 - val_loss: 0.1223 - val_accuracy: 0.8291\n",
      "Epoch 52/200\n",
      "3/3 - 11s - loss: 0.1051 - accuracy: 0.8572 - val_loss: 0.1360 - val_accuracy: 0.8165\n",
      "Epoch 53/200\n",
      "3/3 - 10s - loss: 0.1071 - accuracy: 0.8580 - val_loss: 0.1212 - val_accuracy: 0.8418\n",
      "Epoch 54/200\n",
      "3/3 - 11s - loss: 0.0981 - accuracy: 0.8749 - val_loss: 0.1381 - val_accuracy: 0.8038\n",
      "Epoch 55/200\n",
      "3/3 - 11s - loss: 0.1070 - accuracy: 0.8551 - val_loss: 0.1407 - val_accuracy: 0.7975\n",
      "Epoch 56/200\n",
      "3/3 - 11s - loss: 0.1084 - accuracy: 0.8509 - val_loss: 0.1209 - val_accuracy: 0.8354\n",
      "Epoch 57/200\n",
      "3/3 - 11s - loss: 0.1013 - accuracy: 0.8636 - val_loss: 0.1228 - val_accuracy: 0.8418\n",
      "Epoch 58/200\n",
      "3/3 - 11s - loss: 0.0997 - accuracy: 0.8636 - val_loss: 0.1248 - val_accuracy: 0.8418\n",
      "Epoch 59/200\n",
      "3/3 - 11s - loss: 0.0963 - accuracy: 0.8735 - val_loss: 0.1153 - val_accuracy: 0.8418\n",
      "Epoch 60/200\n",
      "3/3 - 11s - loss: 0.0915 - accuracy: 0.8862 - val_loss: 0.1169 - val_accuracy: 0.8544\n",
      "Epoch 61/200\n",
      "3/3 - 11s - loss: 0.0931 - accuracy: 0.8777 - val_loss: 0.1289 - val_accuracy: 0.8228\n",
      "Epoch 62/200\n",
      "3/3 - 10s - loss: 0.0987 - accuracy: 0.8714 - val_loss: 0.1437 - val_accuracy: 0.8038\n",
      "Epoch 63/200\n",
      "3/3 - 11s - loss: 0.1095 - accuracy: 0.8452 - val_loss: 0.1412 - val_accuracy: 0.8038\n",
      "Epoch 64/200\n",
      "3/3 - 10s - loss: 0.1113 - accuracy: 0.8410 - val_loss: 0.1431 - val_accuracy: 0.8038\n",
      "Epoch 65/200\n",
      "3/3 - 11s - loss: 0.1188 - accuracy: 0.8240 - val_loss: 0.1151 - val_accuracy: 0.8481\n",
      "Epoch 66/200\n",
      "3/3 - 11s - loss: 0.1049 - accuracy: 0.8594 - val_loss: 0.1628 - val_accuracy: 0.7658\n",
      "Epoch 67/200\n",
      "3/3 - 11s - loss: 0.1271 - accuracy: 0.8290 - val_loss: 0.1196 - val_accuracy: 0.8418\n",
      "Epoch 68/200\n",
      "3/3 - 11s - loss: 0.1084 - accuracy: 0.8530 - val_loss: 0.1363 - val_accuracy: 0.8038\n",
      "Epoch 69/200\n",
      "3/3 - 10s - loss: 0.1029 - accuracy: 0.8523 - val_loss: 0.1097 - val_accuracy: 0.8544\n",
      "Epoch 70/200\n",
      "3/3 - 11s - loss: 0.0866 - accuracy: 0.8883 - val_loss: 0.1163 - val_accuracy: 0.8481\n",
      "Epoch 71/200\n",
      "3/3 - 10s - loss: 0.0917 - accuracy: 0.8784 - val_loss: 0.1105 - val_accuracy: 0.8544\n",
      "Epoch 72/200\n",
      "3/3 - 11s - loss: 0.0864 - accuracy: 0.8940 - val_loss: 0.1135 - val_accuracy: 0.8608\n",
      "Epoch 73/200\n",
      "3/3 - 11s - loss: 0.0906 - accuracy: 0.8855 - val_loss: 0.1063 - val_accuracy: 0.8608\n",
      "Epoch 74/200\n",
      "3/3 - 11s - loss: 0.0858 - accuracy: 0.8898 - val_loss: 0.1130 - val_accuracy: 0.8418\n",
      "Epoch 75/200\n",
      "3/3 - 11s - loss: 0.0853 - accuracy: 0.8919 - val_loss: 0.1054 - val_accuracy: 0.8608\n",
      "Epoch 76/200\n",
      "3/3 - 11s - loss: 0.0813 - accuracy: 0.8919 - val_loss: 0.1129 - val_accuracy: 0.8608\n",
      "Epoch 77/200\n",
      "3/3 - 12s - loss: 0.0903 - accuracy: 0.8735 - val_loss: 0.1305 - val_accuracy: 0.7975\n",
      "Epoch 78/200\n",
      "3/3 - 11s - loss: 0.1011 - accuracy: 0.8636 - val_loss: 0.1043 - val_accuracy: 0.8608\n",
      "Epoch 79/200\n",
      "3/3 - 10s - loss: 0.0947 - accuracy: 0.8700 - val_loss: 0.1228 - val_accuracy: 0.8418\n",
      "Epoch 80/200\n",
      "3/3 - 11s - loss: 0.0880 - accuracy: 0.8876 - val_loss: 0.1043 - val_accuracy: 0.8608\n",
      "Epoch 81/200\n",
      "3/3 - 11s - loss: 0.0786 - accuracy: 0.8989 - val_loss: 0.1176 - val_accuracy: 0.8544\n",
      "Epoch 82/200\n",
      "3/3 - 11s - loss: 0.0820 - accuracy: 0.8954 - val_loss: 0.1021 - val_accuracy: 0.8608\n",
      "Epoch 83/200\n",
      "3/3 - 11s - loss: 0.0760 - accuracy: 0.9074 - val_loss: 0.1033 - val_accuracy: 0.8797\n",
      "Epoch 84/200\n",
      "3/3 - 11s - loss: 0.0858 - accuracy: 0.8876 - val_loss: 0.1148 - val_accuracy: 0.8418\n",
      "Epoch 85/200\n",
      "3/3 - 11s - loss: 0.0954 - accuracy: 0.8664 - val_loss: 0.1440 - val_accuracy: 0.7848\n",
      "Epoch 86/200\n",
      "3/3 - 11s - loss: 0.1039 - accuracy: 0.8601 - val_loss: 0.1072 - val_accuracy: 0.8671\n",
      "Epoch 87/200\n",
      "3/3 - 11s - loss: 0.0977 - accuracy: 0.8721 - val_loss: 0.1452 - val_accuracy: 0.7911\n",
      "Epoch 88/200\n",
      "3/3 - 11s - loss: 0.0985 - accuracy: 0.8594 - val_loss: 0.1065 - val_accuracy: 0.8671\n",
      "Epoch 89/200\n",
      "3/3 - 11s - loss: 0.0809 - accuracy: 0.8862 - val_loss: 0.1079 - val_accuracy: 0.8544\n",
      "Epoch 90/200\n",
      "3/3 - 11s - loss: 0.0752 - accuracy: 0.9046 - val_loss: 0.1107 - val_accuracy: 0.8608\n",
      "Epoch 91/200\n",
      "3/3 - 11s - loss: 0.0771 - accuracy: 0.9032 - val_loss: 0.1005 - val_accuracy: 0.8797\n",
      "Epoch 92/200\n",
      "3/3 - 11s - loss: 0.0708 - accuracy: 0.9138 - val_loss: 0.1048 - val_accuracy: 0.8608\n",
      "Epoch 93/200\n",
      "3/3 - 11s - loss: 0.0755 - accuracy: 0.9025 - val_loss: 0.1027 - val_accuracy: 0.8608\n",
      "Epoch 94/200\n",
      "3/3 - 11s - loss: 0.0758 - accuracy: 0.9011 - val_loss: 0.0992 - val_accuracy: 0.8608\n",
      "Epoch 95/200\n",
      "3/3 - 10s - loss: 0.0731 - accuracy: 0.9067 - val_loss: 0.1070 - val_accuracy: 0.8671\n",
      "Epoch 96/200\n",
      "3/3 - 11s - loss: 0.0770 - accuracy: 0.9060 - val_loss: 0.1150 - val_accuracy: 0.8481\n",
      "Epoch 97/200\n",
      "3/3 - 11s - loss: 0.0750 - accuracy: 0.8961 - val_loss: 0.0992 - val_accuracy: 0.8544\n",
      "Epoch 98/200\n",
      "3/3 - 11s - loss: 0.0690 - accuracy: 0.9145 - val_loss: 0.1091 - val_accuracy: 0.8481\n",
      "Epoch 99/200\n",
      "3/3 - 11s - loss: 0.0735 - accuracy: 0.9053 - val_loss: 0.0974 - val_accuracy: 0.8671\n",
      "Epoch 100/200\n",
      "3/3 - 11s - loss: 0.0647 - accuracy: 0.9223 - val_loss: 0.0976 - val_accuracy: 0.8671\n",
      "Epoch 101/200\n",
      "3/3 - 11s - loss: 0.0689 - accuracy: 0.9110 - val_loss: 0.0964 - val_accuracy: 0.8861\n",
      "Epoch 102/200\n",
      "3/3 - 11s - loss: 0.0626 - accuracy: 0.9237 - val_loss: 0.0966 - val_accuracy: 0.8671\n",
      "Epoch 103/200\n",
      "3/3 - 10s - loss: 0.0640 - accuracy: 0.9237 - val_loss: 0.0978 - val_accuracy: 0.8671\n",
      "Epoch 104/200\n",
      "3/3 - 10s - loss: 0.0617 - accuracy: 0.9279 - val_loss: 0.1015 - val_accuracy: 0.8734\n",
      "Epoch 105/200\n",
      "3/3 - 11s - loss: 0.0677 - accuracy: 0.9110 - val_loss: 0.1024 - val_accuracy: 0.8797\n",
      "Epoch 106/200\n",
      "3/3 - 10s - loss: 0.0624 - accuracy: 0.9230 - val_loss: 0.0954 - val_accuracy: 0.8861\n",
      "Epoch 107/200\n",
      "3/3 - 10s - loss: 0.0596 - accuracy: 0.9265 - val_loss: 0.0944 - val_accuracy: 0.8861\n",
      "Epoch 108/200\n",
      "3/3 - 11s - loss: 0.0617 - accuracy: 0.9216 - val_loss: 0.0954 - val_accuracy: 0.8924\n",
      "Epoch 109/200\n",
      "3/3 - 11s - loss: 0.0790 - accuracy: 0.8961 - val_loss: 0.0964 - val_accuracy: 0.8924\n",
      "Epoch 110/200\n",
      "3/3 - 11s - loss: 0.0702 - accuracy: 0.9145 - val_loss: 0.0935 - val_accuracy: 0.8734\n",
      "Epoch 111/200\n",
      "3/3 - 11s - loss: 0.0885 - accuracy: 0.8827 - val_loss: 0.1239 - val_accuracy: 0.8228\n",
      "Epoch 112/200\n",
      "3/3 - 10s - loss: 0.1134 - accuracy: 0.8403 - val_loss: 0.1590 - val_accuracy: 0.7658\n",
      "Epoch 113/200\n",
      "3/3 - 11s - loss: 0.1311 - accuracy: 0.8212 - val_loss: 0.0943 - val_accuracy: 0.8861\n",
      "Epoch 114/200\n",
      "3/3 - 11s - loss: 0.0956 - accuracy: 0.8742 - val_loss: 0.1688 - val_accuracy: 0.7595\n",
      "Epoch 115/200\n",
      "3/3 - 11s - loss: 0.1005 - accuracy: 0.8587 - val_loss: 0.0961 - val_accuracy: 0.8608\n",
      "Epoch 116/200\n",
      "3/3 - 11s - loss: 0.0899 - accuracy: 0.8770 - val_loss: 0.1248 - val_accuracy: 0.8544\n",
      "Epoch 117/200\n",
      "3/3 - 10s - loss: 0.0864 - accuracy: 0.8777 - val_loss: 0.0931 - val_accuracy: 0.8861\n",
      "Epoch 118/200\n",
      "3/3 - 11s - loss: 0.0695 - accuracy: 0.9102 - val_loss: 0.1074 - val_accuracy: 0.8608\n",
      "Epoch 119/200\n",
      "3/3 - 11s - loss: 0.0666 - accuracy: 0.9180 - val_loss: 0.0941 - val_accuracy: 0.8608\n",
      "Epoch 120/200\n",
      "3/3 - 11s - loss: 0.0613 - accuracy: 0.9265 - val_loss: 0.0890 - val_accuracy: 0.8861\n",
      "Epoch 121/200\n",
      "3/3 - 11s - loss: 0.0571 - accuracy: 0.9322 - val_loss: 0.0910 - val_accuracy: 0.8861\n",
      "Epoch 122/200\n",
      "3/3 - 10s - loss: 0.0567 - accuracy: 0.9314 - val_loss: 0.0917 - val_accuracy: 0.8671\n",
      "Epoch 123/200\n",
      "3/3 - 11s - loss: 0.0590 - accuracy: 0.9272 - val_loss: 0.0957 - val_accuracy: 0.8608\n",
      "Epoch 124/200\n",
      "3/3 - 10s - loss: 0.0623 - accuracy: 0.9173 - val_loss: 0.0899 - val_accuracy: 0.8924\n",
      "Epoch 125/200\n",
      "3/3 - 10s - loss: 0.0606 - accuracy: 0.9251 - val_loss: 0.1115 - val_accuracy: 0.8481\n",
      "Epoch 126/200\n",
      "3/3 - 11s - loss: 0.0723 - accuracy: 0.9032 - val_loss: 0.0979 - val_accuracy: 0.8924\n",
      "Epoch 127/200\n",
      "3/3 - 11s - loss: 0.0688 - accuracy: 0.9145 - val_loss: 0.0986 - val_accuracy: 0.8608\n",
      "Epoch 128/200\n",
      "3/3 - 10s - loss: 0.0726 - accuracy: 0.8989 - val_loss: 0.1230 - val_accuracy: 0.8418\n",
      "Epoch 129/200\n",
      "3/3 - 11s - loss: 0.1005 - accuracy: 0.8594 - val_loss: 0.0979 - val_accuracy: 0.8924\n",
      "Epoch 130/200\n",
      "3/3 - 10s - loss: 0.0825 - accuracy: 0.8926 - val_loss: 0.1539 - val_accuracy: 0.7785\n",
      "Epoch 131/200\n",
      "3/3 - 10s - loss: 0.1164 - accuracy: 0.8332 - val_loss: 0.1305 - val_accuracy: 0.8291\n",
      "Epoch 132/200\n",
      "3/3 - 11s - loss: 0.0996 - accuracy: 0.8594 - val_loss: 0.0950 - val_accuracy: 0.8608\n",
      "Epoch 133/200\n",
      "3/3 - 11s - loss: 0.0723 - accuracy: 0.9039 - val_loss: 0.1457 - val_accuracy: 0.7848\n",
      "Epoch 134/200\n",
      "3/3 - 11s - loss: 0.0918 - accuracy: 0.8763 - val_loss: 0.1131 - val_accuracy: 0.8418\n",
      "Epoch 135/200\n",
      "3/3 - 11s - loss: 0.0825 - accuracy: 0.8834 - val_loss: 0.0892 - val_accuracy: 0.8671\n",
      "Epoch 136/200\n",
      "3/3 - 11s - loss: 0.0723 - accuracy: 0.9060 - val_loss: 0.1289 - val_accuracy: 0.8228\n",
      "Epoch 137/200\n",
      "3/3 - 10s - loss: 0.0759 - accuracy: 0.9011 - val_loss: 0.0993 - val_accuracy: 0.8608\n",
      "Epoch 138/200\n",
      "3/3 - 11s - loss: 0.0683 - accuracy: 0.9124 - val_loss: 0.0866 - val_accuracy: 0.8924\n",
      "Epoch 139/200\n",
      "3/3 - 12s - loss: 0.0603 - accuracy: 0.9251 - val_loss: 0.0922 - val_accuracy: 0.9051\n",
      "Epoch 140/200\n",
      "3/3 - 11s - loss: 0.0557 - accuracy: 0.9314 - val_loss: 0.0853 - val_accuracy: 0.8734\n",
      "Epoch 141/200\n",
      "3/3 - 11s - loss: 0.0532 - accuracy: 0.9336 - val_loss: 0.0864 - val_accuracy: 0.8924\n",
      "Epoch 142/200\n",
      "3/3 - 11s - loss: 0.0513 - accuracy: 0.9371 - val_loss: 0.0852 - val_accuracy: 0.8861\n",
      "Epoch 143/200\n",
      "3/3 - 12s - loss: 0.0520 - accuracy: 0.9378 - val_loss: 0.0854 - val_accuracy: 0.8924\n",
      "Epoch 144/200\n",
      "3/3 - 11s - loss: 0.0500 - accuracy: 0.9435 - val_loss: 0.0855 - val_accuracy: 0.8861\n",
      "Epoch 145/200\n",
      "3/3 - 11s - loss: 0.0510 - accuracy: 0.9428 - val_loss: 0.0866 - val_accuracy: 0.8924\n",
      "Epoch 146/200\n",
      "3/3 - 11s - loss: 0.0526 - accuracy: 0.9357 - val_loss: 0.0859 - val_accuracy: 0.8797\n",
      "Epoch 147/200\n",
      "3/3 - 11s - loss: 0.0502 - accuracy: 0.9413 - val_loss: 0.0854 - val_accuracy: 0.8987\n",
      "Epoch 148/200\n",
      "3/3 - 10s - loss: 0.0481 - accuracy: 0.9456 - val_loss: 0.0855 - val_accuracy: 0.8797\n",
      "Epoch 149/200\n",
      "3/3 - 11s - loss: 0.0504 - accuracy: 0.9364 - val_loss: 0.0844 - val_accuracy: 0.8797\n",
      "Epoch 150/200\n",
      "3/3 - 11s - loss: 0.0480 - accuracy: 0.9392 - val_loss: 0.0830 - val_accuracy: 0.8861\n",
      "Epoch 151/200\n",
      "3/3 - 10s - loss: 0.0493 - accuracy: 0.9413 - val_loss: 0.0934 - val_accuracy: 0.8861\n",
      "Epoch 152/200\n",
      "3/3 - 11s - loss: 0.0521 - accuracy: 0.9314 - val_loss: 0.0890 - val_accuracy: 0.8924\n",
      "Epoch 153/200\n",
      "3/3 - 11s - loss: 0.0498 - accuracy: 0.9385 - val_loss: 0.0868 - val_accuracy: 0.8987\n",
      "Epoch 154/200\n",
      "3/3 - 11s - loss: 0.0490 - accuracy: 0.9371 - val_loss: 0.0857 - val_accuracy: 0.8987\n",
      "Epoch 155/200\n",
      "3/3 - 11s - loss: 0.0497 - accuracy: 0.9357 - val_loss: 0.0819 - val_accuracy: 0.8924\n",
      "Epoch 156/200\n",
      "3/3 - 11s - loss: 0.0554 - accuracy: 0.9286 - val_loss: 0.0974 - val_accuracy: 0.8608\n",
      "Epoch 157/200\n",
      "3/3 - 11s - loss: 0.0638 - accuracy: 0.9173 - val_loss: 0.1095 - val_accuracy: 0.8418\n",
      "Epoch 158/200\n",
      "3/3 - 12s - loss: 0.0808 - accuracy: 0.8862 - val_loss: 0.0825 - val_accuracy: 0.8797\n",
      "Epoch 159/200\n",
      "3/3 - 11s - loss: 0.0584 - accuracy: 0.9251 - val_loss: 0.1071 - val_accuracy: 0.8544\n",
      "Epoch 160/200\n",
      "3/3 - 10s - loss: 0.0628 - accuracy: 0.9159 - val_loss: 0.0802 - val_accuracy: 0.8861\n",
      "Epoch 161/200\n",
      "3/3 - 10s - loss: 0.0646 - accuracy: 0.9131 - val_loss: 0.1026 - val_accuracy: 0.8797\n",
      "Epoch 162/200\n",
      "3/3 - 10s - loss: 0.0598 - accuracy: 0.9223 - val_loss: 0.0823 - val_accuracy: 0.8734\n",
      "Epoch 163/200\n",
      "3/3 - 11s - loss: 0.0527 - accuracy: 0.9364 - val_loss: 0.0906 - val_accuracy: 0.8861\n",
      "Epoch 164/200\n",
      "3/3 - 11s - loss: 0.0527 - accuracy: 0.9322 - val_loss: 0.0870 - val_accuracy: 0.8924\n",
      "Epoch 165/200\n",
      "3/3 - 11s - loss: 0.0486 - accuracy: 0.9385 - val_loss: 0.0790 - val_accuracy: 0.9051\n",
      "Epoch 166/200\n",
      "3/3 - 11s - loss: 0.0447 - accuracy: 0.9428 - val_loss: 0.0809 - val_accuracy: 0.8924\n",
      "Epoch 167/200\n",
      "3/3 - 12s - loss: 0.0461 - accuracy: 0.9413 - val_loss: 0.0789 - val_accuracy: 0.8861\n",
      "Epoch 168/200\n",
      "3/3 - 11s - loss: 0.0422 - accuracy: 0.9505 - val_loss: 0.0785 - val_accuracy: 0.8987\n",
      "Epoch 169/200\n",
      "3/3 - 11s - loss: 0.0407 - accuracy: 0.9519 - val_loss: 0.0782 - val_accuracy: 0.9051\n",
      "Epoch 170/200\n",
      "3/3 - 11s - loss: 0.0426 - accuracy: 0.9527 - val_loss: 0.0792 - val_accuracy: 0.9051\n",
      "Epoch 171/200\n",
      "3/3 - 12s - loss: 0.0471 - accuracy: 0.9406 - val_loss: 0.1033 - val_accuracy: 0.8671\n",
      "Epoch 172/200\n",
      "3/3 - 11s - loss: 0.0705 - accuracy: 0.9018 - val_loss: 0.1261 - val_accuracy: 0.8544\n",
      "Epoch 173/200\n",
      "3/3 - 11s - loss: 0.0675 - accuracy: 0.9138 - val_loss: 0.0968 - val_accuracy: 0.8671\n",
      "Epoch 174/200\n",
      "3/3 - 12s - loss: 0.0668 - accuracy: 0.9124 - val_loss: 0.0981 - val_accuracy: 0.8734\n",
      "Epoch 175/200\n",
      "3/3 - 11s - loss: 0.0690 - accuracy: 0.9053 - val_loss: 0.0869 - val_accuracy: 0.8734\n",
      "Epoch 176/200\n",
      "3/3 - 12s - loss: 0.0818 - accuracy: 0.8898 - val_loss: 0.0940 - val_accuracy: 0.8861\n",
      "Epoch 177/200\n",
      "3/3 - 12s - loss: 0.0749 - accuracy: 0.8996 - val_loss: 0.1100 - val_accuracy: 0.8608\n",
      "Epoch 178/200\n",
      "3/3 - 11s - loss: 0.0605 - accuracy: 0.9180 - val_loss: 0.0808 - val_accuracy: 0.8861\n",
      "Epoch 179/200\n",
      "3/3 - 11s - loss: 0.0447 - accuracy: 0.9470 - val_loss: 0.0806 - val_accuracy: 0.8861\n",
      "Epoch 180/200\n",
      "3/3 - 11s - loss: 0.0481 - accuracy: 0.9392 - val_loss: 0.0748 - val_accuracy: 0.9114\n",
      "Epoch 181/200\n",
      "3/3 - 11s - loss: 0.0404 - accuracy: 0.9505 - val_loss: 0.0767 - val_accuracy: 0.9051\n",
      "Epoch 182/200\n",
      "3/3 - 11s - loss: 0.0386 - accuracy: 0.9534 - val_loss: 0.0831 - val_accuracy: 0.8924\n",
      "Epoch 183/200\n",
      "3/3 - 11s - loss: 0.0440 - accuracy: 0.9470 - val_loss: 0.0803 - val_accuracy: 0.8924\n",
      "Epoch 184/200\n",
      "3/3 - 11s - loss: 0.0489 - accuracy: 0.9371 - val_loss: 0.0799 - val_accuracy: 0.9051\n",
      "Epoch 185/200\n",
      "3/3 - 11s - loss: 0.0398 - accuracy: 0.9541 - val_loss: 0.0835 - val_accuracy: 0.8924\n",
      "Epoch 186/200\n",
      "3/3 - 11s - loss: 0.0444 - accuracy: 0.9449 - val_loss: 0.0735 - val_accuracy: 0.8987\n",
      "Epoch 187/200\n",
      "3/3 - 11s - loss: 0.0441 - accuracy: 0.9463 - val_loss: 0.0825 - val_accuracy: 0.8924\n",
      "Epoch 188/200\n",
      "3/3 - 11s - loss: 0.0484 - accuracy: 0.9371 - val_loss: 0.0784 - val_accuracy: 0.8924\n",
      "Epoch 189/200\n",
      "3/3 - 11s - loss: 0.0419 - accuracy: 0.9505 - val_loss: 0.0779 - val_accuracy: 0.8987\n",
      "Epoch 190/200\n",
      "3/3 - 11s - loss: 0.0487 - accuracy: 0.9371 - val_loss: 0.0807 - val_accuracy: 0.9051\n",
      "Epoch 191/200\n",
      "3/3 - 11s - loss: 0.0451 - accuracy: 0.9449 - val_loss: 0.0926 - val_accuracy: 0.8861\n",
      "Epoch 192/200\n",
      "3/3 - 11s - loss: 0.0431 - accuracy: 0.9428 - val_loss: 0.0777 - val_accuracy: 0.8924\n",
      "Epoch 193/200\n",
      "3/3 - 11s - loss: 0.0409 - accuracy: 0.9512 - val_loss: 0.0826 - val_accuracy: 0.8924\n",
      "Epoch 194/200\n",
      "3/3 - 11s - loss: 0.0457 - accuracy: 0.9413 - val_loss: 0.0744 - val_accuracy: 0.9114\n",
      "Epoch 195/200\n",
      "3/3 - 11s - loss: 0.0514 - accuracy: 0.9343 - val_loss: 0.0887 - val_accuracy: 0.8797\n",
      "Epoch 196/200\n",
      "3/3 - 11s - loss: 0.0708 - accuracy: 0.9124 - val_loss: 0.1191 - val_accuracy: 0.8481\n",
      "Epoch 197/200\n",
      "3/3 - 11s - loss: 0.0620 - accuracy: 0.9138 - val_loss: 0.0751 - val_accuracy: 0.9114\n",
      "Epoch 198/200\n",
      "3/3 - 11s - loss: 0.0409 - accuracy: 0.9512 - val_loss: 0.0835 - val_accuracy: 0.8861\n",
      "Epoch 199/200\n",
      "3/3 - 11s - loss: 0.0469 - accuracy: 0.9406 - val_loss: 0.0754 - val_accuracy: 0.9051\n",
      "Epoch 200/200\n",
      "3/3 - 11s - loss: 0.0387 - accuracy: 0.9555 - val_loss: 0.0773 - val_accuracy: 0.9051\n"
     ]
    }
   ],
   "source": [
    "epoch = 200\n",
    "batchS = 500\n",
    "\n",
    "history = model.fit(np.array(data[:data_train_size]), np.array(target[:target_train_size]), epochs=epoch,\n",
    "                    validation_data=(np.array(data[data_train_size:]), np.array(target[target_train_size:])),\n",
    "                    batch_size=batchS, verbose=2)"
   ],
   "metadata": {
    "collapsed": false,
    "pycharm": {
     "name": "#%%\n"
    }
   }
  },
  {
   "cell_type": "markdown",
   "source": [
    "## Model Evaluation"
   ],
   "metadata": {
    "collapsed": false,
    "pycharm": {
     "name": "#%% md\n"
    }
   }
  },
  {
   "cell_type": "code",
   "execution_count": 29,
   "outputs": [
    {
     "name": "stdout",
     "output_type": "stream",
     "text": [
      "13/13 [==============================] - 6s 500ms/step - loss: 0.0512 - accuracy: 0.9415\n"
     ]
    }
   ],
   "source": [
    "result = model.evaluate(np.array(data_test), np.array(target_test))"
   ],
   "metadata": {
    "collapsed": false,
    "pycharm": {
     "name": "#%%\n"
    }
   }
  },
  {
   "cell_type": "code",
   "execution_count": 30,
   "outputs": [
    {
     "name": "stdout",
     "output_type": "stream",
     "text": [
      "loss 0.0512305311858654\n",
      "accuracy 0.9414758086204529\n"
     ]
    }
   ],
   "source": [
    "for name, value in zip(model.metrics_names, result):\n",
    "    print(name, value)"
   ],
   "metadata": {
    "collapsed": false,
    "pycharm": {
     "name": "#%%\n"
    }
   }
  },
  {
   "cell_type": "code",
   "execution_count": 31,
   "outputs": [
    {
     "name": "stderr",
     "output_type": "stream",
     "text": [
      "The PostScript backend does not support transparency; partially transparent artists will be rendered opaque.\n"
     ]
    },
    {
     "data": {
      "text/plain": "<Figure size 432x288 with 1 Axes>",
      "image/png": "[encoded data removed]"
     },
     "metadata": {
      "needs_background": "light"
     },
     "output_type": "display_data"
    },
    {
     "name": "stderr",
     "output_type": "stream",
     "text": [
      "The PostScript backend does not support transparency; partially transparent artists will be rendered opaque.\n"
     ]
    },
    {
     "data": {
      "text/plain": "<Figure size 432x288 with 1 Axes>",
      "image/png": "[encoded data removed]"
     },
     "metadata": {
      "needs_background": "light"
     },
     "output_type": "display_data"
    }
   ],
   "source": [
    "plt.plot(history.history['accuracy'])\n",
    "plt.plot(history.history['val_accuracy'])\n",
    "plt.title('model accuracy')\n",
    "plt.ylabel('accuracy')\n",
    "plt.xlabel('epoch')\n",
    "plt.legend(['train', 'validation'], loc='upper left')\n",
    "plt.savefig('destination_path.eps', format='eps', dpi=1000)\n",
    "plt.show()\n",
    "# summarize history for loss\n",
    "plt.plot(history.history['loss'])\n",
    "plt.plot(history.history['val_loss'])\n",
    "plt.title('model loss')\n",
    "plt.ylabel('loss')\n",
    "plt.xlabel('epoch')\n",
    "plt.legend(['train', 'validation'], loc='upper left')\n",
    "plt.savefig('destination_path1.eps', format='eps', dpi=1000)\n",
    "plt.show()"
   ],
   "metadata": {
    "collapsed": false,
    "pycharm": {
     "name": "#%%\n"
    }
   }
  },
  {
   "cell_type": "code",
   "execution_count": 32,
   "outputs": [
    {
     "name": "stdout",
     "output_type": "stream",
     "text": [
      "INFO:tensorflow:Assets written to: saved_model_v5\\assets\n"
     ]
    }
   ],
   "source": [
    "model.save(\"saved_model_v5\")"
   ],
   "metadata": {
    "collapsed": false,
    "pycharm": {
     "name": "#%%\n"
    }
   }
  },
  {
   "cell_type": "code",
   "execution_count": 32,
   "outputs": [
    {
     "data": {
      "text/plain": "{'loss': [0.3649003207683563,\n  0.33536845445632935,\n  0.28246015310287476,\n  0.25295203924179077,\n  0.2602084279060364,\n  0.2553136944770813,\n  0.25025591254234314,\n  0.2531472444534302,\n  0.249786376953125,\n  0.24945837259292603,\n  0.25140437483787537,\n  0.24975797533988953,\n  0.24884352087974548,\n  0.24859915673732758,\n  0.24738812446594238,\n  0.24689172208309174,\n  0.24683047831058502,\n  0.24468179047107697,\n  0.2446756660938263,\n  0.24230501055717468,\n  0.24071818590164185,\n  0.2373368740081787,\n  0.23440669476985931,\n  0.2290365993976593,\n  0.22530241310596466,\n  0.2225881814956665,\n  0.21353010833263397,\n  0.20587396621704102,\n  0.2005361169576645,\n  0.19981569051742554,\n  0.18932142853736877,\n  0.18875835835933685,\n  0.1821068525314331,\n  0.18258629739284515,\n  0.1754850596189499,\n  0.17172777652740479,\n  0.16061024367809296,\n  0.18387050926685333,\n  0.17236891388893127,\n  0.15612567961215973,\n  0.1548888236284256,\n  0.1520547717809677,\n  0.14467304944992065,\n  0.1505732387304306,\n  0.14637349545955658,\n  0.1502298265695572,\n  0.14788489043712616,\n  0.1432735025882721,\n  0.1381545066833496,\n  0.13781511783599854,\n  0.1361299306154251,\n  0.1345522701740265,\n  0.136596217751503,\n  0.14108677208423615,\n  0.12974469363689423,\n  0.1235954612493515,\n  0.12382080405950546,\n  0.12431414425373077,\n  0.1226297989487648,\n  0.12464752048254013,\n  0.12129974365234375,\n  0.12383933365345001,\n  0.1258067637681961,\n  0.11893349885940552,\n  0.11404632776975632,\n  0.1117205023765564,\n  0.11553771048784256,\n  0.1147136241197586,\n  0.11729077994823456,\n  0.1319316178560257,\n  0.13926765322685242,\n  0.13278643786907196,\n  0.12623655796051025,\n  0.12039510160684586,\n  0.1181294173002243,\n  0.12885351479053497,\n  0.11949458718299866,\n  0.11277765035629272,\n  0.11339298635721207,\n  0.11164189875125885,\n  0.11216111481189728,\n  0.10628755390644073,\n  0.11244628578424454,\n  0.1046748235821724,\n  0.10006739944219589,\n  0.09946303069591522,\n  0.09837300330400467,\n  0.09587874263525009,\n  0.09928736090660095,\n  0.09863251447677612,\n  0.10259535908699036,\n  0.09994775056838989,\n  0.09700313210487366,\n  0.09491834789514542,\n  0.09208690375089645,\n  0.09207897633314133,\n  0.09064280241727829,\n  0.09512041509151459,\n  0.09365811198949814,\n  0.09229207038879395,\n  0.08768852800130844,\n  0.08752240240573883,\n  0.08668284118175507,\n  0.08720743656158447,\n  0.08216896653175354,\n  0.08271662145853043,\n  0.08845921605825424,\n  0.08563343435525894,\n  0.08170530945062637,\n  0.08181867748498917,\n  0.08394452929496765,\n  0.0976807251572609,\n  0.0787079855799675,\n  0.08367885649204254,\n  0.07982766628265381,\n  0.07644972205162048,\n  0.07491368055343628,\n  0.08015673607587814,\n  0.07184267044067383,\n  0.07146196812391281,\n  0.07955887913703918,\n  0.09886197000741959,\n  0.08655695617198944,\n  0.07060164213180542,\n  0.06881427764892578,\n  0.06907638907432556,\n  0.07419895380735397,\n  0.06938530504703522,\n  0.07270091027021408,\n  0.10824546217918396,\n  0.07976476848125458,\n  0.0714007094502449,\n  0.07819825410842896,\n  0.06460452079772949,\n  0.06739981472492218,\n  0.08363022655248642,\n  0.09134024381637573,\n  0.08407460898160934,\n  0.07479025423526764,\n  0.07805574685335159,\n  0.07250625640153885,\n  0.0729123130440712,\n  0.07618535310029984,\n  0.06520815193653107,\n  0.06684841215610504,\n  0.06015736982226372,\n  0.06034480407834053,\n  0.0567932091653347,\n  0.05660153552889824,\n  0.058080337941646576,\n  0.06523436307907104,\n  0.05511375889182091,\n  0.06175023317337036,\n  0.053761452436447144,\n  0.05297967419028282,\n  0.05280439928174019,\n  0.05380791798233986,\n  0.05150067061185837,\n  0.05103233829140663,\n  0.0538676455616951,\n  0.05097237601876259,\n  0.04911165311932564,\n  0.04924757033586502,\n  0.04991165176033974,\n  0.06486300379037857,\n  0.10922481119632721,\n  0.0648316890001297,\n  0.06427755951881409,\n  0.06864622980356216,\n  0.08125009387731552,\n  0.08567436784505844,\n  0.08189798891544342,\n  0.07686324417591095,\n  0.09427831321954727,\n  0.09521172940731049,\n  0.061995889991521835,\n  0.08447927981615067,\n  0.06687887758016586,\n  0.06735365837812424,\n  0.055176157504320145,\n  0.05696934834122658,\n  0.05618890002369881,\n  0.05335468426346779,\n  0.05194684490561485,\n  0.04414508119225502,\n  0.04387226328253746,\n  0.043040793389081955,\n  0.04276137426495552,\n  0.04285741597414017,\n  0.042040180414915085,\n  0.04573531448841095,\n  0.04746977612376213,\n  0.043404266238212585,\n  0.040969740599393845,\n  0.040711741894483566,\n  0.03985415771603584,\n  0.03897823765873909,\n  0.04050910472869873,\n  0.03992105647921562,\n  0.03787904232740402],\n 'accuracy': [0.47333332896232605,\n  0.518666684627533,\n  0.48133334517478943,\n  0.5026666522026062,\n  0.518666684627533,\n  0.518666684627533,\n  0.5080000162124634,\n  0.48133334517478943,\n  0.5266666412353516,\n  0.518666684627533,\n  0.518666684627533,\n  0.518666684627533,\n  0.5106666684150696,\n  0.48399999737739563,\n  0.6293333172798157,\n  0.518666684627533,\n  0.518666684627533,\n  0.5759999752044678,\n  0.6106666922569275,\n  0.656000018119812,\n  0.5559999942779541,\n  0.6266666650772095,\n  0.6919999718666077,\n  0.6866666674613953,\n  0.6546666622161865,\n  0.6600000262260437,\n  0.7093333601951599,\n  0.6973333358764648,\n  0.7053333520889282,\n  0.7093333601951599,\n  0.7226666808128357,\n  0.7279999852180481,\n  0.7279999852180481,\n  0.7333333492279053,\n  0.737333357334137,\n  0.7306666374206543,\n  0.7706666588783264,\n  0.7279999852180481,\n  0.7493333220481873,\n  0.7746666669845581,\n  0.7693333625793457,\n  0.7826666831970215,\n  0.8040000200271606,\n  0.7906666398048401,\n  0.8013333082199097,\n  0.7973333597183228,\n  0.7839999794960022,\n  0.8026666641235352,\n  0.7986666560173035,\n  0.8199999928474426,\n  0.8066666722297668,\n  0.809333324432373,\n  0.8226666450500488,\n  0.7906666398048401,\n  0.8186666369438171,\n  0.8333333134651184,\n  0.8293333053588867,\n  0.8333333134651184,\n  0.828000009059906,\n  0.8333333134651184,\n  0.8333333134651184,\n  0.8293333053588867,\n  0.8133333325386047,\n  0.8386666774749756,\n  0.8399999737739563,\n  0.8560000061988831,\n  0.8426666855812073,\n  0.8360000252723694,\n  0.843999981880188,\n  0.8066666722297668,\n  0.8133333325386047,\n  0.8133333325386047,\n  0.8333333134651184,\n  0.843999981880188,\n  0.8320000171661377,\n  0.8199999928474426,\n  0.8306666612625122,\n  0.8519999980926514,\n  0.8413333296775818,\n  0.8533333539962769,\n  0.843999981880188,\n  0.8666666746139526,\n  0.846666693687439,\n  0.8573333621025085,\n  0.8759999871253967,\n  0.8586666584014893,\n  0.8733333349227905,\n  0.8773333430290222,\n  0.8653333187103271,\n  0.8799999952316284,\n  0.8506666421890259,\n  0.8786666393280029,\n  0.8653333187103271,\n  0.8826666474342346,\n  0.8786666393280029,\n  0.874666690826416,\n  0.8893333077430725,\n  0.8653333187103271,\n  0.8840000033378601,\n  0.874666690826416,\n  0.8880000114440918,\n  0.8880000114440918,\n  0.8986666798591614,\n  0.8893333077430725,\n  0.8986666798591614,\n  0.8920000195503235,\n  0.8933333158493042,\n  0.8920000195503235,\n  0.8960000276565552,\n  0.9039999842643738,\n  0.8813333511352539,\n  0.8640000224113464,\n  0.9013333320617676,\n  0.8973333239555359,\n  0.8973333239555359,\n  0.9026666879653931,\n  0.9106666445732117,\n  0.8880000114440918,\n  0.9160000085830688,\n  0.9160000085830688,\n  0.8960000276565552,\n  0.8640000224113464,\n  0.8799999952316284,\n  0.9160000085830688,\n  0.9133333563804626,\n  0.9173333048820496,\n  0.9053333401679993,\n  0.9160000085830688,\n  0.9133333563804626,\n  0.8413333296775818,\n  0.8999999761581421,\n  0.9120000004768372,\n  0.8920000195503235,\n  0.9253333210945129,\n  0.909333348274231,\n  0.874666690826416,\n  0.8640000224113464,\n  0.8799999952316284,\n  0.8986666798591614,\n  0.8986666798591614,\n  0.9106666445732117,\n  0.9053333401679993,\n  0.8986666798591614,\n  0.918666660785675,\n  0.9146666526794434,\n  0.9293333292007446,\n  0.9253333210945129,\n  0.9306666851043701,\n  0.9306666851043701,\n  0.9333333373069763,\n  0.9200000166893005,\n  0.937333345413208,\n  0.9279999732971191,\n  0.9359999895095825,\n  0.937333345413208,\n  0.937333345413208,\n  0.9359999895095825,\n  0.9386666417121887,\n  0.9386666417121887,\n  0.937333345413208,\n  0.9386666417121887,\n  0.9426666498184204,\n  0.9413333535194397,\n  0.9440000057220459,\n  0.9079999923706055,\n  0.843999981880188,\n  0.9160000085830688,\n  0.9133333563804626,\n  0.909333348274231,\n  0.8840000033378601,\n  0.8840000033378601,\n  0.8866666555404663,\n  0.8999999761581421,\n  0.8600000143051147,\n  0.8693333268165588,\n  0.9253333210945129,\n  0.8840000033378601,\n  0.9173333048820496,\n  0.9133333563804626,\n  0.9293333292007446,\n  0.9319999814033508,\n  0.9306666851043701,\n  0.9293333292007446,\n  0.937333345413208,\n  0.9426666498184204,\n  0.9426666498184204,\n  0.9480000138282776,\n  0.9493333101272583,\n  0.9493333101272583,\n  0.9480000138282776,\n  0.9453333616256714,\n  0.9440000057220459,\n  0.9466666579246521,\n  0.9546666741371155,\n  0.9506666660308838,\n  0.9520000219345093,\n  0.9520000219345093,\n  0.9546666741371155,\n  0.9520000219345093,\n  0.9559999704360962],\n 'val_loss': [0.3878905177116394,\n  0.2752539813518524,\n  0.2528795599937439,\n  0.26513609290122986,\n  0.2613094449043274,\n  0.24973157048225403,\n  0.25121837854385376,\n  0.2497866004705429,\n  0.2507432997226715,\n  0.25502604246139526,\n  0.2528952658176422,\n  0.2492261528968811,\n  0.24842919409275055,\n  0.24802473187446594,\n  0.24886220693588257,\n  0.2493419200181961,\n  0.2470463067293167,\n  0.2450186312198639,\n  0.24343545734882355,\n  0.24316301941871643,\n  0.24126537144184113,\n  0.2368135154247284,\n  0.2340727597475052,\n  0.23356854915618896,\n  0.22589915990829468,\n  0.218938410282135,\n  0.21671566367149353,\n  0.21269023418426514,\n  0.21758776903152466,\n  0.20303665101528168,\n  0.20777195692062378,\n  0.19512511789798737,\n  0.19912166893482208,\n  0.18907737731933594,\n  0.18697239458560944,\n  0.1894335299730301,\n  0.21506516635417938,\n  0.1974869668483734,\n  0.17724758386611938,\n  0.17654553055763245,\n  0.17566318809986115,\n  0.17249314486980438,\n  0.17928676307201385,\n  0.1738530397415161,\n  0.1753474920988083,\n  0.17223994433879852,\n  0.1606191247701645,\n  0.15836958587169647,\n  0.16120919585227966,\n  0.1627226620912552,\n  0.16854509711265564,\n  0.17067044973373413,\n  0.1744428128004074,\n  0.1585477888584137,\n  0.1533501297235489,\n  0.15575002133846283,\n  0.15626534819602966,\n  0.15553709864616394,\n  0.1574019193649292,\n  0.15255895256996155,\n  0.15359772741794586,\n  0.1590392291545868,\n  0.15012682974338531,\n  0.14661568403244019,\n  0.1471710056066513,\n  0.15264882147312164,\n  0.15394362807273865,\n  0.15786004066467285,\n  0.17623375356197357,\n  0.18009422719478607,\n  0.15930292010307312,\n  0.14858931303024292,\n  0.1424427330493927,\n  0.15500016510486603,\n  0.17224659025669098,\n  0.1642753779888153,\n  0.14948897063732147,\n  0.144322469830513,\n  0.1399228721857071,\n  0.1410408467054367,\n  0.14783860743045807,\n  0.15326449275016785,\n  0.14595550298690796,\n  0.1393226683139801,\n  0.13987229764461517,\n  0.1374683529138565,\n  0.13692991435527802,\n  0.1431339532136917,\n  0.13934586942195892,\n  0.14395743608474731,\n  0.14059142768383026,\n  0.1356235146522522,\n  0.13470140099525452,\n  0.13516701757907867,\n  0.13696637749671936,\n  0.1379874050617218,\n  0.14472702145576477,\n  0.1414613425731659,\n  0.13998690247535706,\n  0.13526365160942078,\n  0.1371152102947235,\n  0.13554729521274567,\n  0.13496431708335876,\n  0.1316283792257309,\n  0.13511773943901062,\n  0.13803836703300476,\n  0.13326194882392883,\n  0.13282768428325653,\n  0.13307033479213715,\n  0.14140132069587708,\n  0.15282809734344482,\n  0.1364578753709793,\n  0.13789349794387817,\n  0.13292407989501953,\n  0.1341334581375122,\n  0.13048024475574493,\n  0.1413179636001587,\n  0.12939144670963287,\n  0.13051410019397736,\n  0.14223317801952362,\n  0.16790255904197693,\n  0.137388676404953,\n  0.12934266030788422,\n  0.12943197786808014,\n  0.12891967594623566,\n  0.140831857919693,\n  0.12831996381282806,\n  0.1363598257303238,\n  0.17396117746829987,\n  0.13350868225097656,\n  0.12890295684337616,\n  0.15013962984085083,\n  0.13013800978660583,\n  0.144800066947937,\n  0.15302176773548126,\n  0.16175267100334167,\n  0.14394323527812958,\n  0.1383373737335205,\n  0.12714463472366333,\n  0.12721194326877594,\n  0.14031703770160675,\n  0.13942685723304749,\n  0.13887861371040344,\n  0.13169194757938385,\n  0.1331089287996292,\n  0.12594716250896454,\n  0.12602899968624115,\n  0.12763918936252594,\n  0.12640167772769928,\n  0.1418919861316681,\n  0.12513262033462524,\n  0.1337030678987503,\n  0.12540630996227264,\n  0.1247982606291771,\n  0.1260945051908493,\n  0.1251363456249237,\n  0.12618546187877655,\n  0.12641939520835876,\n  0.1262056529521942,\n  0.12783172726631165,\n  0.126057967543602,\n  0.12486933916807175,\n  0.12658362090587616,\n  0.15810076892375946,\n  0.15903638303279877,\n  0.12497372180223465,\n  0.15171940624713898,\n  0.1452970653772354,\n  0.1814481019973755,\n  0.16593436896800995,\n  0.17980366945266724,\n  0.15315811336040497,\n  0.17367878556251526,\n  0.1579592078924179,\n  0.14727649092674255,\n  0.1515689194202423,\n  0.1473941057920456,\n  0.13478972017765045,\n  0.1469009518623352,\n  0.13300783932209015,\n  0.14556445181369781,\n  0.12746310234069824,\n  0.13380366563796997,\n  0.12313933670520782,\n  0.12331556528806686,\n  0.12158679962158203,\n  0.12312276661396027,\n  0.12091042101383209,\n  0.12517902255058289,\n  0.12414956837892532,\n  0.13579478859901428,\n  0.12285291403532028,\n  0.12653134763240814,\n  0.12289512902498245,\n  0.12376938760280609,\n  0.12392842024564743,\n  0.12740470468997955,\n  0.12279563397169113,\n  0.12363316118717194,\n  0.12353815883398056],\n 'val_accuracy': [0.49453219771385193,\n  0.5054677724838257,\n  0.5054677724838257,\n  0.49453219771385193,\n  0.49453219771385193,\n  0.49453219771385193,\n  0.5054677724838257,\n  0.5054677724838257,\n  0.49453219771385193,\n  0.49453219771385193,\n  0.49453219771385193,\n  0.49453219771385193,\n  0.5066828727722168,\n  0.659781277179718,\n  0.49453219771385193,\n  0.49453219771385193,\n  0.49453219771385193,\n  0.6245443224906921,\n  0.6452004909515381,\n  0.5492101907730103,\n  0.5504252910614014,\n  0.6962332725524902,\n  0.6464155316352844,\n  0.5917375683784485,\n  0.6561360955238342,\n  0.6780073046684265,\n  0.6634264588356018,\n  0.6658565998077393,\n  0.6476306319236755,\n  0.6950182318687439,\n  0.6646415591239929,\n  0.7168894410133362,\n  0.6828675866127014,\n  0.7120291590690613,\n  0.7132441997528076,\n  0.70595383644104,\n  0.6695018410682678,\n  0.6840826272964478,\n  0.7399756908416748,\n  0.7424058318138123,\n  0.7326852679252625,\n  0.7436208724975586,\n  0.7193195819854736,\n  0.7436208724975586,\n  0.7302551865577698,\n  0.7472661137580872,\n  0.7837181091308594,\n  0.776427686214447,\n  0.7654920816421509,\n  0.7606318593025208,\n  0.7594167590141296,\n  0.7411907911300659,\n  0.7484811544418335,\n  0.7703523635864258,\n  0.7837181091308594,\n  0.7715674638748169,\n  0.7752126455307007,\n  0.7715674638748169,\n  0.7739975452423096,\n  0.7752126455307007,\n  0.776427686214447,\n  0.776427686214447,\n  0.7800729274749756,\n  0.7897934317588806,\n  0.7922235727310181,\n  0.7788578271865845,\n  0.7800729274749756,\n  0.7715674638748169,\n  0.7496962547302246,\n  0.7339003682136536,\n  0.7752126455307007,\n  0.7873632907867432,\n  0.8031591773033142,\n  0.776427686214447,\n  0.7472661137580872,\n  0.7727825045585632,\n  0.7825030088424683,\n  0.7982988953590393,\n  0.8092344999313354,\n  0.8080194592475891,\n  0.7910085320472717,\n  0.7752126455307007,\n  0.7934386134147644,\n  0.8140947818756104,\n  0.8019441366195679,\n  0.8055893182754517,\n  0.8043742179870605,\n  0.7946537137031555,\n  0.8055893182754517,\n  0.7897934317588806,\n  0.797083854675293,\n  0.8104496002197266,\n  0.8177399635314941,\n  0.8153098225593567,\n  0.8104496002197266,\n  0.8092344999313354,\n  0.7946537137031555,\n  0.7910085320472717,\n  0.8055893182754517,\n  0.8140947818756104,\n  0.8092344999313354,\n  0.8153098225593567,\n  0.8104496002197266,\n  0.8213852047920227,\n  0.8140947818756104,\n  0.8007290363311768,\n  0.8177399635314941,\n  0.8189550638198853,\n  0.8140947818756104,\n  0.806804358959198,\n  0.7739975452423096,\n  0.8140947818756104,\n  0.7982988953590393,\n  0.8213852047920227,\n  0.827460527420044,\n  0.8238152861595154,\n  0.806804358959198,\n  0.8286755681037903,\n  0.8250303864479065,\n  0.7861482501029968,\n  0.7788578271865845,\n  0.7958687543869019,\n  0.8311057090759277,\n  0.822600245475769,\n  0.8311057090759277,\n  0.8092344999313354,\n  0.8298906683921814,\n  0.7958687543869019,\n  0.7703523635864258,\n  0.8031591773033142,\n  0.8311057090759277,\n  0.7982988953590393,\n  0.8213852047920227,\n  0.806804358959198,\n  0.7788578271865845,\n  0.7873632907867432,\n  0.7897934317588806,\n  0.8140947818756104,\n  0.8298906683921814,\n  0.8286755681037903,\n  0.8140947818756104,\n  0.8007290363311768,\n  0.8116646409034729,\n  0.8104496002197266,\n  0.8189550638198853,\n  0.8250303864479065,\n  0.8359659910202026,\n  0.8335358500480652,\n  0.8201701045036316,\n  0.8165249228477478,\n  0.8262454271316528,\n  0.8238152861595154,\n  0.8347508907318115,\n  0.8347508907318115,\n  0.8347508907318115,\n  0.8286755681037903,\n  0.8347508907318115,\n  0.8311057090759277,\n  0.827460527420044,\n  0.827460527420044,\n  0.8323207497596741,\n  0.8347508907318115,\n  0.8250303864479065,\n  0.7885783910751343,\n  0.7885783910751343,\n  0.8323207497596741,\n  0.7982988953590393,\n  0.7995139956474304,\n  0.7691373229026794,\n  0.7776427865028381,\n  0.7703523635864258,\n  0.7946537137031555,\n  0.7800729274749756,\n  0.7849331498146057,\n  0.8104496002197266,\n  0.7934386134147644,\n  0.8104496002197266,\n  0.8177399635314941,\n  0.8116646409034729,\n  0.8201701045036316,\n  0.8140947818756104,\n  0.827460527420044,\n  0.8262454271316528,\n  0.8359659910202026,\n  0.8323207497596741,\n  0.8323207497596741,\n  0.8311057090759277,\n  0.8396111726760864,\n  0.8347508907318115,\n  0.8286755681037903,\n  0.8262454271316528,\n  0.8383961319923401,\n  0.8335358500480652,\n  0.8420413136482239,\n  0.8311057090759277,\n  0.8298906683921814,\n  0.8347508907318115,\n  0.8408262729644775,\n  0.8311057090759277,\n  0.8335358500480652]}"
     },
     "execution_count": 32,
     "metadata": {},
     "output_type": "execute_result"
    }
   ],
   "source": [
    "history.history"
   ],
   "metadata": {
    "collapsed": false,
    "pycharm": {
     "name": "#%%\n"
    }
   }
  },
  {
   "cell_type": "code",
   "execution_count": 9,
   "outputs": [
    {
     "data": {
      "text/plain": "('dataset/Real Life Violence Dataset\\\\Violence/V_192.mp4',\n 'dataset/Real Life Violence Dataset\\\\NonViolence/NV_521.mp4',\n 'dataset/Real Life Violence Dataset\\\\Violence/V_598.mp4',\n 'dataset/Real Life Violence Dataset\\\\NonViolence/NV_374.mp4',\n 'dataset/Real Life Violence Dataset\\\\NonViolence/NV_512.mp4',\n 'dataset/Real Life Violence Dataset\\\\NonViolence/NV_148.mp4',\n 'dataset/Real Life Violence Dataset\\\\NonViolence/NV_275.mp4',\n 'dataset/Real Life Violence Dataset\\\\Violence/V_901.mp4',\n 'dataset/Real Life Violence Dataset\\\\Violence/V_98.mp4',\n 'dataset/Real Life Violence Dataset\\\\Violence/V_215.mp4')"
     },
     "execution_count": 9,
     "metadata": {},
     "output_type": "execute_result"
    }
   ],
   "source": [
    "names[:10]"
   ],
   "metadata": {
    "collapsed": false,
    "pycharm": {
     "name": "#%%\n"
    }
   }
  },
  {
   "cell_type": "code",
   "execution_count": 10,
   "outputs": [
    {
     "data": {
      "text/plain": "([1, 0],\n [0, 1],\n [1, 0],\n [0, 1],\n [0, 1],\n [0, 1],\n [0, 1],\n [1, 0],\n [1, 0],\n [1, 0])"
     },
     "execution_count": 10,
     "metadata": {},
     "output_type": "execute_result"
    }
   ],
   "source": [
    "labels[:10]"
   ],
   "metadata": {
    "collapsed": false,
    "pycharm": {
     "name": "#%%\n"
    }
   }
  },
  {
   "cell_type": "code",
   "execution_count": null,
   "outputs": [],
   "source": [],
   "metadata": {
    "collapsed": false,
    "pycharm": {
     "name": "#%%\n"
    }
   }
  }
 ],
 "metadata": {
  "kernelspec": {
   "display_name": "Python 3",
   "language": "python",
   "name": "python3"
  },
  "language_info": {
   "codemirror_mode": {
    "name": "ipython",
    "version": 2
   },
   "file_extension": ".py",
   "mimetype": "text/x-python",
   "name": "python",
   "nbconvert_exporter": "python",
   "pygments_lexer": "ipython2",
   "version": "2.7.6"
  }
 },
 "nbformat": 4,
 "nbformat_minor": 0
}