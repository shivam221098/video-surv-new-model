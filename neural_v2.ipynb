{
 "cells": [
  {
   "cell_type": "code",
   "execution_count": 39,
   "metadata": {
    "collapsed": true
   },
   "outputs": [],
   "source": [
    "import cv2\n",
    "import glob\n",
    "import numpy as np\n",
    "import pandas as pd\n",
    "import tensorflow as tf\n",
    "import matplotlib.pyplot as plt\n",
    "from skimage.transform import resize\n",
    "from tensorflow.python.keras.layers import Conv3D, ReLU, MaxPooling3D, Reshape, Dense, Dropout, SeparableConv2D, MaxPooling2D, Conv2D\n",
    "from tensorflow.keras.layers import BatchNormalization, TimeDistributed, Bidirectional, Flatten, LSTM\n",
    "from tensorflow.python.keras.models import Sequential\n",
    "from sklearn.model_selection import train_test_split\n",
    "from tensorflow.python.keras.optimizer_v2.gradient_descent import SGD\n",
    "from sklearn.metrics import classification_report, confusion_matrix, accuracy_score\n",
    "from frame_extraction import Frames"
   ]
  },
  {
   "cell_type": "markdown",
   "source": [
    "## Frame extraction class"
   ],
   "metadata": {
    "collapsed": false,
    "pycharm": {
     "name": "#%% md\n"
    }
   }
  },
  {
   "cell_type": "code",
   "execution_count": 40,
   "outputs": [],
   "source": [
    "class Frames_V2(Frames):\n",
    "    @staticmethod\n",
    "    def read_img(filename):\n",
    "        \"\"\"\n",
    "        method for reading images and converting to numpy array\n",
    "        \"\"\"\n",
    "        frame = cv2.imread(filename)\n",
    "        return cv2.resize(frame, (64, 64))\n",
    "\n",
    "    @classmethod\n",
    "    def read_fr(cls, arr):\n",
    "        videos = []\n",
    "        for index, video in enumerate(arr):\n",
    "            print(\"Completed\", round(index / len(arr) * 100, 2), end=\"\\r\")\n",
    "\n",
    "            # if the file is .tif file\n",
    "            if video.endswith(\".tif\"):\n",
    "                videos.append(cls.read_img(video))\n",
    "                continue\n",
    "\n",
    "            caption = cv2.VideoCapture(video)\n",
    "            frame_rate = caption.get(Frames.fps)\n",
    "\n",
    "            while caption.isOpened():\n",
    "                frame_id = caption.get(1)\n",
    "                ret, frame = caption.read()\n",
    "\n",
    "                if not ret:\n",
    "                    break\n",
    "\n",
    "                if frame_id % np.floor(frame_rate) == 0:\n",
    "                    videos.append(cv2.resize(frame, (64, 64)))\n",
    "\n",
    "            caption.release()\n",
    "\n",
    "        return videos"
   ],
   "metadata": {
    "collapsed": false,
    "pycharm": {
     "name": "#%%\n"
    }
   }
  },
  {
   "cell_type": "code",
   "execution_count": 41,
   "outputs": [],
   "source": [
    "classes = [\"NonViolence\", \"Violence\"]"
   ],
   "metadata": {
    "collapsed": false,
    "pycharm": {
     "name": "#%%\n"
    }
   }
  },
  {
   "cell_type": "code",
   "execution_count": 42,
   "outputs": [],
   "source": [
    "file_list = []\n",
    "for name in classes:\n",
    "    file_names = glob.glob(f\"dataset/Real Life Violence Dataset/{name}/*.*\")\n",
    "    file_list.extend(file_names)"
   ],
   "metadata": {
    "collapsed": false,
    "pycharm": {
     "name": "#%%\n"
    }
   }
  },
  {
   "cell_type": "markdown",
   "source": [
    "## Pre processing dataset"
   ],
   "metadata": {
    "collapsed": false,
    "pycharm": {
     "name": "#%% md\n"
    }
   }
  },
  {
   "cell_type": "code",
   "execution_count": 45,
   "outputs": [],
   "source": [
    "# violence dataset\n",
    "violence = list(filter(lambda x: \"/violence\" in x.lower(), file_list))"
   ],
   "metadata": {
    "collapsed": false,
    "pycharm": {
     "name": "#%%\n"
    }
   }
  },
  {
   "cell_type": "code",
   "execution_count": 46,
   "outputs": [],
   "source": [
    "non_violence = list(filter(lambda x: \"/nonviolence\" in x.lower(), file_list))"
   ],
   "metadata": {
    "collapsed": false,
    "pycharm": {
     "name": "#%%\n"
    }
   }
  },
  {
   "cell_type": "code",
   "execution_count": 47,
   "outputs": [
    {
     "name": "stdout",
     "output_type": "stream",
     "text": [
      "Completed 99.9\r"
     ]
    }
   ],
   "source": [
    "violence_arr = Frames_V2.read_fr(violence)"
   ],
   "metadata": {
    "collapsed": false,
    "pycharm": {
     "name": "#%%\n"
    }
   }
  },
  {
   "cell_type": "code",
   "execution_count": 48,
   "outputs": [
    {
     "name": "stdout",
     "output_type": "stream",
     "text": [
      "Completed 99.99\r02Completed 4.29Completed 4.66Completed 4.9Completed 5.29Completed 5.63Completed 5.74Completed 6.0Completed 6.28Completed 6.6Completed 6.81Completed 7.03Completed 7.35Completed 7.64Completed 7.78Completed 7.88Completed 8.28Completed 8.42Completed 8.79Completed 8.95Completed 9.29Completed 9.7Completed 10.02Completed 10.26Completed 10.57Completed 10.98Completed 11.09Completed 11.43Completed 11.74Completed 12.06Completed 12.16Completed 12.28Completed 12.68Completed 12.92Completed 13.23Completed 13.46Completed 13.66Completed 13.96Completed 14.19Completed 14.31Completed 14.53Completed 14.85Completed 15.07Completed 15.38Completed 15.71Completed 16.03Completed 16.4Completed 16.45Completed 16.78Completed 17.04Completed 17.1Completed 17.31Completed 17.52Completed 17.75Completed 18.06Completed 18.27Completed 18.59Completed 18.92Completed 19.34Completed 19.66Completed 19.87Completed 20.2Completed 20.41Completed 20.73Completed 21.07Completed 21.39Completed 21.59Completed 21.7Completed 21.8Completed 21.92Completed 22.03Completed 22.13Completed 22.24Completed 22.34Completed 22.45Completed 22.56Completed 22.66Completed 22.77Completed 22.87Completed 22.99Completed 23.1Completed 23.2Completed 23.31Completed 23.41Completed 23.52Completed 23.63Completed 23.73Completed 23.84Completed 23.94Completed 24.06Completed 24.17Completed 24.27Completed 24.38Completed 24.48Completed 24.59Completed 24.7Completed 24.8Completed 24.91Completed 25.01Completed 25.14Completed 25.25Completed 25.47Completed 25.67Completed 25.78Completed 25.88Completed 25.99Completed 26.09Completed 26.22Completed 26.32Completed 26.54Completed 26.74Completed 26.85Completed 26.95Completed 27.06Completed 27.16Completed 27.28Completed 27.39Completed 27.49Completed 27.6Completed 27.7Completed 27.81Completed 28.24Completed 28.47Completed 28.67Completed 28.78Completed 28.88Completed 29.16Completed 29.32Completed 29.63Completed 29.86Completed 30.06Completed 30.28Completed 30.39Completed 30.6Completed 30.7Completed 30.81Completed 30.92Completed 31.02Completed 31.13Completed 31.23Completed 31.34Completed 31.46Completed 31.56Completed 31.67Completed 31.77Completed 32.2Completed 32.52Completed 32.91Completed 33.33Completed 33.6Completed 34.08Completed 34.46Completed 34.73Completed 35.13Completed 35.6Completed 35.73Completed 35.97Completed 36.38Completed 36.81Completed 37.15Completed 37.58Completed 37.9Completed 38.29Completed 38.65Completed 39.01Completed 39.46Completed 39.82Completed 40.05Completed 40.46Completed 40.89Completed 41.22Completed 41.64Completed 41.98Completed 42.28Completed 42.64Completed 42.96Completed 43.35Completed 43.77Completed 44.19Completed 44.5Completed 44.84Completed 45.27Completed 45.5Completed 45.87Completed 46.23Completed 46.44Completed 46.58Completed 46.95Completed 47.21Completed 47.52Completed 47.85Completed 48.27Completed 48.6Completed 48.93Completed 49.27Completed 49.6Completed 49.88Completed 50.24Completed 50.63Completed 50.86Completed 51.18Completed 51.56Completed 51.92Completed 52.34Completed 52.69Completed 53.04Completed 53.42Completed 53.85Completed 54.15Completed 54.54Completed 54.91Completed 55.25Completed 55.57Completed 55.99Completed 56.2Completed 56.63Completed 56.95Completed 57.16Completed 57.4Completed 57.77Completed 58.13Completed 58.46Completed 58.89Completed 59.32Completed 59.67Completed 60.02Completed 60.38Completed 60.7Completed 60.94Completed 61.34Completed 61.56Completed 61.89Completed 62.21Completed 62.53Completed 62.95Completed 63.28Completed 63.6Completed 64.02Completed 64.35Completed 64.66Completed 64.98Completed 65.2Completed 65.52Completed 65.76Completed 66.07Completed 66.4Completed 66.69Completed 66.91Completed 67.19Completed 67.45Completed 67.8Completed 67.87Completed 68.09Completed 68.31Completed 68.63Completed 68.95Completed 69.17Completed 69.58Completed 69.91Completed 70.14Completed 70.45Completed 70.67Completed 70.88Completed 71.1Completed 71.32Completed 71.63Completed 71.89Completed 71.95Completed 72.05Completed 72.17Completed 72.28Completed 72.38Completed 72.49Completed 72.59Completed 72.7Completed 72.81Completed 72.91Completed 73.03Completed 73.12Completed 73.42Completed 73.77Completed 74.19Completed 74.42Completed 74.74Completed 75.06Completed 75.37Completed 75.59Completed 75.91Completed 76.12Completed 76.35Completed 76.61Completed 76.88Completed 77.1Completed 77.33Completed 77.52Completed 77.73Completed 77.96Completed 78.26Completed 78.56Completed 78.58Completed 78.78Completed 79.03Completed 79.34Completed 79.6Completed 79.79Completed 80.1Completed 80.42Completed 80.68Completed 80.85Completed 81.06Completed 81.17Completed 81.27Completed 81.38Completed 81.49Completed 81.59Completed 81.71Completed 81.81Completed 81.93Completed 82.03Completed 82.13Completed 82.24Completed 82.34Completed 82.45Completed 82.56Completed 82.67Completed 82.77Completed 82.88Completed 82.99Completed 83.1Completed 83.2Completed 83.31Completed 83.41Completed 83.52Completed 83.63Completed 83.73Completed 83.84Completed 83.95Completed 84.06Completed 84.17Completed 84.27Completed 84.38Completed 84.48Completed 84.59Completed 84.7Completed 84.8Completed 84.91Completed 85.02Completed 85.13Completed 85.24Completed 85.56Completed 85.84Completed 86.09Completed 86.5Completed 86.84Completed 87.14Completed 87.39Completed 87.73Completed 88.02Completed 88.24Completed 88.48Completed 88.78Completed 89.02Completed 89.2Completed 89.3Completed 89.46Completed 89.76Completed 90.08Completed 90.38Completed 90.68Completed 91.02Completed 91.35Completed 91.57Completed 91.82Completed 92.15Completed 92.37Completed 92.56Completed 92.84Completed 93.07Completed 93.38Completed 93.64Completed 93.9Completed 94.14Completed 94.41Completed 94.63Completed 94.77Completed 95.04Completed 95.41Completed 95.73Completed 96.04Completed 96.27Completed 96.48Completed 96.8Completed 96.99Completed 97.21Completed 97.45Completed 97.68Completed 97.89Completed 98.21Completed 98.52Completed 98.83Completed 98.95Completed 99.05Completed 99.16Completed 99.27Completed 99.37Completed 99.48Completed 99.59Completed 99.69Completed 99.8Completed 99.9"
     ]
    }
   ],
   "source": [
    "non_violence_arr = Frames_V2.read_fr(non_violence)"
   ],
   "metadata": {
    "collapsed": false,
    "pycharm": {
     "name": "#%%\n"
    }
   }
  },
  {
   "cell_type": "code",
   "execution_count": 49,
   "outputs": [],
   "source": [
    "violence_arr = np.asarray(violence_arr)\n",
    "non_violence_arr = np.asarray(non_violence_arr)"
   ],
   "metadata": {
    "collapsed": false,
    "pycharm": {
     "name": "#%%\n"
    }
   }
  },
  {
   "cell_type": "code",
   "execution_count": 50,
   "outputs": [],
   "source": [
    "# Training data\n",
    "X = np.concatenate((violence_arr, non_violence_arr), axis=0)"
   ],
   "metadata": {
    "collapsed": false,
    "pycharm": {
     "name": "#%%\n"
    }
   }
  },
  {
   "cell_type": "markdown",
   "source": [
    "### 1 is meant for violence and 0 is meant for non violence"
   ],
   "metadata": {
    "collapsed": false,
    "pycharm": {
     "name": "#%% md\n"
    }
   }
  },
  {
   "cell_type": "code",
   "execution_count": 51,
   "outputs": [],
   "source": [
    "Y = np.array([1 for _ in range(violence_arr.shape[0])] + [0 for _ in range(non_violence_arr.shape[0])])"
   ],
   "metadata": {
    "collapsed": false,
    "pycharm": {
     "name": "#%%\n"
    }
   }
  },
  {
   "cell_type": "code",
   "execution_count": 52,
   "outputs": [],
   "source": [
    "X_train, X_test, y_train, y_test = train_test_split(X, Y, train_size=0.8, random_state=42)"
   ],
   "metadata": {
    "collapsed": false,
    "pycharm": {
     "name": "#%%\n"
    }
   }
  },
  {
   "cell_type": "markdown",
   "source": [
    "## Creating model"
   ],
   "metadata": {
    "collapsed": false,
    "pycharm": {
     "name": "#%% md\n"
    }
   }
  },
  {
   "cell_type": "code",
   "execution_count": 53,
   "outputs": [],
   "source": [
    "Model = Sequential()\n",
    "\n",
    "Model.add(SeparableConv2D(12,(3,3),activation=\"relu\",\n",
    "                 input_shape=(64,64,3)))\n",
    "Model.add(BatchNormalization())\n",
    "Model.add(MaxPooling2D((2,2)))\n",
    "\n",
    "#\n",
    "Model.add(SeparableConv2D(24,(3,3),\n",
    "                 activation=\"relu\",padding=\"same\"))\n",
    "Model.add(Dropout(0.2))\n",
    "Model.add(MaxPooling2D((2,2)))\n",
    "\n",
    "\n",
    "#\n",
    "Model.add(TimeDistributed(Flatten()))\n",
    "Model.add(Bidirectional(LSTM(64,\n",
    "                                  return_sequences=True,\n",
    "                                  dropout=0.5,\n",
    "                                  recurrent_dropout=0.5)))\n",
    "Model.add(Bidirectional(LSTM(64,\n",
    "                                  return_sequences=True,\n",
    "                                  dropout=0.5,\n",
    "                                  recurrent_dropout=0.5)))\n",
    "\n",
    "#\n",
    "Model.add(Flatten())\n",
    "Model.add(Dense(128,activation=\"relu\"))\n",
    "Model.add(Dropout(0.5))\n",
    "Model.add(Dense(1,activation=\"sigmoid\"))"
   ],
   "metadata": {
    "collapsed": false,
    "pycharm": {
     "name": "#%%\n"
    }
   }
  },
  {
   "cell_type": "code",
   "execution_count": 54,
   "outputs": [
    {
     "name": "stdout",
     "output_type": "stream",
     "text": [
      "Model: \"sequential\"\n",
      "_________________________________________________________________\n",
      "Layer (type)                 Output Shape              Param #   \n",
      "=================================================================\n",
      "separable_conv2d (SeparableC (None, 62, 62, 12)        75        \n",
      "_________________________________________________________________\n",
      "module_wrapper (ModuleWrappe (None, 62, 62, 12)        48        \n",
      "_________________________________________________________________\n",
      "max_pooling2d (MaxPooling2D) (None, 31, 31, 12)        0         \n",
      "_________________________________________________________________\n",
      "separable_conv2d_1 (Separabl (None, 31, 31, 24)        420       \n",
      "_________________________________________________________________\n",
      "dropout (Dropout)            (None, 31, 31, 24)        0         \n",
      "_________________________________________________________________\n",
      "max_pooling2d_1 (MaxPooling2 (None, 15, 15, 24)        0         \n",
      "_________________________________________________________________\n",
      "module_wrapper_1 (ModuleWrap (None, 15, 360)           0         \n",
      "_________________________________________________________________\n",
      "module_wrapper_2 (ModuleWrap (None, 15, 128)           217600    \n",
      "_________________________________________________________________\n",
      "module_wrapper_3 (ModuleWrap (None, 15, 128)           98816     \n",
      "_________________________________________________________________\n",
      "module_wrapper_4 (ModuleWrap (None, 1920)              0         \n",
      "_________________________________________________________________\n",
      "dense (Dense)                (None, 128)               245888    \n",
      "_________________________________________________________________\n",
      "dropout_1 (Dropout)          (None, 128)               0         \n",
      "_________________________________________________________________\n",
      "dense_1 (Dense)              (None, 1)                 129       \n",
      "=================================================================\n",
      "Total params: 562,976\n",
      "Trainable params: 562,952\n",
      "Non-trainable params: 24\n",
      "_________________________________________________________________\n"
     ]
    }
   ],
   "source": [
    "Model.summary()"
   ],
   "metadata": {
    "collapsed": false,
    "pycharm": {
     "name": "#%%\n"
    }
   }
  },
  {
   "cell_type": "code",
   "execution_count": 55,
   "outputs": [],
   "source": [
    "Model.compile(optimizer=\"adam\",loss=\"binary_crossentropy\",metrics=[\"accuracy\"])"
   ],
   "metadata": {
    "collapsed": false,
    "pycharm": {
     "name": "#%%\n"
    }
   }
  },
  {
   "cell_type": "code",
   "execution_count": 56,
   "outputs": [
    {
     "name": "stdout",
     "output_type": "stream",
     "text": [
      "Epoch 1/7\n",
      "1689/1689 [==============================] - 148s 78ms/step - loss: 0.3260 - accuracy: 0.8271 - val_loss: 0.2520 - val_accuracy: 0.8761\n",
      "Epoch 2/7\n",
      "1689/1689 [==============================] - 129s 76ms/step - loss: 0.2373 - accuracy: 0.8848 - val_loss: 0.2275 - val_accuracy: 0.8799\n",
      "Epoch 3/7\n",
      "1689/1689 [==============================] - 130s 77ms/step - loss: 0.1953 - accuracy: 0.9103 - val_loss: 0.1790 - val_accuracy: 0.9169\n",
      "Epoch 4/7\n",
      "1689/1689 [==============================] - 131s 78ms/step - loss: 0.1652 - accuracy: 0.9292 - val_loss: 0.1643 - val_accuracy: 0.9292\n",
      "Epoch 5/7\n",
      "1689/1689 [==============================] - 137s 81ms/step - loss: 0.1475 - accuracy: 0.9381 - val_loss: 0.1540 - val_accuracy: 0.9363\n",
      "Epoch 6/7\n",
      "1689/1689 [==============================] - 131s 77ms/step - loss: 0.1283 - accuracy: 0.9456 - val_loss: 0.1469 - val_accuracy: 0.9363\n",
      "Epoch 7/7\n",
      "1689/1689 [==============================] - 134s 79ms/step - loss: 0.1157 - accuracy: 0.9520 - val_loss: 0.1436 - val_accuracy: 0.9448\n"
     ]
    },
    {
     "data": {
      "text/plain": "<tensorflow.python.keras.callbacks.History at 0x129b88a5860>"
     },
     "execution_count": 56,
     "metadata": {},
     "output_type": "execute_result"
    }
   ],
   "source": [
    "Model.fit(X_train, y_train, validation_data=(X_test, y_test), batch_size=10, epochs=7)"
   ],
   "metadata": {
    "collapsed": false,
    "pycharm": {
     "name": "#%%\n"
    }
   }
  },
  {
   "cell_type": "code",
   "execution_count": 57,
   "outputs": [
    {
     "name": "stderr",
     "output_type": "stream",
     "text": [
      "WARNING:absl:Found untraced functions such as flatten_1_layer_call_fn, flatten_1_layer_call_and_return_conditional_losses while saving (showing 2 of 2). These functions will not be directly callable after loading.\n"
     ]
    },
    {
     "name": "stdout",
     "output_type": "stream",
     "text": [
      "INFO:tensorflow:Assets written to: saved_model_v3\\assets\n"
     ]
    },
    {
     "name": "stderr",
     "output_type": "stream",
     "text": [
      "INFO:tensorflow:Assets written to: saved_model_v3\\assets\n"
     ]
    }
   ],
   "source": [
    "Model.save(\"saved_model_v3\")"
   ],
   "metadata": {
    "collapsed": false,
    "pycharm": {
     "name": "#%%\n"
    }
   }
  },
  {
   "cell_type": "code",
   "execution_count": 58,
   "outputs": [
    {
     "name": "stdout",
     "output_type": "stream",
     "text": [
      "132/132 [==============================] - 4s 28ms/step - loss: 0.1436 - accuracy: 0.9448\n"
     ]
    }
   ],
   "source": [
    "loss, accuracy = Model.evaluate(X_test, y_test)"
   ],
   "metadata": {
    "collapsed": false,
    "pycharm": {
     "name": "#%%\n"
    }
   }
  },
  {
   "cell_type": "code",
   "execution_count": 59,
   "outputs": [
    {
     "name": "stdout",
     "output_type": "stream",
     "text": [
      "Accuracy: 94.481 %\n"
     ]
    }
   ],
   "source": [
    "print(f\"Accuracy: {round(accuracy * 100, 3)} %\")"
   ],
   "metadata": {
    "collapsed": false,
    "pycharm": {
     "name": "#%%\n"
    }
   }
  },
  {
   "cell_type": "code",
   "execution_count": 60,
   "outputs": [
    {
     "data": {
      "text/plain": "<matplotlib.image.AxesImage at 0x12a2f8f45c0>"
     },
     "execution_count": 60,
     "metadata": {},
     "output_type": "execute_result"
    },
    {
     "data": {
      "text/plain": "<Figure size 432x288 with 1 Axes>",
      "image/png": "[encoded data removed]"
     },
     "metadata": {
      "needs_background": "light"
     },
     "output_type": "display_data"
    }
   ],
   "source": [
    "plt.imshow(X_test[0])"
   ],
   "metadata": {
    "collapsed": false,
    "pycharm": {
     "name": "#%%\n"
    }
   }
  },
  {
   "cell_type": "code",
   "execution_count": 61,
   "outputs": [
    {
     "data": {
      "text/plain": "0"
     },
     "execution_count": 61,
     "metadata": {},
     "output_type": "execute_result"
    }
   ],
   "source": [
    "y_test[0]"
   ],
   "metadata": {
    "collapsed": false,
    "pycharm": {
     "name": "#%%\n"
    }
   }
  },
  {
   "cell_type": "markdown",
   "source": [
    "## Loading saved model"
   ],
   "metadata": {
    "collapsed": false,
    "pycharm": {
     "name": "#%% md\n"
    }
   }
  },
  {
   "cell_type": "code",
   "execution_count": 2,
   "outputs": [],
   "source": [
    "model = tf.keras.models.load_model(\"saved_model_v2\")"
   ],
   "metadata": {
    "collapsed": false,
    "pycharm": {
     "name": "#%%\n"
    }
   }
  },
  {
   "cell_type": "code",
   "execution_count": 3,
   "outputs": [
    {
     "name": "stdout",
     "output_type": "stream",
     "text": [
      "Model: \"sequential_9\"\n",
      "_________________________________________________________________\n",
      " Layer (type)                Output Shape              Param #   \n",
      "=================================================================\n",
      " separable_conv2d_16 (Separa  (None, 62, 62, 12)       75        \n",
      " bleConv2D)                                                      \n",
      "                                                                 \n",
      " module_wrapper_9 (ModuleWra  (None, 62, 62, 12)       0         \n",
      " pper)                                                           \n",
      "                                                                 \n",
      " max_pooling2d_16 (MaxPoolin  (None, 31, 31, 12)       0         \n",
      " g2D)                                                            \n",
      "                                                                 \n",
      " separable_conv2d_17 (Separa  (None, 31, 31, 24)       420       \n",
      " bleConv2D)                                                      \n",
      "                                                                 \n",
      " dropout_8 (Dropout)         (None, 31, 31, 24)        0         \n",
      "                                                                 \n",
      " max_pooling2d_17 (MaxPoolin  (None, 15, 15, 24)       0         \n",
      " g2D)                                                            \n",
      "                                                                 \n",
      " module_wrapper_10 (ModuleWr  (None, 15, 360)          0         \n",
      " apper)                                                          \n",
      "                                                                 \n",
      " module_wrapper_11 (ModuleWr  (None, 15, 128)          0         \n",
      " apper)                                                          \n",
      "                                                                 \n",
      " module_wrapper_12 (ModuleWr  (None, 15, 128)          0         \n",
      " apper)                                                          \n",
      "                                                                 \n",
      " module_wrapper_13 (ModuleWr  (None, 1920)             0         \n",
      " apper)                                                          \n",
      "                                                                 \n",
      " dense (Dense)               (None, 128)               245888    \n",
      "                                                                 \n",
      " dropout_9 (Dropout)         (None, 128)               0         \n",
      "                                                                 \n",
      " dense_1 (Dense)             (None, 1)                 129       \n",
      "                                                                 \n",
      "=================================================================\n",
      "Total params: 246,512\n",
      "Trainable params: 246,512\n",
      "Non-trainable params: 0\n",
      "_________________________________________________________________\n"
     ]
    }
   ],
   "source": [
    "model.summary()"
   ],
   "metadata": {
    "collapsed": false,
    "pycharm": {
     "name": "#%%\n"
    }
   }
  },
  {
   "cell_type": "markdown",
   "source": [
    "## Training nodel on custom dataset"
   ],
   "metadata": {
    "collapsed": false
   }
  },
  {
   "cell_type": "code",
   "execution_count": 8,
   "outputs": [
    {
     "name": "stdout",
     "output_type": "stream",
     "text": [
      "Completed 85.71\rompleted 14.29Completed 57.14"
     ]
    }
   ],
   "source": [
    "file_list = []\n",
    "for name in classes:\n",
    "    file_names = glob.glob(f\"dataset/Custom/{name}/*.*\")\n",
    "    file_list.extend(file_names)\n",
    "violence = list(filter(lambda x: \"/violence\" in x.lower(), file_list))\n",
    "non_violence = list(filter(lambda x: \"/nonviolence\" in x.lower(), file_list))\n",
    "violence_arr = Frames_V2.read_fr(violence)\n",
    "non_violence_arr = Frames_V2.read_fr(non_violence)\n",
    "violence_arr = np.asarray(violence_arr)\n",
    "non_violence_arr = np.asarray(non_violence_arr)\n",
    "X = np.concatenate((violence_arr, non_violence_arr), axis=0)\n",
    "Y = np.array([1 for _ in range(violence_arr.shape[0])] + [0 for _ in range(non_violence_arr.shape[0])])"
   ],
   "metadata": {
    "collapsed": false,
    "pycharm": {
     "name": "#%%\n"
    }
   }
  },
  {
   "cell_type": "code",
   "execution_count": 9,
   "outputs": [
    {
     "name": "stdout",
     "output_type": "stream",
     "text": [
      "Epoch 1/7\n",
      "11/11 [==============================] - 11s 44ms/step - loss: 0.8838 - accuracy: 0.5686\n",
      "Epoch 2/7\n",
      "11/11 [==============================] - 0s 42ms/step - loss: 0.7210 - accuracy: 0.6961\n",
      "Epoch 3/7\n",
      "11/11 [==============================] - 0s 39ms/step - loss: 0.4420 - accuracy: 0.7941\n",
      "Epoch 4/7\n",
      "11/11 [==============================] - 1s 49ms/step - loss: 0.4552 - accuracy: 0.8039\n",
      "Epoch 5/7\n",
      "11/11 [==============================] - 1s 64ms/step - loss: 0.3895 - accuracy: 0.8529\n",
      "Epoch 6/7\n",
      "11/11 [==============================] - 1s 58ms/step - loss: 0.3885 - accuracy: 0.8922\n",
      "Epoch 7/7\n",
      "11/11 [==============================] - 1s 58ms/step - loss: 0.3290 - accuracy: 0.8824\n"
     ]
    },
    {
     "data": {
      "text/plain": "<keras.callbacks.History at 0x129a130ef60>"
     },
     "execution_count": 9,
     "metadata": {},
     "output_type": "execute_result"
    }
   ],
   "source": [
    "model.fit(X, Y, epochs=7, batch_size=10)"
   ],
   "metadata": {
    "collapsed": false,
    "pycharm": {
     "name": "#%%\n"
    }
   }
  },
  {
   "cell_type": "code",
   "execution_count": 10,
   "outputs": [
    {
     "name": "stderr",
     "output_type": "stream",
     "text": [
      "WARNING:absl:Found untraced functions such as restored_function_body, restored_function_body while saving (showing 2 of 2). These functions will not be directly callable after loading.\n"
     ]
    },
    {
     "name": "stdout",
     "output_type": "stream",
     "text": [
      "INFO:tensorflow:Assets written to: saved_model_v3\\assets\n"
     ]
    },
    {
     "name": "stderr",
     "output_type": "stream",
     "text": [
      "INFO:tensorflow:Assets written to: saved_model_v3\\assets\n"
     ]
    }
   ],
   "source": [
    "model.save(\"saved_model_v3\")"
   ],
   "metadata": {
    "collapsed": false,
    "pycharm": {
     "name": "#%%\n"
    }
   }
  },
  {
   "cell_type": "code",
   "execution_count": 37,
   "outputs": [
    {
     "name": "stdout",
     "output_type": "stream",
     "text": [
      "Completed 0.0\r"
     ]
    }
   ],
   "source": [
    "x = Frames_V2.read_fr(['dataset/Real Life Violence Dataset/NonViolence/NV_1001.mp4'])"
   ],
   "metadata": {
    "collapsed": false,
    "pycharm": {
     "name": "#%%\n"
    }
   }
  },
  {
   "cell_type": "code",
   "execution_count": 38,
   "outputs": [
    {
     "data": {
      "text/plain": "(6, 5, 64, 3)"
     },
     "execution_count": 38,
     "metadata": {},
     "output_type": "execute_result"
    }
   ],
   "source": [
    "Frames_V2.select_fr(x).shape"
   ],
   "metadata": {
    "collapsed": false,
    "pycharm": {
     "name": "#%%\n"
    }
   }
  },
  {
   "cell_type": "code",
   "execution_count": null,
   "outputs": [],
   "source": [],
   "metadata": {
    "collapsed": false,
    "pycharm": {
     "name": "#%%\n"
    }
   }
  }
 ],
 "metadata": {
  "kernelspec": {
   "display_name": "Python 3",
   "language": "python",
   "name": "python3"
  },
  "language_info": {
   "codemirror_mode": {
    "name": "ipython",
    "version": 2
   },
   "file_extension": ".py",
   "mimetype": "text/x-python",
   "name": "python",
   "nbconvert_exporter": "python",
   "pygments_lexer": "ipython2",
   "version": "2.7.6"
  }
 },
 "nbformat": 4,
 "nbformat_minor": 0
}