{
 "cells": [
  {
   "cell_type": "code",
   "execution_count": 70,
   "metadata": {
    "collapsed": true
   },
   "outputs": [],
   "source": [
    "import cv2\n",
    "import glob\n",
    "import numpy as np\n",
    "import pandas as pd\n",
    "import tensorflow as tf\n",
    "import matplotlib.pyplot as plt\n",
    "from skimage.transform import resize\n",
    "from tensorflow.python.keras.layers import Conv3D, ReLU, MaxPooling3D, Reshape, Dense, Dropout, SeparableConv2D, MaxPooling2D, Conv2D\n",
    "from tensorflow.keras.layers import BatchNormalization, TimeDistributed, Bidirectional, Flatten, LSTM\n",
    "from tensorflow.python.keras.models import Sequential\n",
    "from sklearn.model_selection import train_test_split\n",
    "from tensorflow.python.keras.optimizer_v2.gradient_descent import SGD\n",
    "from sklearn.metrics import classification_report, confusion_matrix, accuracy_score\n",
    "from frame_extraction import Frames"
   ]
  },
  {
   "cell_type": "markdown",
   "source": [
    "## Frame extraction class"
   ],
   "metadata": {
    "collapsed": false,
    "pycharm": {
     "name": "#%% md\n"
    }
   }
  },
  {
   "cell_type": "code",
   "execution_count": 17,
   "outputs": [],
   "source": [
    "class Frames_V2(Frames):\n",
    "    @classmethod\n",
    "    def read_fr(cls, arr):\n",
    "        videos = []\n",
    "        for index, video in enumerate(arr):\n",
    "            print(\"Completed\", round(index / len(arr) * 100, 2), end=\"\\r\")\n",
    "\n",
    "            caption = cv2.VideoCapture(video)\n",
    "            frame_rate = caption.get(Frames.fps)\n",
    "\n",
    "            while caption.isOpened():\n",
    "                frame_id = caption.get(1)\n",
    "                ret, frame = caption.read()\n",
    "\n",
    "                if not ret:\n",
    "                    break\n",
    "\n",
    "                if frame_id % np.floor(frame_rate) == 0:\n",
    "                    videos.append(cv2.resize(frame, (64, 64)))\n",
    "\n",
    "            caption.release()\n",
    "\n",
    "        return videos"
   ],
   "metadata": {
    "collapsed": false,
    "pycharm": {
     "name": "#%%\n"
    }
   }
  },
  {
   "cell_type": "code",
   "execution_count": 2,
   "outputs": [],
   "source": [
    "classes = [\"NonViolence\", \"Violence\"]"
   ],
   "metadata": {
    "collapsed": false,
    "pycharm": {
     "name": "#%%\n"
    }
   }
  },
  {
   "cell_type": "code",
   "execution_count": 4,
   "outputs": [],
   "source": [
    "file_list = []\n",
    "for name in classes:\n",
    "    file_names = glob.glob(f\"dataset/Real Life Violence Dataset/{name}/*.*\")\n",
    "    file_list.extend(file_names)"
   ],
   "metadata": {
    "collapsed": false,
    "pycharm": {
     "name": "#%%\n"
    }
   }
  },
  {
   "cell_type": "markdown",
   "source": [
    "## Pre processing dataset"
   ],
   "metadata": {
    "collapsed": false,
    "pycharm": {
     "name": "#%% md\n"
    }
   }
  },
  {
   "cell_type": "code",
   "execution_count": 37,
   "outputs": [],
   "source": [
    "# violence dataset\n",
    "violence = list(filter(lambda x: \"/violence\" in x.lower(), file_list))"
   ],
   "metadata": {
    "collapsed": false,
    "pycharm": {
     "name": "#%%\n"
    }
   }
  },
  {
   "cell_type": "code",
   "execution_count": 39,
   "outputs": [],
   "source": [
    "non_violence = list(filter(lambda x: \"/nonviolence\" in x.lower(), file_list))"
   ],
   "metadata": {
    "collapsed": false,
    "pycharm": {
     "name": "#%%\n"
    }
   }
  },
  {
   "cell_type": "code",
   "execution_count": 41,
   "outputs": [
    {
     "name": "stdout",
     "output_type": "stream",
     "text": [
      "Completed 99.9\r"
     ]
    }
   ],
   "source": [
    "violence_arr = Frames_V2.read_fr(violence)"
   ],
   "metadata": {
    "collapsed": false,
    "pycharm": {
     "name": "#%%\n"
    }
   }
  },
  {
   "cell_type": "code",
   "execution_count": 42,
   "outputs": [
    {
     "name": "stdout",
     "output_type": "stream",
     "text": [
      "Completed 99.9\r"
     ]
    }
   ],
   "source": [
    "non_violence_arr = Frames_V2.read_fr(non_violence)"
   ],
   "metadata": {
    "collapsed": false,
    "pycharm": {
     "name": "#%%\n"
    }
   }
  },
  {
   "cell_type": "code",
   "execution_count": 50,
   "outputs": [],
   "source": [
    "violence_arr = np.asarray(violence_arr)\n",
    "non_violence_arr = np.asarray(non_violence_arr)"
   ],
   "metadata": {
    "collapsed": false,
    "pycharm": {
     "name": "#%%\n"
    }
   }
  },
  {
   "cell_type": "code",
   "execution_count": 51,
   "outputs": [],
   "source": [
    "# Training data\n",
    "X = np.concatenate((violence_arr, non_violence_arr), axis=0)"
   ],
   "metadata": {
    "collapsed": false,
    "pycharm": {
     "name": "#%%\n"
    }
   }
  },
  {
   "cell_type": "markdown",
   "source": [
    "### 1 is meant for violence and 0 is meant for non violence"
   ],
   "metadata": {
    "collapsed": false,
    "pycharm": {
     "name": "#%% md\n"
    }
   }
  },
  {
   "cell_type": "code",
   "execution_count": 52,
   "outputs": [],
   "source": [
    "Y = np.array([1 for _ in range(violence_arr.shape[0])] + [0 for _ in range(non_violence_arr.shape[0])])"
   ],
   "metadata": {
    "collapsed": false,
    "pycharm": {
     "name": "#%%\n"
    }
   }
  },
  {
   "cell_type": "code",
   "execution_count": 55,
   "outputs": [],
   "source": [
    "X_train, X_test, y_train, y_test = train_test_split(X, Y, train_size=0.8, random_state=42)"
   ],
   "metadata": {
    "collapsed": false,
    "pycharm": {
     "name": "#%%\n"
    }
   }
  },
  {
   "cell_type": "markdown",
   "source": [
    "## Creating model"
   ],
   "metadata": {
    "collapsed": false,
    "pycharm": {
     "name": "#%% md\n"
    }
   }
  },
  {
   "cell_type": "code",
   "execution_count": 71,
   "outputs": [],
   "source": [
    "Model = Sequential()\n",
    "\n",
    "Model.add(SeparableConv2D(12,(3,3),activation=\"relu\",\n",
    "                 input_shape=(64,64,3)))\n",
    "Model.add(BatchNormalization())\n",
    "Model.add(MaxPooling2D((2,2)))\n",
    "\n",
    "#\n",
    "Model.add(SeparableConv2D(24,(3,3),\n",
    "                 activation=\"relu\",padding=\"same\"))\n",
    "Model.add(Dropout(0.2))\n",
    "Model.add(MaxPooling2D((2,2)))\n",
    "\n",
    "\n",
    "#\n",
    "Model.add(TimeDistributed(Flatten()))\n",
    "Model.add(Bidirectional(LSTM(64,\n",
    "                                  return_sequences=True,\n",
    "                                  dropout=0.5,\n",
    "                                  recurrent_dropout=0.5)))\n",
    "Model.add(Bidirectional(LSTM(64,\n",
    "                                  return_sequences=True,\n",
    "                                  dropout=0.5,\n",
    "                                  recurrent_dropout=0.5)))\n",
    "\n",
    "#\n",
    "Model.add(Flatten())\n",
    "Model.add(Dense(128,activation=\"relu\"))\n",
    "Model.add(Dropout(0.5))\n",
    "Model.add(Dense(1,activation=\"sigmoid\"))"
   ],
   "metadata": {
    "collapsed": false,
    "pycharm": {
     "name": "#%%\n"
    }
   }
  },
  {
   "cell_type": "code",
   "execution_count": 72,
   "outputs": [
    {
     "name": "stdout",
     "output_type": "stream",
     "text": [
      "Model: \"sequential_9\"\n",
      "_________________________________________________________________\n",
      "Layer (type)                 Output Shape              Param #   \n",
      "=================================================================\n",
      "separable_conv2d_16 (Separab (None, 62, 62, 12)        75        \n",
      "_________________________________________________________________\n",
      "module_wrapper_9 (ModuleWrap (None, 62, 62, 12)        48        \n",
      "_________________________________________________________________\n",
      "max_pooling2d_16 (MaxPooling (None, 31, 31, 12)        0         \n",
      "_________________________________________________________________\n",
      "separable_conv2d_17 (Separab (None, 31, 31, 24)        420       \n",
      "_________________________________________________________________\n",
      "dropout_8 (Dropout)          (None, 31, 31, 24)        0         \n",
      "_________________________________________________________________\n",
      "max_pooling2d_17 (MaxPooling (None, 15, 15, 24)        0         \n",
      "_________________________________________________________________\n",
      "module_wrapper_10 (ModuleWra (None, 15, 360)           0         \n",
      "_________________________________________________________________\n",
      "module_wrapper_11 (ModuleWra (None, 15, 128)           217600    \n",
      "_________________________________________________________________\n",
      "module_wrapper_12 (ModuleWra (None, 15, 128)           98816     \n",
      "_________________________________________________________________\n",
      "module_wrapper_13 (ModuleWra (None, 1920)              0         \n",
      "_________________________________________________________________\n",
      "dense (Dense)                (None, 128)               245888    \n",
      "_________________________________________________________________\n",
      "dropout_9 (Dropout)          (None, 128)               0         \n",
      "_________________________________________________________________\n",
      "dense_1 (Dense)              (None, 1)                 129       \n",
      "=================================================================\n",
      "Total params: 562,976\n",
      "Trainable params: 562,952\n",
      "Non-trainable params: 24\n",
      "_________________________________________________________________\n"
     ]
    }
   ],
   "source": [
    "Model.summary()"
   ],
   "metadata": {
    "collapsed": false,
    "pycharm": {
     "name": "#%%\n"
    }
   }
  },
  {
   "cell_type": "code",
   "execution_count": 73,
   "outputs": [],
   "source": [
    "Model.compile(optimizer=\"adam\",loss=\"binary_crossentropy\",metrics=[\"accuracy\"])"
   ],
   "metadata": {
    "collapsed": false,
    "pycharm": {
     "name": "#%%\n"
    }
   }
  },
  {
   "cell_type": "code",
   "execution_count": 74,
   "outputs": [
    {
     "name": "stdout",
     "output_type": "stream",
     "text": [
      "Epoch 1/7\n",
      "885/885 [==============================] - 77s 72ms/step - loss: 0.5455 - accuracy: 0.7154 - val_loss: 0.4897 - val_accuracy: 0.7429\n",
      "Epoch 2/7\n",
      "885/885 [==============================] - 61s 69ms/step - loss: 0.4064 - accuracy: 0.8129 - val_loss: 0.3489 - val_accuracy: 0.8409\n",
      "Epoch 3/7\n",
      "885/885 [==============================] - 64s 72ms/step - loss: 0.3514 - accuracy: 0.8422 - val_loss: 0.3071 - val_accuracy: 0.8581\n",
      "Epoch 4/7\n",
      "885/885 [==============================] - 64s 72ms/step - loss: 0.2997 - accuracy: 0.8717 - val_loss: 0.2562 - val_accuracy: 0.8920\n",
      "Epoch 5/7\n",
      "885/885 [==============================] - 63s 71ms/step - loss: 0.2664 - accuracy: 0.8861 - val_loss: 0.2343 - val_accuracy: 0.9015\n",
      "Epoch 6/7\n",
      "885/885 [==============================] - 63s 71ms/step - loss: 0.2299 - accuracy: 0.9053 - val_loss: 0.2543 - val_accuracy: 0.8934\n",
      "Epoch 7/7\n",
      "885/885 [==============================] - 62s 71ms/step - loss: 0.2092 - accuracy: 0.9161 - val_loss: 0.2287 - val_accuracy: 0.9024\n"
     ]
    },
    {
     "data": {
      "text/plain": "<tensorflow.python.keras.callbacks.History at 0x17da0186e80>"
     },
     "execution_count": 74,
     "metadata": {},
     "output_type": "execute_result"
    }
   ],
   "source": [
    "Model.fit(X_train, y_train, validation_data=(X_test, y_test), batch_size=10, epochs=7)"
   ],
   "metadata": {
    "collapsed": false,
    "pycharm": {
     "name": "#%%\n"
    }
   }
  },
  {
   "cell_type": "code",
   "execution_count": 77,
   "outputs": [
    {
     "name": "stderr",
     "output_type": "stream",
     "text": [
      "WARNING:absl:Found untraced functions such as flatten_2_layer_call_fn, flatten_2_layer_call_and_return_conditional_losses while saving (showing 2 of 2). These functions will not be directly callable after loading.\n"
     ]
    },
    {
     "name": "stdout",
     "output_type": "stream",
     "text": [
      "INFO:tensorflow:Assets written to: saved_model_v2\\assets\n"
     ]
    },
    {
     "name": "stderr",
     "output_type": "stream",
     "text": [
      "INFO:tensorflow:Assets written to: saved_model_v2\\assets\n"
     ]
    }
   ],
   "source": [
    "Model.save(\"saved_model_v2\")"
   ],
   "metadata": {
    "collapsed": false,
    "pycharm": {
     "name": "#%%\n"
    }
   }
  },
  {
   "cell_type": "code",
   "execution_count": 78,
   "outputs": [
    {
     "name": "stdout",
     "output_type": "stream",
     "text": [
      "70/70 [==============================] - 2s 24ms/step - loss: 0.2287 - accuracy: 0.9024\n"
     ]
    }
   ],
   "source": [
    "loss, accuracy = Model.evaluate(X_test, y_test)"
   ],
   "metadata": {
    "collapsed": false,
    "pycharm": {
     "name": "#%%\n"
    }
   }
  },
  {
   "cell_type": "code",
   "execution_count": 80,
   "outputs": [
    {
     "name": "stdout",
     "output_type": "stream",
     "text": [
      "Accuracy: 90.239 %\n"
     ]
    }
   ],
   "source": [
    "print(f\"Accuracy: {round(accuracy * 100, 3)} %\")"
   ],
   "metadata": {
    "collapsed": false,
    "pycharm": {
     "name": "#%%\n"
    }
   }
  },
  {
   "cell_type": "code",
   "execution_count": 81,
   "outputs": [
    {
     "data": {
      "text/plain": "<matplotlib.image.AxesImage at 0x17de1392320>"
     },
     "execution_count": 81,
     "metadata": {},
     "output_type": "execute_result"
    },
    {
     "data": {
      "text/plain": "<Figure size 432x288 with 1 Axes>",
      "image/png": "[encoded data removed]"
     },
     "metadata": {
      "needs_background": "light"
     },
     "output_type": "display_data"
    }
   ],
   "source": [
    "plt.imshow(X_test[0])"
   ],
   "metadata": {
    "collapsed": false,
    "pycharm": {
     "name": "#%%\n"
    }
   }
  },
  {
   "cell_type": "code",
   "execution_count": 82,
   "outputs": [
    {
     "data": {
      "text/plain": "0"
     },
     "execution_count": 82,
     "metadata": {},
     "output_type": "execute_result"
    }
   ],
   "source": [
    "y_test[0]"
   ],
   "metadata": {
    "collapsed": false,
    "pycharm": {
     "name": "#%%\n"
    }
   }
  },
  {
   "cell_type": "code",
   "execution_count": null,
   "outputs": [],
   "source": [],
   "metadata": {
    "collapsed": false,
    "pycharm": {
     "name": "#%%\n"
    }
   }
  }
 ],
 "metadata": {
  "kernelspec": {
   "display_name": "Python 3",
   "language": "python",
   "name": "python3"
  },
  "language_info": {
   "codemirror_mode": {
    "name": "ipython",
    "version": 2
   },
   "file_extension": ".py",
   "mimetype": "text/x-python",
   "name": "python",
   "nbconvert_exporter": "python",
   "pygments_lexer": "ipython2",
   "version": "2.7.6"
  }
 },
 "nbformat": 4,
 "nbformat_minor": 0
}