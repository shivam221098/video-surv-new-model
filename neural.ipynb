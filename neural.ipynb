{
 "cells": [
  {
   "cell_type": "code",
   "execution_count": 162,
   "metadata": {
    "collapsed": true
   },
   "outputs": [],
   "source": [
    "import cv2\n",
    "import glob\n",
    "import numpy as np\n",
    "import pandas as pd\n",
    "import tensorflow as tf\n",
    "import matplotlib.pyplot as plt\n",
    "from skimage.transform import resize\n",
    "from tensorflow.python.keras.layers import Conv3D, ReLU, MaxPooling3D, Reshape, LSTM, Dense, Dropout\n",
    "from tensorflow.keras.layers import BatchNormalization\n",
    "from tensorflow.python.keras.models import Sequential\n",
    "from sklearn.model_selection import train_test_split\n",
    "from tensorflow.python.keras.optimizer_v2.gradient_descent import SGD\n",
    "from sklearn.metrics import classification_report, confusion_matrix, accuracy_score"
   ]
  },
  {
   "cell_type": "code",
   "execution_count": 163,
   "outputs": [],
   "source": [
    "classes = [\"NonViolence\", \"Violence\"]"
   ],
   "metadata": {
    "collapsed": false,
    "pycharm": {
     "name": "#%%\n"
    }
   }
  },
  {
   "cell_type": "markdown",
   "source": [
    "## Listing all class videos with labels"
   ],
   "metadata": {
    "collapsed": false,
    "pycharm": {
     "name": "#%% md\n"
    }
   }
  },
  {
   "cell_type": "code",
   "execution_count": 164,
   "outputs": [],
   "source": [
    "label = 0\n",
    "file_list = []\n",
    "Y = []\n",
    "for name in classes:\n",
    "    file_names = glob.glob(f\"dataset/Real Life Violence Dataset/{name}/*.*\")\n",
    "    file_list.extend(file_names)\n",
    "\n",
    "    Y.extend([label for _ in range(len(file_names))])\n",
    "    label += 1\n",
    "\n",
    "Y = np.array(Y)"
   ],
   "metadata": {
    "collapsed": false,
    "pycharm": {
     "name": "#%%\n"
    }
   }
  },
  {
   "cell_type": "code",
   "execution_count": 219,
   "outputs": [],
   "source": [
    "class Frames:\n",
    "    fps = 5\n",
    "\n",
    "    @classmethod\n",
    "    def read_fr(cls, arr):\n",
    "        \"\"\"\n",
    "        method for reading frames from videos\n",
    "        :return: array of video frames\n",
    "        \"\"\"\n",
    "        videos = []\n",
    "        for index, video in enumerate(arr):\n",
    "            print(\"Completed\", round(index / len(arr) * 100, 2), end=\"\\r\")\n",
    "            resized_frames = []\n",
    "\n",
    "            caption = cv2.VideoCapture(video)\n",
    "            frame_rate = caption.get(Frames.fps)\n",
    "\n",
    "            while caption.isOpened():\n",
    "                frame_id = caption.get(1)\n",
    "                ret, frame = caption.read()\n",
    "\n",
    "                if not ret:\n",
    "                    break\n",
    "\n",
    "                if frame_id % np.floor(frame_rate) == 0:\n",
    "                    resized_frames.append(cv2.resize(frame, (64, 64)))\n",
    "\n",
    "            videos.append(resized_frames)\n",
    "            caption.release()\n",
    "\n",
    "        return videos\n",
    "\n",
    "    @classmethod\n",
    "    def select_fr(cls, arr):\n",
    "        \"\"\"\n",
    "        method for selecting frames\n",
    "        \"\"\"\n",
    "        videos = []\n",
    "        for i in range(len(arr)):\n",
    "            frames = []\n",
    "            for linear_sep in np.linspace(0, len(arr[i]) - 1, num=Frames.fps):\n",
    "                frames.append(arr[i][int(linear_sep)])\n",
    "\n",
    "            if len(frames) <= 5:\n",
    "                videos.append(frames)\n",
    "\n",
    "        np_videos = np.array(videos)\n",
    "        return np_videos"
   ],
   "metadata": {
    "collapsed": false,
    "pycharm": {
     "name": "#%%\n"
    }
   }
  },
  {
   "cell_type": "code",
   "execution_count": 166,
   "outputs": [
    {
     "name": "stdout",
     "output_type": "stream",
     "text": [
      "Completed 99.95\r"
     ]
    }
   ],
   "source": [
    "X_train = Frames.select_fr(Frames.read_fr(file_list))"
   ],
   "metadata": {
    "collapsed": false,
    "pycharm": {
     "name": "#%%\n"
    }
   }
  },
  {
   "cell_type": "code",
   "execution_count": 167,
   "outputs": [],
   "source": [
    "X = X_train.copy()"
   ],
   "metadata": {
    "collapsed": false,
    "pycharm": {
     "name": "#%%\n"
    }
   }
  },
  {
   "cell_type": "markdown",
   "source": [
    "## Splitting data into train and test"
   ],
   "metadata": {
    "collapsed": false,
    "pycharm": {
     "name": "#%% md\n"
    }
   }
  },
  {
   "cell_type": "code",
   "execution_count": 168,
   "outputs": [],
   "source": [
    "X_train, X_test, y_train, y_test = train_test_split(X, Y, train_size=0.8, random_state=42, shuffle=True)"
   ],
   "metadata": {
    "collapsed": false,
    "pycharm": {
     "name": "#%%\n"
    }
   }
  },
  {
   "cell_type": "markdown",
   "source": [
    "## Creating neural network"
   ],
   "metadata": {
    "collapsed": false,
    "pycharm": {
     "name": "#%% md\n"
    }
   }
  },
  {
   "cell_type": "code",
   "execution_count": 170,
   "outputs": [
    {
     "name": "stdout",
     "output_type": "stream",
     "text": [
      "Model: \"sequential_2\"\n",
      "_________________________________________________________________\n",
      " Layer (type)                Output Shape              Param #   \n",
      "=================================================================\n",
      " batch_normalization_90 (Bat  (None, 5, 64, 64, 3)     12        \n",
      " chNormalization)                                                \n",
      "                                                                 \n",
      " module_wrapper_19 (ModuleWr  (None, 5, 64, 64, 64)    5248      \n",
      " apper)                                                          \n",
      "                                                                 \n",
      " batch_normalization_91 (Bat  (None, 5, 64, 64, 64)    256       \n",
      " chNormalization)                                                \n",
      "                                                                 \n",
      " module_wrapper_20 (ModuleWr  (None, 5, 64, 64, 64)    0         \n",
      " apper)                                                          \n",
      "                                                                 \n",
      " module_wrapper_21 (ModuleWr  (None, 5, 32, 32, 64)    0         \n",
      " apper)                                                          \n",
      "                                                                 \n",
      " module_wrapper_22 (ModuleWr  (None, 5, 32, 32, 64)    110656    \n",
      " apper)                                                          \n",
      "                                                                 \n",
      " batch_normalization_92 (Bat  (None, 5, 32, 32, 64)    256       \n",
      " chNormalization)                                                \n",
      "                                                                 \n",
      " module_wrapper_23 (ModuleWr  (None, 5, 32, 32, 64)    0         \n",
      " apper)                                                          \n",
      "                                                                 \n",
      " module_wrapper_24 (ModuleWr  (None, 5, 16, 16, 64)    0         \n",
      " apper)                                                          \n",
      "                                                                 \n",
      " module_wrapper_25 (ModuleWr  (None, 5, 16, 16, 128)   221312    \n",
      " apper)                                                          \n",
      "                                                                 \n",
      " batch_normalization_93 (Bat  (None, 5, 16, 16, 128)   512       \n",
      " chNormalization)                                                \n",
      "                                                                 \n",
      " module_wrapper_26 (ModuleWr  (None, 5, 16, 16, 128)   0         \n",
      " apper)                                                          \n",
      "                                                                 \n",
      " module_wrapper_27 (ModuleWr  (None, 5, 8, 8, 128)     0         \n",
      " apper)                                                          \n",
      "                                                                 \n",
      " module_wrapper_28 (ModuleWr  (None, 5, 8, 8, 128)     442496    \n",
      " apper)                                                          \n",
      "                                                                 \n",
      " batch_normalization_94 (Bat  (None, 5, 8, 8, 128)     512       \n",
      " chNormalization)                                                \n",
      "                                                                 \n",
      " module_wrapper_29 (ModuleWr  (None, 5, 8, 8, 128)     0         \n",
      " apper)                                                          \n",
      "                                                                 \n",
      " module_wrapper_30 (ModuleWr  (None, 5, 8192)          0         \n",
      " apper)                                                          \n",
      "                                                                 \n",
      " module_wrapper_31 (ModuleWr  (None, 5, 32)            1052800   \n",
      " apper)                                                          \n",
      "                                                                 \n",
      " module_wrapper_32 (ModuleWr  (None, 32)               8320      \n",
      " apper)                                                          \n",
      "                                                                 \n",
      " module_wrapper_33 (ModuleWr  (None, 512)              16896     \n",
      " apper)                                                          \n",
      "                                                                 \n",
      " batch_normalization_95 (Bat  (None, 512)              2048      \n",
      " chNormalization)                                                \n",
      "                                                                 \n",
      " module_wrapper_34 (ModuleWr  (None, 512)              0         \n",
      " apper)                                                          \n",
      "                                                                 \n",
      " module_wrapper_35 (ModuleWr  (None, 512)              0         \n",
      " apper)                                                          \n",
      "                                                                 \n",
      " module_wrapper_36 (ModuleWr  (None, 128)              65664     \n",
      " apper)                                                          \n",
      "                                                                 \n",
      " module_wrapper_37 (ModuleWr  (None, 1)                129       \n",
      " apper)                                                          \n",
      "                                                                 \n",
      "=================================================================\n",
      "Total params: 1,927,117\n",
      "Trainable params: 1,925,319\n",
      "Non-trainable params: 1,798\n",
      "_________________________________________________________________\n"
     ]
    }
   ],
   "source": [
    "model = tf.keras.models.Sequential()\n",
    "model.add(BatchNormalization(input_shape=(5,64,64,3)))\n",
    "model.add(Conv3D(filters=64, kernel_size=3,padding='same'))\n",
    "model.add(BatchNormalization())\n",
    "model.add(ReLU())\n",
    "model.add(MaxPooling3D(pool_size=(1,2,2)))\n",
    "\n",
    "model.add(Conv3D(filters=64, kernel_size=3,padding='same'))\n",
    "model.add(BatchNormalization())\n",
    "model.add(ReLU())\n",
    "model.add(MaxPooling3D(pool_size=(1,2,2)))\n",
    "\n",
    "model.add(Conv3D(filters=128,kernel_size=3,padding='same', activation='relu'))\n",
    "model.add(BatchNormalization())\n",
    "model.add(ReLU())\n",
    "model.add(MaxPooling3D(pool_size=(1,2,2)))\n",
    "\n",
    "model.add(Conv3D(filters=128,kernel_size=3,padding='same'))\n",
    "model.add(BatchNormalization())\n",
    "model.add(ReLU())\n",
    "\n",
    "model.add(Reshape((5,128*64)))\n",
    "model.add(LSTM(32, return_sequences=True))\n",
    "model.add(LSTM(32, return_sequences=False,dropout=0.5))\n",
    "\n",
    "model.add(Dense(512,'relu'))\n",
    "model.add(BatchNormalization())\n",
    "model.add(ReLU())\n",
    "model.add(Dropout(0.5))\n",
    "\n",
    "model.add(Dense(128,'relu'))\n",
    "\n",
    "model.add(Dense(1, 'sigmoid'))\n",
    "\n",
    "model.compile(loss='binary_crossentropy',optimizer=tf.keras.optimizers.SGD(learning_rate=0.01),metrics=['accuracy'])\n",
    "model.build(input_shape=(None, 5,64,64,3))\n",
    "model.summary()"
   ],
   "metadata": {
    "collapsed": false,
    "pycharm": {
     "name": "#%%\n"
    }
   }
  },
  {
   "cell_type": "code",
   "execution_count": 171,
   "outputs": [
    {
     "name": "stdout",
     "output_type": "stream",
     "text": [
      "Epoch 1/7\n",
      "160/160 [==============================] - 586s 4s/step - loss: 0.6925 - accuracy: 0.5556 - val_loss: 0.6859 - val_accuracy: 0.6325\n",
      "Epoch 2/7\n",
      "160/160 [==============================] - 568s 4s/step - loss: 0.5710 - accuracy: 0.7088 - val_loss: 0.6241 - val_accuracy: 0.6400\n",
      "Epoch 3/7\n",
      "160/160 [==============================] - 569s 4s/step - loss: 0.4750 - accuracy: 0.7719 - val_loss: 0.5329 - val_accuracy: 0.7325\n",
      "Epoch 4/7\n",
      "160/160 [==============================] - 563s 4s/step - loss: 0.4254 - accuracy: 0.8069 - val_loss: 0.4289 - val_accuracy: 0.8000\n",
      "Epoch 5/7\n",
      "160/160 [==============================] - 565s 4s/step - loss: 0.3726 - accuracy: 0.8413 - val_loss: 0.4211 - val_accuracy: 0.8000\n",
      "Epoch 6/7\n",
      "160/160 [==============================] - 565s 4s/step - loss: 0.3499 - accuracy: 0.8388 - val_loss: 0.4078 - val_accuracy: 0.8150\n",
      "Epoch 7/7\n",
      "160/160 [==============================] - 567s 4s/step - loss: 0.2962 - accuracy: 0.8825 - val_loss: 0.3789 - val_accuracy: 0.8300\n"
     ]
    },
    {
     "data": {
      "text/plain": "<keras.callbacks.History at 0x1d6801e64a8>"
     },
     "execution_count": 171,
     "metadata": {},
     "output_type": "execute_result"
    }
   ],
   "source": [
    "model.fit(X_train, y_train, batch_size=10, epochs=7, validation_data=(X_test, y_test))"
   ],
   "metadata": {
    "collapsed": false,
    "pycharm": {
     "name": "#%%\n"
    }
   }
  },
  {
   "cell_type": "code",
   "execution_count": 188,
   "outputs": [
    {
     "name": "stderr",
     "output_type": "stream",
     "text": [
      "WARNING:absl:Found untraced functions such as conv3d_60_layer_call_and_return_conditional_losses, conv3d_60_layer_call_fn, re_lu_75_layer_call_and_return_conditional_losses, re_lu_75_layer_call_fn, conv3d_61_layer_call_and_return_conditional_losses while saving (showing 5 of 28). These functions will not be directly callable after loading.\n"
     ]
    },
    {
     "name": "stdout",
     "output_type": "stream",
     "text": [
      "INFO:tensorflow:Assets written to: saved_model_v1\\assets\n"
     ]
    },
    {
     "name": "stderr",
     "output_type": "stream",
     "text": [
      "INFO:tensorflow:Assets written to: saved_model_v1\\assets\n"
     ]
    }
   ],
   "source": [
    "tf.keras.models.save_model(model, \"saved_model_v1\")"
   ],
   "metadata": {
    "collapsed": false,
    "pycharm": {
     "name": "#%%\n"
    }
   }
  },
  {
   "cell_type": "code",
   "execution_count": 193,
   "outputs": [
    {
     "name": "stdout",
     "output_type": "stream",
     "text": [
      "40/40 [==============================] - 17s 430ms/step - loss: 0.3789 - accuracy: 0.8300\n"
     ]
    }
   ],
   "source": [
    "result = model.evaluate(X_test, y_test, batch_size=10)"
   ],
   "metadata": {
    "collapsed": false,
    "pycharm": {
     "name": "#%%\n"
    }
   }
  },
  {
   "cell_type": "code",
   "execution_count": 174,
   "outputs": [
    {
     "name": "stdout",
     "output_type": "stream",
     "text": [
      "Accuracy: 83.0 %\n"
     ]
    }
   ],
   "source": [
    "loss, accuracy = result\n",
    "print(f\"Accuracy: {round(accuracy * 100, 3)} %\")"
   ],
   "metadata": {
    "collapsed": false,
    "pycharm": {
     "name": "#%%\n"
    }
   }
  },
  {
   "cell_type": "markdown",
   "source": [
    "## Tests\n",
    "If we get the 0 as prediction value that means there is a violence in the video, otherwise not."
   ],
   "metadata": {
    "collapsed": false,
    "pycharm": {
     "name": "#%% md\n"
    }
   }
  },
  {
   "cell_type": "code",
   "execution_count": 197,
   "outputs": [],
   "source": [
    "preds = model.predict(X_test)"
   ],
   "metadata": {
    "collapsed": false,
    "pycharm": {
     "name": "#%%\n"
    }
   }
  },
  {
   "cell_type": "code",
   "execution_count": 198,
   "outputs": [],
   "source": [
    "y_preds = []\n",
    "for pred in preds:\n",
    "    if pred[0] * 100 > 50:\n",
    "        y_preds.append(1)\n",
    "    else:\n",
    "        y_preds.append(0)"
   ],
   "metadata": {
    "collapsed": false,
    "pycharm": {
     "name": "#%%\n"
    }
   }
  },
  {
   "cell_type": "code",
   "execution_count": 199,
   "outputs": [],
   "source": [
    "report = classification_report(y_test, y_preds)"
   ],
   "metadata": {
    "collapsed": false,
    "pycharm": {
     "name": "#%%\n"
    }
   }
  },
  {
   "cell_type": "code",
   "execution_count": 200,
   "outputs": [],
   "source": [
    "def classification_report_to_dataframe(str_representation_of_report):\n",
    "    split_string = [x.split(' ') for x in str_representation_of_report.split('\\n')]\n",
    "    column_names = ['']+[x for x in split_string[0] if x!='']\n",
    "    values = []\n",
    "    for table_row in split_string[1:-1]:\n",
    "        table_row = [value for value in table_row if value!='']\n",
    "        if table_row:\n",
    "            values.append(table_row)\n",
    "    for i in values:\n",
    "        for j in range(len(i)):\n",
    "            if i[1] == 'avg':\n",
    "                i[0:2] = [' '.join(i[0:2])]\n",
    "            if len(i) == 3:\n",
    "                i.insert(1,np.nan)\n",
    "                i.insert(2, np.nan)\n",
    "            else:\n",
    "                pass\n",
    "    report_to_df = pd.DataFrame(data=values, columns=column_names)\n",
    "    return report_to_df"
   ],
   "metadata": {
    "collapsed": false,
    "pycharm": {
     "name": "#%%\n"
    }
   }
  },
  {
   "cell_type": "code",
   "execution_count": 201,
   "outputs": [
    {
     "data": {
      "text/plain": "                precision recall f1-score support\n0             0      0.84   0.81     0.83     199\n1             1      0.82   0.85     0.83     201\n2      accuracy       NaN    NaN     0.83     400\n3     macro avg      0.83   0.83     0.83     400\n4  weighted avg      0.83   0.83     0.83     400",
      "text/html": "<div>\n<style scoped>\n    .dataframe tbody tr th:only-of-type {\n        vertical-align: middle;\n    }\n\n    .dataframe tbody tr th {\n        vertical-align: top;\n    }\n\n    .dataframe thead th {\n        text-align: right;\n    }\n</style>\n<table border=\"1\" class=\"dataframe\">\n  <thead>\n    <tr style=\"text-align: right;\">\n      <th></th>\n      <th></th>\n      <th>precision</th>\n      <th>recall</th>\n      <th>f1-score</th>\n      <th>support</th>\n    </tr>\n  </thead>\n  <tbody>\n    <tr>\n      <th>0</th>\n      <td>0</td>\n      <td>0.84</td>\n      <td>0.81</td>\n      <td>0.83</td>\n      <td>199</td>\n    </tr>\n    <tr>\n      <th>1</th>\n      <td>1</td>\n      <td>0.82</td>\n      <td>0.85</td>\n      <td>0.83</td>\n      <td>201</td>\n    </tr>\n    <tr>\n      <th>2</th>\n      <td>accuracy</td>\n      <td>NaN</td>\n      <td>NaN</td>\n      <td>0.83</td>\n      <td>400</td>\n    </tr>\n    <tr>\n      <th>3</th>\n      <td>macro avg</td>\n      <td>0.83</td>\n      <td>0.83</td>\n      <td>0.83</td>\n      <td>400</td>\n    </tr>\n    <tr>\n      <th>4</th>\n      <td>weighted avg</td>\n      <td>0.83</td>\n      <td>0.83</td>\n      <td>0.83</td>\n      <td>400</td>\n    </tr>\n  </tbody>\n</table>\n</div>"
     },
     "execution_count": 201,
     "metadata": {},
     "output_type": "execute_result"
    }
   ],
   "source": [
    "classification_report_to_dataframe(report)"
   ],
   "metadata": {
    "collapsed": false,
    "pycharm": {
     "name": "#%%\n"
    }
   }
  },
  {
   "cell_type": "code",
   "execution_count": 202,
   "outputs": [],
   "source": [
    "from PIL import Image\n",
    "Image.fromarray(X_test[0][0], \"RGB\").save(\"test.jpg\")"
   ],
   "metadata": {
    "collapsed": false,
    "pycharm": {
     "name": "#%%\n"
    }
   }
  },
  {
   "cell_type": "code",
   "execution_count": 203,
   "outputs": [
    {
     "data": {
      "text/plain": "array([[161,  38],\n       [ 30, 171]], dtype=int64)"
     },
     "execution_count": 203,
     "metadata": {},
     "output_type": "execute_result"
    }
   ],
   "source": [
    "confusion_matrix(y_test, y_preds)"
   ],
   "metadata": {
    "collapsed": false,
    "pycharm": {
     "name": "#%%\n"
    }
   }
  },
  {
   "cell_type": "markdown",
   "source": [
    "## Loading saved model"
   ],
   "metadata": {
    "collapsed": false,
    "pycharm": {
     "name": "#%% md\n"
    }
   }
  },
  {
   "cell_type": "code",
   "execution_count": 195,
   "outputs": [],
   "source": [
    "model = tf.keras.models.load_model(\"saved_model_v1\")"
   ],
   "metadata": {
    "collapsed": false,
    "pycharm": {
     "name": "#%%\n"
    }
   }
  },
  {
   "cell_type": "code",
   "execution_count": 196,
   "outputs": [
    {
     "name": "stdout",
     "output_type": "stream",
     "text": [
      "Model: \"sequential_2\"\n",
      "_________________________________________________________________\n",
      " Layer (type)                Output Shape              Param #   \n",
      "=================================================================\n",
      " batch_normalization_90 (Bat  (None, 5, 64, 64, 3)     12        \n",
      " chNormalization)                                                \n",
      "                                                                 \n",
      " module_wrapper_19 (ModuleWr  (None, 5, 64, 64, 64)    0         \n",
      " apper)                                                          \n",
      "                                                                 \n",
      " batch_normalization_91 (Bat  (None, 5, 64, 64, 64)    256       \n",
      " chNormalization)                                                \n",
      "                                                                 \n",
      " module_wrapper_20 (ModuleWr  (None, 5, 64, 64, 64)    0         \n",
      " apper)                                                          \n",
      "                                                                 \n",
      " module_wrapper_21 (ModuleWr  (None, 5, 32, 32, 64)    0         \n",
      " apper)                                                          \n",
      "                                                                 \n",
      " module_wrapper_22 (ModuleWr  (None, 5, 32, 32, 64)    0         \n",
      " apper)                                                          \n",
      "                                                                 \n",
      " batch_normalization_92 (Bat  (None, 5, 32, 32, 64)    256       \n",
      " chNormalization)                                                \n",
      "                                                                 \n",
      " module_wrapper_23 (ModuleWr  (None, 5, 32, 32, 64)    0         \n",
      " apper)                                                          \n",
      "                                                                 \n",
      " module_wrapper_24 (ModuleWr  (None, 5, 16, 16, 64)    0         \n",
      " apper)                                                          \n",
      "                                                                 \n",
      " module_wrapper_25 (ModuleWr  (None, 5, 16, 16, 128)   0         \n",
      " apper)                                                          \n",
      "                                                                 \n",
      " batch_normalization_93 (Bat  (None, 5, 16, 16, 128)   512       \n",
      " chNormalization)                                                \n",
      "                                                                 \n",
      " module_wrapper_26 (ModuleWr  (None, 5, 16, 16, 128)   0         \n",
      " apper)                                                          \n",
      "                                                                 \n",
      " module_wrapper_27 (ModuleWr  (None, 5, 8, 8, 128)     0         \n",
      " apper)                                                          \n",
      "                                                                 \n",
      " module_wrapper_28 (ModuleWr  (None, 5, 8, 8, 128)     0         \n",
      " apper)                                                          \n",
      "                                                                 \n",
      " batch_normalization_94 (Bat  (None, 5, 8, 8, 128)     512       \n",
      " chNormalization)                                                \n",
      "                                                                 \n",
      " module_wrapper_29 (ModuleWr  (None, 5, 8, 8, 128)     0         \n",
      " apper)                                                          \n",
      "                                                                 \n",
      " module_wrapper_30 (ModuleWr  (None, 5, 8192)          0         \n",
      " apper)                                                          \n",
      "                                                                 \n",
      " module_wrapper_31 (ModuleWr  (None, 5, 32)            0         \n",
      " apper)                                                          \n",
      "                                                                 \n",
      " module_wrapper_32 (ModuleWr  (None, 32)               0         \n",
      " apper)                                                          \n",
      "                                                                 \n",
      " module_wrapper_33 (ModuleWr  (None, 512)              0         \n",
      " apper)                                                          \n",
      "                                                                 \n",
      " batch_normalization_95 (Bat  (None, 512)              2048      \n",
      " chNormalization)                                                \n",
      "                                                                 \n",
      " module_wrapper_34 (ModuleWr  (None, 512)              0         \n",
      " apper)                                                          \n",
      "                                                                 \n",
      " module_wrapper_35 (ModuleWr  (None, 512)              0         \n",
      " apper)                                                          \n",
      "                                                                 \n",
      " module_wrapper_36 (ModuleWr  (None, 128)              0         \n",
      " apper)                                                          \n",
      "                                                                 \n",
      " module_wrapper_37 (ModuleWr  (None, 1)                0         \n",
      " apper)                                                          \n",
      "                                                                 \n",
      "=================================================================\n",
      "Total params: 3,596\n",
      "Trainable params: 1,798\n",
      "Non-trainable params: 1,798\n",
      "_________________________________________________________________\n"
     ]
    }
   ],
   "source": [
    "model.summary()"
   ],
   "metadata": {
    "collapsed": false,
    "pycharm": {
     "name": "#%%\n"
    }
   }
  },
  {
   "cell_type": "code",
   "execution_count": 205,
   "outputs": [
    {
     "data": {
      "text/plain": "array([[[[[ 77,  65,  72],\n          [ 71,  65,  69],\n          [ 81,  66,  71],\n          ...,\n          [181, 182, 184],\n          [ 69,  57,  59],\n          [ 89,  70,  72]],\n\n         [[ 78,  70,  78],\n          [ 88,  70,  67],\n          [ 94,  72,  60],\n          ...,\n          [202, 198, 201],\n          [ 70,  55,  58],\n          [ 92,  73,  74]],\n\n         [[ 83,  66,  75],\n          [164, 138,  59],\n          [209, 169,  44],\n          ...,\n          [ 59,  48,  52],\n          [ 70,  53,  56],\n          [ 96,  74,  76]],\n\n         ...,\n\n         [[  4,   9,  14],\n          [  7,   5,  10],\n          [ 12,   7,  13],\n          ...,\n          [ 38,  28,  28],\n          [ 39,  29,  29],\n          [ 39,  29,  29]],\n\n         [[  4,  10,  14],\n          [ 11,   9,  14],\n          [ 15,  10,  16],\n          ...,\n          [ 39,  29,  29],\n          [ 40,  30,  30],\n          [ 40,  30,  30]],\n\n         [[  4,  10,  14],\n          [ 11,   9,  14],\n          [ 18,  13,  19],\n          ...,\n          [ 39,  29,  29],\n          [ 40,  30,  30],\n          [ 40,  30,  30]]],\n\n\n        [[[193, 253, 252],\n          [165, 221, 214],\n          [ 70,  59,  61],\n          ...,\n          [104,  81,  87],\n          [102,  82,  86],\n          [102,  83,  82]],\n\n         [[185, 254, 246],\n          [124, 160, 155],\n          [ 94,  67,  70],\n          ...,\n          [102,  81,  87],\n          [ 99,  82,  85],\n          [103,  82,  81]],\n\n         [[188, 255, 254],\n          [186, 187, 110],\n          [215, 170,  53],\n          ...,\n          [100,  79,  85],\n          [102,  82,  86],\n          [101,  82,  82]],\n\n         ...,\n\n         [[ 20,  20,  20],\n          [ 18,  18,  18],\n          [ 16,  16,  16],\n          ...,\n          [ 38,  28,  28],\n          [ 39,  29,  29],\n          [ 40,  30,  30]],\n\n         [[ 20,  20,  20],\n          [ 18,  18,  18],\n          [ 16,  16,  16],\n          ...,\n          [ 38,  28,  28],\n          [ 40,  30,  30],\n          [ 40,  30,  30]],\n\n         [[ 19,  19,  19],\n          [ 17,  17,  17],\n          [ 16,  16,  16],\n          ...,\n          [ 38,  28,  28],\n          [ 39,  29,  29],\n          [ 39,  29,  29]]],\n\n\n        [[[183, 251, 249],\n          [189, 253, 253],\n          [201, 252, 254],\n          ...,\n          [103,  79,  81],\n          [108,  84,  86],\n          [111,  87,  89]],\n\n         [[178, 249, 255],\n          [174, 247, 248],\n          [197, 249, 250],\n          ...,\n          [106,  82,  84],\n          [108,  84,  86],\n          [106,  82,  84]],\n\n         [[174, 253, 253],\n          [200, 210, 165],\n          [242, 202, 118],\n          ...,\n          [106,  82,  84],\n          [106,  82,  84],\n          [106,  82,  84]],\n\n         ...,\n\n         [[ 29,  29,  29],\n          [ 26,  26,  26],\n          [ 25,  25,  25],\n          ...,\n          [ 40,  30,  30],\n          [ 38,  28,  28],\n          [ 38,  28,  28]],\n\n         [[ 29,  29,  29],\n          [ 27,  27,  27],\n          [ 25,  25,  25],\n          ...,\n          [ 39,  29,  29],\n          [ 39,  29,  29],\n          [ 41,  31,  31]],\n\n         [[ 26,  26,  26],\n          [ 25,  25,  25],\n          [ 23,  23,  23],\n          ...,\n          [ 36,  26,  26],\n          [ 38,  28,  28],\n          [ 40,  30,  30]]],\n\n\n        [[[140, 253, 249],\n          [140, 250, 251],\n          [141, 252, 248],\n          ...,\n          [102,  79,  78],\n          [ 99,  76,  75],\n          [102,  79,  78]],\n\n         [[135, 254, 247],\n          [128, 249, 237],\n          [146, 252, 240],\n          ...,\n          [ 99,  76,  75],\n          [ 97,  74,  73],\n          [100,  77,  76]],\n\n         [[128, 254, 252],\n          [167, 211, 156],\n          [227, 199, 125],\n          ...,\n          [100,  77,  76],\n          [ 99,  76,  75],\n          [101,  78,  77]],\n\n         ...,\n\n         [[ 55,  50,  51],\n          [ 27,  24,  25],\n          [ 24,  24,  24],\n          ...,\n          [ 39,  29,  29],\n          [ 40,  30,  30],\n          [ 39,  29,  29]],\n\n         [[ 63,  59,  60],\n          [ 26,  23,  24],\n          [ 24,  24,  24],\n          ...,\n          [ 38,  28,  28],\n          [ 35,  25,  25],\n          [ 39,  29,  29]],\n\n         [[ 61,  57,  58],\n          [ 26,  23,  24],\n          [ 24,  24,  24],\n          ...,\n          [ 36,  26,  26],\n          [ 39,  29,  29],\n          [ 39,  29,  29]]],\n\n\n        [[[ 17,  71,  72],\n          [ 75,  62,  69],\n          [ 82,  65,  72],\n          ...,\n          [ 97,  75,  77],\n          [106,  84,  86],\n          [111,  89,  91]],\n\n         [[ 38,  82,  84],\n          [ 79,  69,  64],\n          [ 82,  74,  64],\n          ...,\n          [102,  80,  82],\n          [101,  79,  81],\n          [107,  85,  87]],\n\n         [[ 59,  79,  76],\n          [191, 139,  70],\n          [218, 171,  40],\n          ...,\n          [ 99,  77,  79],\n          [124, 102, 104],\n          [143, 121, 123]],\n\n         ...,\n\n         [[117, 136, 157],\n          [  9,  20,  28],\n          [ 14,  21,  22],\n          ...,\n          [ 37,  27,  27],\n          [ 36,  26,  26],\n          [ 35,  25,  25]],\n\n         [[138, 167, 189],\n          [ 74,  96, 104],\n          [100, 118, 120],\n          ...,\n          [ 37,  27,  27],\n          [ 35,  25,  25],\n          [ 33,  23,  23]],\n\n         [[ 81, 120, 140],\n          [116, 147, 154],\n          [112, 138, 139],\n          ...,\n          [ 37,  27,  27],\n          [ 35,  25,  25],\n          [ 33,  23,  23]]]],\n\n\n\n       [[[[  8,   8,   8],\n          [  6,   6,   6],\n          [  8,   8,   8],\n          ...,\n          [  9,  13,  29],\n          [ 24,  22,  55],\n          [ 29,  26,  61]],\n\n         [[  6,   6,   6],\n          [  6,   6,   6],\n          [  6,   6,   6],\n          ...,\n          [ 34,  38,  59],\n          [ 12,  14,  42],\n          [ 13,  15,  43]],\n\n         [[  6,   6,   6],\n          [  6,   6,   6],\n          [  5,   5,   5],\n          ...,\n          [ 23,  27,  49],\n          [ 34,  36,  63],\n          [  9,  12,  37]],\n\n         ...,\n\n         [[ 31,  68,  92],\n          [ 29,  69,  92],\n          [ 29,  69,  92],\n          ...,\n          [ 41,  48,  55],\n          [ 94,  99, 105],\n          [ 96,  99, 104]],\n\n         [[ 31,  68,  92],\n          [ 29,  69,  92],\n          [ 29,  69,  92],\n          ...,\n          [ 80,  88,  97],\n          [ 72,  77,  83],\n          [100, 100, 105]],\n\n         [[ 32,  68,  90],\n          [ 24,  68,  93],\n          [ 23,  63,  86],\n          ...,\n          [ 26,  36,  40],\n          [ 43,  45,  52],\n          [ 80,  78,  83]]],\n\n\n        [[[  8,   8,   8],\n          [  6,   6,   6],\n          [  4,   4,   4],\n          ...,\n          [ 21,  28,  41],\n          [ 11,  18,  38],\n          [ 47,  59,  90]],\n\n         [[  6,   6,   6],\n          [  6,   6,   6],\n          [  4,   4,   4],\n          ...,\n          [ 10,  17,  30],\n          [ 12,  20,  40],\n          [ 27,  40,  72]],\n\n         [[  6,   6,   6],\n          [  6,   6,   6],\n          [  4,   4,   4],\n          ...,\n          [ 33,  38,  50],\n          [ 11,  19,  39],\n          [ 25,  38,  69]],\n\n         ...,\n\n         [[ 31,  69,  91],\n          [ 27,  69,  95],\n          [ 24,  69,  91],\n          ...,\n          [ 20,  26,  35],\n          [ 34,  39,  56],\n          [ 95,  99, 106]],\n\n         [[ 31,  69,  91],\n          [ 12,  49,  73],\n          [ 35,  69,  93],\n          ...,\n          [ 32,  42,  52],\n          [ 64,  71,  91],\n          [ 98, 102, 111]],\n\n         [[ 30,  72,  90],\n          [  3,  29,  49],\n          [ 35,  60,  81],\n          ...,\n          [ 49,  59,  71],\n          [ 39,  49,  61],\n          [ 23,  25,  32]]],\n\n\n        [[[  5,   5,   5],\n          [  6,   6,   6],\n          [  4,   4,   4],\n          ...,\n          [ 24,  27,  45],\n          [ 30,  35,  49],\n          [ 11,  14,  32]],\n\n         [[  6,   6,   6],\n          [  6,   6,   6],\n          [  4,   4,   4],\n          ...,\n          [ 61,  64,  81],\n          [ 11,  12,  28],\n          [  2,   6,  22]],\n\n         [[  6,   6,   6],\n          [  6,   6,   6],\n          [  4,   4,   4],\n          ...,\n          [ 24,  33,  50],\n          [ 30,  35,  58],\n          [ 15,  18,  39]],\n\n         ...,\n\n         [[ 28,  71,  87],\n          [ 23,  69,  94],\n          [ 22,  68,  93],\n          ...,\n          [ 21,  23,  29],\n          [ 28,  30,  36],\n          [ 34,  42,  52]],\n\n         [[ 28,  67,  86],\n          [ 25,  69,  94],\n          [ 23,  69,  94],\n          ...,\n          [ 16,  19,  30],\n          [ 20,  25,  36],\n          [ 36,  48,  58]],\n\n         [[ 45,  74,  97],\n          [ 21,  63,  86],\n          [ 24,  72,  92],\n          ...,\n          [ 17,  27,  39],\n          [ 31,  43,  55],\n          [ 61,  75,  89]]],\n\n\n        [[[ 50,  54,  42],\n          [ 64,  59,  71],\n          [ 70,  71,  81],\n          ...,\n          [ 85,  88,  93],\n          [ 82,  86,  95],\n          [ 75,  79,  88]],\n\n         [[ 94,  98,  86],\n          [ 60,  54,  66],\n          [ 67,  68,  78],\n          ...,\n          [ 85,  88,  93],\n          [ 84,  88,  96],\n          [ 76,  80,  89]],\n\n         [[143, 145, 137],\n          [ 74,  69,  81],\n          [ 85,  86,  96],\n          ...,\n          [ 87,  89,  95],\n          [ 89,  93, 101],\n          [ 91,  95, 104]],\n\n         ...,\n\n         [[145, 152, 158],\n          [145, 151, 160],\n          [147, 152, 158],\n          ...,\n          [130, 135, 141],\n          [125, 130, 136],\n          [123, 128, 134]],\n\n         [[145, 152, 158],\n          [145, 151, 160],\n          [147, 152, 158],\n          ...,\n          [132, 137, 143],\n          [127, 132, 138],\n          [124, 129, 135]],\n\n         [[148, 153, 159],\n          [149, 153, 162],\n          [149, 154, 160],\n          ...,\n          [132, 137, 143],\n          [128, 133, 139],\n          [125, 130, 136]]],\n\n\n        [[[ 54,  53,  42],\n          [ 62,  60,  72],\n          [ 74,  75,  85],\n          ...,\n          [ 82,  88,  92],\n          [ 82,  86,  95],\n          [ 78,  82,  91]],\n\n         [[ 98,  97,  86],\n          [ 56,  56,  68],\n          [ 67,  68,  78],\n          ...,\n          [ 84,  90,  94],\n          [ 84,  88,  96],\n          [ 75,  79,  88]],\n\n         [[147, 144, 137],\n          [ 69,  69,  81],\n          [ 85,  86,  96],\n          ...,\n          [ 85,  90,  95],\n          [ 89,  93, 103],\n          [ 91,  95, 105]],\n\n         ...,\n\n         [[145, 152, 158],\n          [145, 151, 160],\n          [147, 152, 158],\n          ...,\n          [  8,   7,   9],\n          [  7,   7,   7],\n          [129, 129, 129]],\n\n         [[145, 152, 158],\n          [145, 151, 160],\n          [147, 152, 158],\n          ...,\n          [  8,   8,   9],\n          [  8,   8,   8],\n          [129, 129, 129]],\n\n         [[148, 153, 159],\n          [149, 153, 162],\n          [149, 154, 160],\n          ...,\n          [  8,   8,   8],\n          [  8,   8,   8],\n          [123, 123, 123]]]],\n\n\n\n       [[[[ 84,  56,  43],\n          [ 91,  58,  46],\n          [ 86,  60,  47],\n          ...,\n          [ 77,  36,  34],\n          [ 71,  34,  31],\n          [ 70,  34,  31]],\n\n         [[117,  97,  87],\n          [112,  96,  86],\n          [115,  99,  89],\n          ...,\n          [128,  92,  89],\n          [113,  80,  76],\n          [ 86,  53,  49]],\n\n         [[131, 118, 107],\n          [120, 110,  96],\n          [114, 106,  94],\n          ...,\n          [126,  97,  93],\n          [122,  93,  89],\n          [122,  93,  89]],\n\n         ...,\n\n         [[112, 115, 147],\n          [116, 119, 151],\n          [112, 116, 145],\n          ...,\n          [ 17,  17,  15],\n          [ 15,  15,  13],\n          [ 14,  14,  12]],\n\n         [[101, 104, 143],\n          [105, 106, 136],\n          [108, 109, 139],\n          ...,\n          [ 13,  13,  11],\n          [  8,  11,   9],\n          [  8,  11,   9]],\n\n         [[ 98, 105, 144],\n          [ 98, 109, 143],\n          [ 98, 107, 152],\n          ...,\n          [ 17,   7,   7],\n          [ 12,   5,   4],\n          [ 17,  10,   9]]],\n\n\n        [[[ 62,  82,  89],\n          [ 73,  92, 103],\n          [ 76,  95, 106],\n          ...,\n          [ 29,  55,  58],\n          [ 30,  57,  58],\n          [ 30,  57,  58]],\n\n         [[ 32,  52,  59],\n          [ 66,  85,  96],\n          [ 68,  87,  98],\n          ...,\n          [ 29,  55,  58],\n          [ 30,  56,  59],\n          [ 30,  56,  59]],\n\n         [[ 29,  48,  52],\n          [ 56,  71,  80],\n          [ 60,  77,  88],\n          ...,\n          [ 29,  55,  58],\n          [ 30,  57,  58],\n          [ 30,  57,  58]],\n\n         ...,\n\n         [[ 83,  26,   6],\n          [ 83,  26,   6],\n          [ 85,  25,   6],\n          ...,\n          [ 78,  35,  33],\n          [ 86,  42,  43],\n          [150, 116, 115]],\n\n         [[ 86,  29,   9],\n          [ 83,  26,   6],\n          [ 81,  23,   5],\n          ...,\n          [ 82,  39,  42],\n          [161, 120, 122],\n          [128, 100, 100]],\n\n         [[ 86,  29,   9],\n          [ 83,  26,   6],\n          [ 82,  24,   6],\n          ...,\n          [157, 119, 121],\n          [146, 109, 112],\n          [128,  96,  97]]],\n\n\n        [[[ 86, 107, 132],\n          [ 67,  86, 108],\n          [ 47,  62,  81],\n          ...,\n          [174, 109,  38],\n          [ 63,  17,  10],\n          [ 47,   6,  11]],\n\n         [[114, 127, 148],\n          [ 90, 112, 133],\n          [ 64,  84, 104],\n          ...,\n          [174, 109,  38],\n          [ 70,  19,  12],\n          [ 49,   5,  11]],\n\n         [[113, 126, 142],\n          [110, 127, 148],\n          [ 97, 120, 141],\n          ...,\n          [175, 108,  37],\n          [ 77,  24,  14],\n          [ 51,   6,   9]],\n\n         ...,\n\n         [[100, 113, 134],\n          [ 74,  96, 121],\n          [ 46,  64,  86],\n          ...,\n          [122,  96,  91],\n          [120,  90,  86],\n          [113,  83,  77]],\n\n         [[115, 129, 148],\n          [ 68,  93, 126],\n          [ 66,  85, 110],\n          ...,\n          [121,  86,  81],\n          [120,  89,  85],\n          [122,  92,  86]],\n\n         [[130, 144, 163],\n          [ 64,  89, 122],\n          [ 85, 104, 129],\n          ...,\n          [121,  86,  81],\n          [122,  91,  87],\n          [129,  99,  93]]],\n\n\n        [[[ 30,  37,  64],\n          [ 71,  76,  97],\n          [ 76,  91, 102],\n          ...,\n          [ 62,  13,  15],\n          [ 44,   8,  13],\n          [ 34,  11,  20]],\n\n         [[ 31,  38,  65],\n          [ 30,  43,  69],\n          [ 66,  79, 100],\n          ...,\n          [ 62,  13,  15],\n          [ 40,   8,   9],\n          [ 33,  11,   8]],\n\n         [[ 33,  48,  69],\n          [ 22,  40,  61],\n          [ 29,  45,  72],\n          ...,\n          [ 66,  17,  14],\n          [ 44,   7,  10],\n          [ 43,   8,   9]],\n\n         ...,\n\n         [[ 39,  54,  77],\n          [ 44,  63,  88],\n          [ 74,  96, 120],\n          ...,\n          [ 64,  63,  65],\n          [ 57,  60,  60],\n          [ 56,  59,  59]],\n\n         [[ 39,  59,  81],\n          [ 48,  71,  92],\n          [ 67,  84, 109],\n          ...,\n          [ 91,  93,  95],\n          [ 68,  68,  68],\n          [ 61,  61,  61]],\n\n         [[ 46,  64,  84],\n          [ 43,  63,  83],\n          [ 54,  73,  95],\n          ...,\n          [104, 106, 108],\n          [ 91,  91,  91],\n          [ 74,  74,  74]]],\n\n\n        [[[ 47,  55,  76],\n          [ 76,  86,  99],\n          [ 76,  88, 100],\n          ...,\n          [ 81,  50,  70],\n          [ 41,  11,  21],\n          [ 59,  37,  63]],\n\n         [[ 26,  39,  62],\n          [ 49,  61,  87],\n          [ 74,  87, 103],\n          ...,\n          [ 58,  14,  15],\n          [ 46,   9,  11],\n          [ 40,  11,  21]],\n\n         [[ 34,  47,  68],\n          [ 22,  38,  65],\n          [ 52,  70,  97],\n          ...,\n          [ 68,  12,  15],\n          [ 50,   8,  11],\n          [ 41,   8,   9]],\n\n         ...,\n\n         [[ 36,  50,  76],\n          [ 49,  67,  92],\n          [ 69,  91, 115],\n          ...,\n          [ 66,  65,  67],\n          [ 69,  65,  68],\n          [ 66,  65,  67]],\n\n         [[ 39,  57,  77],\n          [ 48,  68,  89],\n          [ 76,  90, 109],\n          ...,\n          [ 77,  79,  81],\n          [ 68,  68,  68],\n          [ 68,  65,  66]],\n\n         [[ 44,  62,  82],\n          [ 48,  69,  87],\n          [ 64,  78,  97],\n          ...,\n          [105, 107, 109],\n          [ 83,  83,  83],\n          [ 70,  67,  68]]]],\n\n\n\n       ...,\n\n\n\n       [[[[ 19,  19,  20],\n          [ 16,  19,  17],\n          [ 57,  68, 101],\n          ...,\n          [ 72,  81, 121],\n          [ 72,  81, 121],\n          [ 72,  81, 121]],\n\n         [[ 19,  19,  20],\n          [ 16,  19,  17],\n          [ 57,  68, 101],\n          ...,\n          [ 72,  81, 121],\n          [ 72,  81, 121],\n          [ 72,  81, 121]],\n\n         [[ 19,  19,  20],\n          [ 17,  20,  18],\n          [ 53,  64,  97],\n          ...,\n          [ 73,  82, 122],\n          [ 73,  82, 122],\n          [ 73,  82, 122]],\n\n         ...,\n\n         [[117,  95, 104],\n          [ 91,  69,  78],\n          [ 48,  29,  37],\n          ...,\n          [ 72,  56,  80],\n          [ 44,  55,  63],\n          [ 50,  64,  77]],\n\n         [[ 70,  56,  63],\n          [105,  91,  98],\n          [ 52,  35,  43],\n          ...,\n          [ 75,  91,  98],\n          [ 79,  93, 112],\n          [ 89,  99, 107]],\n\n         [[ 91,  80,  87],\n          [100,  88,  95],\n          [ 74,  57,  65],\n          ...,\n          [ 89,  94, 112],\n          [ 84,  90, 106],\n          [ 78,  87,  95]]],\n\n\n        [[[ 15,  19,  18],\n          [ 19,  21,  23],\n          [ 85,  91, 129],\n          ...,\n          [ 72,  81, 121],\n          [ 72,  81, 121],\n          [ 72,  81, 121]],\n\n         [[ 15,  19,  18],\n          [ 19,  21,  23],\n          [ 85,  91, 129],\n          ...,\n          [ 72,  81, 121],\n          [ 72,  81, 121],\n          [ 72,  81, 121]],\n\n         [[ 14,  19,  18],\n          [ 19,  21,  23],\n          [ 85,  91, 129],\n          ...,\n          [ 72,  81, 121],\n          [ 73,  82, 122],\n          [ 73,  82, 122]],\n\n         ...,\n\n         [[104,  87,  95],\n          [108,  91,  99],\n          [ 82,  65,  73],\n          ...,\n          [ 87,  73, 100],\n          [ 59,  74,  97],\n          [ 67,  86,  98]],\n\n         [[107,  90,  98],\n          [103,  86,  94],\n          [ 97,  80,  88],\n          ...,\n          [ 94, 104, 116],\n          [ 89,  99, 116],\n          [ 84, 102, 110]],\n\n         [[105,  88,  96],\n          [111,  94, 102],\n          [109,  92, 100],\n          ...,\n          [ 82,  80,  90],\n          [ 69,  79,  86],\n          [ 64,  69,  75]]],\n\n\n        [[[ 18,  22,  21],\n          [ 16,  19,  19],\n          [ 83,  89, 125],\n          ...,\n          [ 72,  81, 121],\n          [ 72,  81, 121],\n          [ 72,  81, 121]],\n\n         [[ 17,  22,  21],\n          [ 17,  20,  20],\n          [ 82,  88, 124],\n          ...,\n          [ 72,  81, 121],\n          [ 72,  81, 121],\n          [ 72,  81, 121]],\n\n         [[ 15,  20,  19],\n          [ 19,  22,  22],\n          [ 80,  86, 122],\n          ...,\n          [ 72,  81, 121],\n          [ 73,  82, 122],\n          [ 73,  82, 122]],\n\n         ...,\n\n         [[103,  86,  94],\n          [108,  91,  99],\n          [ 78,  61,  69],\n          ...,\n          [ 78,  63,  93],\n          [ 42,  63,  81],\n          [ 54,  72,  87]],\n\n         [[101,  84,  92],\n          [109,  92, 100],\n          [102,  85,  93],\n          ...,\n          [ 93,  98, 111],\n          [ 85,  99, 113],\n          [ 83, 102, 112]],\n\n         [[103,  86,  94],\n          [116,  99, 107],\n          [104,  87,  95],\n          ...,\n          [ 88,  92,  98],\n          [ 81,  86,  97],\n          [ 75,  82,  85]]],\n\n\n        [[[103, 106, 145],\n          [ 89,  92, 130],\n          [ 65,  68, 107],\n          ...,\n          [  9,  13,  15],\n          [ 15,  18,  16],\n          [ 15,  16,  14]],\n\n         [[ 93,  96, 133],\n          [ 89,  92, 129],\n          [ 58,  61,  98],\n          ...,\n          [ 16,  20,  22],\n          [ 15,  18,  16],\n          [ 15,  16,  14]],\n\n         [[ 59,  63,  97],\n          [ 76,  80, 114],\n          [ 62,  66, 100],\n          ...,\n          [ 14,  18,  20],\n          [ 14,  17,  15],\n          [ 16,  17,  15]],\n\n         ...,\n\n         [[ 37,  46,  70],\n          [ 26,  39,  62],\n          [ 37,  45,  81],\n          ...,\n          [ 67,  48,  69],\n          [ 27,  36,  42],\n          [ 23,  30,  37]],\n\n         [[ 32,  43,  73],\n          [ 31,  49,  83],\n          [ 30,  46,  87],\n          ...,\n          [ 34,  36,  43],\n          [ 23,  32,  47],\n          [ 18,  31,  39]],\n\n         [[ 39,  51,  83],\n          [ 32,  50,  95],\n          [ 35,  53,  94],\n          ...,\n          [ 39,  36,  51],\n          [ 23,  37,  42],\n          [ 25,  31,  47]]],\n\n\n        [[[103, 106, 145],\n          [ 89,  92, 130],\n          [ 65,  68, 107],\n          ...,\n          [  9,  13,  15],\n          [ 15,  18,  16],\n          [ 15,  16,  14]],\n\n         [[ 93,  96, 133],\n          [ 89,  92, 129],\n          [ 58,  61,  98],\n          ...,\n          [ 14,  18,  20],\n          [ 15,  18,  16],\n          [ 15,  16,  14]],\n\n         [[ 59,  63,  97],\n          [ 76,  80, 114],\n          [ 62,  66, 100],\n          ...,\n          [ 15,  19,  21],\n          [ 13,  16,  14],\n          [ 15,  16,  14]],\n\n         ...,\n\n         [[ 38,  47,  69],\n          [ 27,  39,  65],\n          [ 36,  46,  77],\n          ...,\n          [ 67,  48,  69],\n          [ 28,  35,  41],\n          [ 21,  29,  36]],\n\n         [[ 32,  44,  72],\n          [ 31,  49,  85],\n          [ 31,  48,  86],\n          ...,\n          [ 32,  37,  43],\n          [ 27,  31,  47],\n          [ 16,  31,  39]],\n\n         [[ 39,  51,  84],\n          [ 32,  52,  92],\n          [ 32,  48,  94],\n          ...,\n          [ 37,  36,  51],\n          [ 25,  37,  42],\n          [ 24,  31,  47]]]],\n\n\n\n       [[[[ 91, 106, 122],\n          [ 91, 106, 122],\n          [ 92, 108, 123],\n          ...,\n          [151, 117,  81],\n          [141, 110,  79],\n          [139, 110,  81]],\n\n         [[ 91, 107, 126],\n          [ 91, 107, 126],\n          [ 87, 102, 121],\n          ...,\n          [103,  70,  46],\n          [ 94,  63,  40],\n          [112,  78,  54]],\n\n         [[ 89, 107, 129],\n          [ 89, 107, 129],\n          [ 90, 108, 131],\n          ...,\n          [184, 143, 100],\n          [187, 145, 100],\n          [187, 146,  98]],\n\n         ...,\n\n         [[152, 121, 144],\n          [148, 118, 139],\n          [148, 119, 139],\n          ...,\n          [135, 109, 130],\n          [135, 110, 128],\n          [136, 111, 129]],\n\n         [[146, 114, 138],\n          [146, 116, 137],\n          [149, 120, 140],\n          ...,\n          [135, 108, 131],\n          [138, 112, 133],\n          [141, 116, 134]],\n\n         [[149, 120, 143],\n          [149, 121, 142],\n          [147, 118, 139],\n          ...,\n          [138, 111, 134],\n          [142, 116, 137],\n          [139, 112, 135]]],\n\n\n        [[[122, 128, 137],\n          [118, 123, 129],\n          [108, 115, 128],\n          ...,\n          [180, 139,  95],\n          [172, 136,  92],\n          [163, 128,  82]],\n\n         [[115, 122, 135],\n          [113, 120, 133],\n          [106, 115, 130],\n          ...,\n          [144, 112,  89],\n          [139, 105,  84],\n          [130,  97,  73]],\n\n         [[103, 117, 136],\n          [104, 118, 137],\n          [104, 119, 140],\n          ...,\n          [174, 135, 102],\n          [180, 141, 100],\n          [182, 143, 100]],\n\n         ...,\n\n         [[149, 120, 136],\n          [150, 121, 137],\n          [150, 121, 138],\n          ...,\n          [141, 111, 124],\n          [144, 112, 129],\n          [141, 109, 128]],\n\n         [[151, 122, 140],\n          [151, 122, 140],\n          [149, 118, 140],\n          ...,\n          [143, 111, 130],\n          [144, 112, 131],\n          [141, 109, 128]],\n\n         [[149, 121, 142],\n          [148, 120, 141],\n          [148, 119, 142],\n          ...,\n          [140, 112, 133],\n          [140, 113, 131],\n          [139, 112, 128]]],\n\n\n        [[[244, 244, 235],\n          [243, 243, 234],\n          [234, 234, 225],\n          ...,\n          [183, 143,  77],\n          [185, 143,  79],\n          [185, 141,  82]],\n\n         [[241, 243, 236],\n          [243, 244, 237],\n          [213, 213, 205],\n          ...,\n          [184, 142,  83],\n          [186, 142,  83],\n          [184, 143,  82]],\n\n         [[185, 194, 195],\n          [189, 198, 199],\n          [160, 168, 172],\n          ...,\n          [173, 134,  84],\n          [184, 141,  92],\n          [179, 139,  89]],\n\n         ...,\n\n         [[149, 123, 137],\n          [147, 120, 136],\n          [147, 120, 136],\n          ...,\n          [141, 113, 127],\n          [139, 111, 125],\n          [137, 111, 120]],\n\n         [[147, 120, 136],\n          [147, 120, 138],\n          [147, 119, 140],\n          ...,\n          [142, 114, 128],\n          [141, 113, 127],\n          [141, 115, 124]],\n\n         [[148, 121, 139],\n          [149, 122, 140],\n          [148, 121, 139],\n          ...,\n          [141, 112, 128],\n          [141, 112, 128],\n          [138, 109, 125]]],\n\n\n        [[[100, 112, 124],\n          [100, 112, 124],\n          [ 99, 111, 126],\n          ...,\n          [110,  76,  50],\n          [178, 140,  95],\n          [184, 142,  90]],\n\n         [[108, 118, 135],\n          [101, 111, 128],\n          [ 97, 110, 127],\n          ...,\n          [105,  71,  41],\n          [183, 147,  98],\n          [183, 146,  91]],\n\n         [[209, 212, 235],\n          [113, 121, 143],\n          [126, 137, 158],\n          ...,\n          [106,  72,  40],\n          [186, 148,  98],\n          [189, 150,  97]],\n\n         ...,\n\n         [[147, 117, 138],\n          [150, 121, 139],\n          [150, 119, 142],\n          ...,\n          [154, 125, 142],\n          [150, 121, 139],\n          [147, 114, 136]],\n\n         [[150, 121, 144],\n          [149, 120, 143],\n          [149, 119, 144],\n          ...,\n          [141, 113, 134],\n          [142, 115, 133],\n          [144, 114, 135]],\n\n         [[165, 136, 159],\n          [155, 125, 151],\n          [149, 119, 145],\n          ...,\n          [149, 121, 141],\n          [147, 119, 140],\n          [144, 116, 137]]],\n\n\n        [[[156, 136, 128],\n          [215, 213, 225],\n          [102, 119, 139],\n          ...,\n          [187, 150, 106],\n          [145, 115,  88],\n          [107,  74,  41]],\n\n         [[173, 136, 116],\n          [226, 227, 223],\n          [139, 154, 174],\n          ...,\n          [185, 152, 103],\n          [144, 113,  89],\n          [ 94,  66,  39]],\n\n         [[165, 136, 107],\n          [235, 229, 224],\n          [206, 220, 239],\n          ...,\n          [185, 153, 108],\n          [142, 112,  90],\n          [ 90,  68,  43]],\n\n         ...,\n\n         [[162, 135, 158],\n          [150, 123, 146],\n          [150, 122, 146],\n          ...,\n          [135, 108, 131],\n          [139, 116, 136],\n          [148, 119, 142]],\n\n         [[146, 121, 146],\n          [146, 121, 146],\n          [147, 120, 146],\n          ...,\n          [142, 114, 140],\n          [139, 112, 135],\n          [142, 113, 136]],\n\n         [[155, 126, 149],\n          [154, 124, 150],\n          [149, 119, 146],\n          ...,\n          [156, 128, 149],\n          [145, 117, 138],\n          [138, 112, 133]]]],\n\n\n\n       [[[[  8,   0,   2],\n          [232, 158, 134],\n          [228, 157, 124],\n          ...,\n          [252, 214, 192],\n          [251, 214, 192],\n          [237, 209, 182]],\n\n         [[  8,   0,   0],\n          [241, 174, 150],\n          [239, 174, 143],\n          ...,\n          [239, 198, 172],\n          [237, 195, 170],\n          [233, 189, 163]],\n\n         [[  7,   0,   0],\n          [243, 202, 174],\n          [249, 206, 173],\n          ...,\n          [255, 219, 190],\n          [254, 217, 190],\n          [255, 219, 191]],\n\n         ...,\n\n         [[  4,   1,   0],\n          [ 94,  73,  67],\n          [105,  76,  69],\n          ...,\n          [ 73,  84,  91],\n          [ 73,  84,  92],\n          [ 76,  83,  89]],\n\n         [[  6,   0,   0],\n          [ 94,  73,  67],\n          [106,  78,  71],\n          ...,\n          [ 69,  81,  86],\n          [ 70,  82,  87],\n          [ 76,  83,  89]],\n\n         [[  8,   0,   0],\n          [120,  97,  94],\n          [120,  92,  84],\n          ...,\n          [ 67,  79,  84],\n          [ 67,  79,  84],\n          [ 73,  79,  83]]],\n\n\n        [[[  0,   0,   3],\n          [213, 167, 151],\n          [232, 174, 142],\n          ...,\n          [165, 140, 123],\n          [ 89,  79,  65],\n          [ 82,  79,  68]],\n\n         [[  0,   0,   4],\n          [213, 168, 152],\n          [233, 176, 142],\n          ...,\n          [103, 100,  86],\n          [ 64,  67,  57],\n          [ 69,  74,  72]],\n\n         [[  0,   0,   4],\n          [217, 173, 157],\n          [238, 181, 147],\n          ...,\n          [103,  94,  83],\n          [ 83,  89,  78],\n          [ 86,  90,  83]],\n\n         ...,\n\n         [[  0,   0,   0],\n          [ 24,  21,  22],\n          [ 29,  22,  23],\n          ...,\n          [ 58,  74,  81],\n          [ 60,  73,  81],\n          [ 64,  73,  79]],\n\n         [[  0,   0,   0],\n          [ 23,  20,  21],\n          [ 35,  27,  25],\n          ...,\n          [ 55,  71,  78],\n          [ 59,  72,  80],\n          [ 64,  73,  79]],\n\n         [[  3,   0,   2],\n          [ 64,  60,  63],\n          [158, 150, 148],\n          ...,\n          [ 56,  66,  76],\n          [ 56,  66,  76],\n          [ 64,  73,  79]]],\n\n\n        [[[  1,   2,   0],\n          [224, 195, 182],\n          [238, 195, 173],\n          ...,\n          [219, 186, 171],\n          [218, 189, 173],\n          [212, 185, 174]],\n\n         [[  3,   1,   0],\n          [227, 198, 184],\n          [240, 197, 176],\n          ...,\n          [211, 185, 169],\n          [215, 188, 172],\n          [207, 184, 175]],\n\n         [[  3,   1,   0],\n          [236, 207, 194],\n          [245, 206, 185],\n          ...,\n          [205, 182, 170],\n          [210, 187, 172],\n          [209, 188, 177]],\n\n         ...,\n\n         [[  0,   0,   0],\n          [  8,  11,  11],\n          [ 11,  13,  16],\n          ...,\n          [ 81,  86,  92],\n          [104, 109, 115],\n          [119, 125, 129]],\n\n         [[  0,   0,   0],\n          [  7,  10,  10],\n          [ 11,  13,  15],\n          ...,\n          [ 60,  65,  76],\n          [ 60,  66,  75],\n          [ 63,  67,  73]],\n\n         [[  0,   0,   0],\n          [  5,   8,   8],\n          [  9,  11,  14],\n          ...,\n          [ 64,  67,  78],\n          [ 60,  66,  75],\n          [ 62,  67,  73]]],\n\n\n        [[[  0,   2,   0],\n          [234, 205, 184],\n          [247, 206, 176],\n          ...,\n          [185, 171, 164],\n          [187, 169, 166],\n          [197, 168, 171]],\n\n         [[  0,   1,   0],\n          [238, 209, 190],\n          [253, 209, 184],\n          ...,\n          [180, 172, 174],\n          [181, 173, 175],\n          [182, 170, 172]],\n\n         [[  1,   1,   0],\n          [236, 209, 190],\n          [250, 214, 188],\n          ...,\n          [177, 171, 176],\n          [180, 171, 177],\n          [177, 168, 171]],\n\n         ...,\n\n         [[  0,   0,   0],\n          [ 22,  22,  20],\n          [ 28,  25,  24],\n          ...,\n          [ 64,  70,  79],\n          [ 64,  70,  79],\n          [ 68,  72,  81]],\n\n         [[  0,   0,   0],\n          [ 22,  22,  20],\n          [ 26,  24,  25],\n          ...,\n          [ 64,  70,  79],\n          [ 64,  70,  79],\n          [ 68,  72,  81]],\n\n         [[  0,   0,   0],\n          [ 22,  22,  20],\n          [ 25,  24,  25],\n          ...,\n          [ 64,  70,  79],\n          [ 64,  70,  79],\n          [ 69,  71,  78]]],\n\n\n        [[[  9,   0,   0],\n          [235, 204, 200],\n          [236, 202, 186],\n          ...,\n          [232, 192, 173],\n          [225, 189, 173],\n          [222, 190, 175]],\n\n         [[  6,   2,   0],\n          [234, 213, 207],\n          [233, 203, 191],\n          ...,\n          [234, 194, 176],\n          [229, 196, 179],\n          [228, 196, 180]],\n\n         [[  6,   3,   0],\n          [229, 212, 206],\n          [235, 206, 194],\n          ...,\n          [249, 209, 191],\n          [241, 206, 189],\n          [234, 201, 186]],\n\n         ...,\n\n         [[  0,   0,   1],\n          [ 73,  71,  76],\n          [ 72,  73,  78],\n          ...,\n          [ 72,  76,  80],\n          [ 89,  92,  97],\n          [ 91,  94,  99]],\n\n         [[  0,   0,   2],\n          [ 95,  93,  98],\n          [ 64,  68,  74],\n          ...,\n          [ 80,  86,  90],\n          [ 88,  94,  98],\n          [ 88,  94,  98]],\n\n         [[  0,   0,   1],\n          [ 75,  73,  78],\n          [ 65,  68,  73],\n          ...,\n          [ 84,  91,  95],\n          [ 91,  97, 101],\n          [ 89,  95,  99]]]]], dtype=uint8)"
     },
     "execution_count": 205,
     "metadata": {},
     "output_type": "execute_result"
    }
   ],
   "source": [
    "X_train"
   ],
   "metadata": {
    "collapsed": false,
    "pycharm": {
     "name": "#%%\n"
    }
   }
  },
  {
   "cell_type": "code",
   "execution_count": 206,
   "outputs": [],
   "source": [
    "array = np.load(\"nv_video.npy\")"
   ],
   "metadata": {
    "collapsed": false,
    "pycharm": {
     "name": "#%%\n"
    }
   }
  },
  {
   "cell_type": "code",
   "execution_count": 207,
   "outputs": [
    {
     "data": {
      "text/plain": "5"
     },
     "execution_count": 207,
     "metadata": {},
     "output_type": "execute_result"
    }
   ],
   "source": [
    "array.ndim"
   ],
   "metadata": {
    "collapsed": false,
    "pycharm": {
     "name": "#%%\n"
    }
   }
  },
  {
   "cell_type": "code",
   "execution_count": 209,
   "outputs": [
    {
     "data": {
      "text/plain": "array([[0.5213612]], dtype=float32)"
     },
     "execution_count": 209,
     "metadata": {},
     "output_type": "execute_result"
    }
   ],
   "source": [
    "model.predict(np.expand_dims(X_test[0], axis=0))"
   ],
   "metadata": {
    "collapsed": false,
    "pycharm": {
     "name": "#%%\n"
    }
   }
  },
  {
   "cell_type": "code",
   "execution_count": 212,
   "outputs": [
    {
     "data": {
      "text/plain": "1"
     },
     "execution_count": 212,
     "metadata": {},
     "output_type": "execute_result"
    }
   ],
   "source": [
    "y_test[0]"
   ],
   "metadata": {
    "collapsed": false,
    "pycharm": {
     "name": "#%%\n"
    }
   }
  },
  {
   "cell_type": "code",
   "execution_count": 211,
   "outputs": [
    {
     "data": {
      "text/plain": "array([[5.2136111e-01],\n       [5.2767992e-04],\n       [8.5176551e-01],\n       [6.7782420e-01],\n       [8.9387405e-01],\n       [9.8893452e-01],\n       [4.9538910e-02],\n       [7.0356357e-01],\n       [2.5361884e-01],\n       [8.2208520e-01],\n       [2.1850467e-03],\n       [9.5641279e-01],\n       [9.6933651e-01],\n       [9.0250373e-03],\n       [1.5757084e-03],\n       [6.9975555e-03],\n       [5.7096970e-01],\n       [2.0311791e-01],\n       [9.9261737e-01],\n       [8.9381504e-01],\n       [1.4891624e-03],\n       [9.1715527e-01],\n       [5.0342268e-01],\n       [9.7950017e-01],\n       [7.0776373e-02],\n       [1.8049031e-02],\n       [9.6764493e-01],\n       [3.0882248e-01],\n       [5.1174873e-01],\n       [7.2030127e-03],\n       [1.8558204e-03],\n       [7.7749944e-01],\n       [2.5102794e-03],\n       [2.8557479e-02],\n       [8.3459187e-01],\n       [2.6377946e-02],\n       [3.7703457e-01],\n       [1.7341900e-01],\n       [9.2982006e-01],\n       [4.0328532e-01],\n       [6.3481897e-02],\n       [8.8827461e-01],\n       [5.6519449e-02],\n       [1.9765913e-02],\n       [9.9929106e-01],\n       [2.2958338e-02],\n       [1.9747803e-01],\n       [6.6755116e-03],\n       [1.6417652e-02],\n       [2.8663436e-01],\n       [9.9888837e-01],\n       [9.3519330e-02],\n       [5.9642977e-01],\n       [5.7055700e-01],\n       [6.7019254e-02],\n       [9.4995773e-01],\n       [9.1586429e-01],\n       [1.4563036e-01],\n       [3.2753032e-01],\n       [1.0969669e-02],\n       [8.2665753e-01],\n       [5.4225326e-03],\n       [9.2362344e-01],\n       [9.9659830e-01],\n       [9.9660730e-01],\n       [9.6725971e-01],\n       [8.6092681e-02],\n       [9.5302093e-01],\n       [4.5635450e-01],\n       [9.9752581e-01],\n       [7.3533487e-01],\n       [1.4557540e-03],\n       [9.6686804e-01],\n       [9.0983945e-01],\n       [5.7114279e-01],\n       [3.5735965e-04],\n       [9.5623308e-01],\n       [4.6795437e-01],\n       [1.3732016e-03],\n       [9.8376209e-01],\n       [3.8443267e-02],\n       [1.6560555e-02],\n       [9.9905026e-01],\n       [9.9817133e-01],\n       [3.5424733e-01],\n       [8.3806944e-01],\n       [9.6822768e-01],\n       [5.9655607e-03],\n       [1.0714024e-02],\n       [7.4774885e-01],\n       [4.0516067e-01],\n       [8.2200122e-01],\n       [5.9099346e-02],\n       [1.0523051e-02],\n       [7.4027479e-01],\n       [8.0960011e-01],\n       [2.2095889e-02],\n       [9.4254053e-01],\n       [9.9353111e-01],\n       [9.9788570e-01],\n       [7.9859662e-01],\n       [7.5371540e-01],\n       [5.0142735e-01],\n       [9.4334757e-01],\n       [2.5266409e-04],\n       [1.3349521e-01],\n       [1.9043148e-02],\n       [2.3697448e-01],\n       [6.5092742e-03],\n       [1.9745290e-02],\n       [2.9580101e-01],\n       [9.9636126e-01],\n       [1.5190166e-01],\n       [7.8528553e-02],\n       [2.7744696e-01],\n       [2.3359656e-03],\n       [9.2981648e-01],\n       [9.2878461e-02],\n       [4.9501657e-04],\n       [4.2091173e-01],\n       [8.6948407e-01],\n       [1.1740348e-01],\n       [2.1473137e-01],\n       [7.5782192e-01],\n       [1.8174350e-03],\n       [9.9838370e-01],\n       [9.4694197e-03],\n       [4.9257874e-02],\n       [9.9214458e-01],\n       [1.3694614e-02],\n       [9.7549605e-01],\n       [7.2837102e-01],\n       [9.6802104e-01],\n       [6.6727167e-01],\n       [4.1833788e-01],\n       [5.2555805e-01],\n       [9.5142365e-01],\n       [9.9556208e-01],\n       [4.6067238e-02],\n       [9.9857330e-01],\n       [1.8848222e-01],\n       [2.6072264e-03],\n       [9.8909283e-01],\n       [1.3521710e-01],\n       [9.9536765e-01],\n       [6.6130447e-01],\n       [2.6994348e-03],\n       [5.1840985e-01],\n       [3.0505270e-02],\n       [3.9963442e-01],\n       [1.3404587e-01],\n       [8.3563954e-02],\n       [1.2325594e-01],\n       [7.6907957e-01],\n       [1.3666749e-03],\n       [4.8458487e-02],\n       [1.9219220e-03],\n       [9.9216199e-01],\n       [5.7585537e-02],\n       [8.7380463e-01],\n       [1.3251305e-03],\n       [5.3111792e-02],\n       [1.7951548e-02],\n       [8.7894297e-01],\n       [9.8330051e-01],\n       [9.9951255e-01],\n       [9.1454488e-01],\n       [9.8083204e-01],\n       [6.3565969e-02],\n       [8.1193483e-01],\n       [9.7928894e-01],\n       [9.3522716e-01],\n       [8.9509988e-01],\n       [8.8786054e-01],\n       [4.1888505e-01],\n       [9.6293581e-01],\n       [8.9451003e-01],\n       [8.6210561e-01],\n       [6.0354775e-01],\n       [4.5073763e-01],\n       [9.9548936e-01],\n       [3.3897150e-01],\n       [8.4074670e-01],\n       [7.1095657e-01],\n       [1.2379846e-01],\n       [6.0985982e-03],\n       [9.9303162e-01],\n       [9.9052572e-01],\n       [9.9395692e-01],\n       [9.7726905e-01],\n       [4.1614860e-02],\n       [2.6115984e-02],\n       [5.8522242e-01],\n       [3.0055436e-01],\n       [5.3126293e-01],\n       [7.7760816e-03],\n       [9.9390936e-01],\n       [1.6653597e-02],\n       [9.8747939e-02],\n       [9.9962586e-01],\n       [2.4791214e-01],\n       [9.3414438e-01],\n       [2.1648067e-01],\n       [4.8955977e-02],\n       [8.5645711e-01],\n       [4.8467517e-04],\n       [9.9921381e-01],\n       [5.6208503e-01],\n       [5.7844621e-01],\n       [7.2689921e-01],\n       [2.9080984e-01],\n       [6.8620145e-01],\n       [4.4852179e-01],\n       [4.4878867e-01],\n       [1.7828861e-01],\n       [6.4136147e-01],\n       [9.5086694e-01],\n       [8.9678168e-04],\n       [6.1568046e-01],\n       [9.8787588e-01],\n       [6.6943258e-02],\n       [4.1271296e-01],\n       [3.3634245e-02],\n       [9.9149448e-01],\n       [9.3328071e-01],\n       [9.9731719e-01],\n       [6.2824917e-01],\n       [1.9012988e-03],\n       [4.7145489e-01],\n       [1.7500222e-03],\n       [9.9928641e-01],\n       [6.4243233e-01],\n       [9.4783068e-01],\n       [9.9908018e-01],\n       [8.9732206e-01],\n       [3.8443208e-03],\n       [9.7129601e-01],\n       [2.4821937e-02],\n       [9.9881840e-01],\n       [5.2639216e-02],\n       [4.7832343e-01],\n       [9.9945158e-01],\n       [7.5173646e-02],\n       [4.6232438e-01],\n       [7.0133245e-01],\n       [7.2222352e-03],\n       [4.9876302e-01],\n       [9.9356771e-01],\n       [5.0034875e-01],\n       [5.5166906e-01],\n       [9.2982459e-01],\n       [1.0537803e-03],\n       [8.0003947e-02],\n       [1.2573183e-02],\n       [5.0333619e-02],\n       [9.9858057e-01],\n       [1.2289673e-02],\n       [7.0041716e-03],\n       [9.9857032e-01],\n       [8.4581101e-01],\n       [6.7709750e-01],\n       [8.0775356e-01],\n       [3.9873132e-01],\n       [9.9532485e-01],\n       [1.1235809e-01],\n       [9.9685371e-01],\n       [4.7784716e-02],\n       [4.3644905e-03],\n       [7.2087151e-01],\n       [9.9351841e-01],\n       [3.2461280e-01],\n       [9.9915177e-01],\n       [9.0553606e-01],\n       [7.7405471e-01],\n       [9.9188840e-01],\n       [5.0604063e-01],\n       [2.5342941e-02],\n       [6.6529441e-01],\n       [9.9926162e-01],\n       [7.9895365e-01],\n       [8.1604332e-01],\n       [9.9750268e-01],\n       [4.8887879e-02],\n       [9.3014956e-01],\n       [6.7185652e-01],\n       [2.1737558e-01],\n       [3.1138659e-03],\n       [8.5950518e-01],\n       [8.8743269e-03],\n       [1.6944110e-02],\n       [8.7703127e-01],\n       [9.1408980e-01],\n       [7.7451646e-01],\n       [9.9450558e-01],\n       [7.1259141e-03],\n       [1.2326837e-03],\n       [1.8363437e-01],\n       [6.9570333e-02],\n       [9.2350668e-01],\n       [7.5801075e-01],\n       [4.6341777e-02],\n       [8.0126595e-01],\n       [6.7109483e-01],\n       [9.9226427e-01],\n       [3.4703827e-01],\n       [4.5042026e-01],\n       [9.9839580e-01],\n       [9.0224838e-01],\n       [3.8267761e-02],\n       [2.8316975e-03],\n       [9.8696238e-01],\n       [6.3086843e-01],\n       [9.9086356e-01],\n       [3.6738026e-01],\n       [9.9410450e-01],\n       [4.7758207e-01],\n       [9.9741083e-01],\n       [9.9725556e-01],\n       [9.8587060e-01],\n       [9.9929249e-01],\n       [7.5388443e-01],\n       [9.6646547e-01],\n       [2.8302020e-01],\n       [9.9870563e-04],\n       [2.3498440e-01],\n       [6.3629448e-03],\n       [8.6453438e-01],\n       [4.8425883e-02],\n       [8.2295346e-01],\n       [5.6689382e-01],\n       [4.4838846e-02],\n       [7.8575820e-02],\n       [9.9683982e-01],\n       [9.8331499e-01],\n       [1.5852749e-03],\n       [9.9279308e-01],\n       [1.0616183e-03],\n       [4.4747263e-02],\n       [5.5271506e-02],\n       [9.9524438e-01],\n       [7.8735286e-01],\n       [7.0688128e-04],\n       [9.9840856e-01],\n       [1.1064976e-02],\n       [8.0111903e-01],\n       [9.9925101e-01],\n       [2.2566020e-03],\n       [9.9881124e-01],\n       [9.9300456e-01],\n       [4.9404889e-02],\n       [1.1590755e-01],\n       [9.7149611e-03],\n       [1.0959774e-01],\n       [9.2041606e-01],\n       [4.0283862e-01],\n       [4.4384003e-03],\n       [7.5334704e-01],\n       [5.6669700e-01],\n       [9.9641454e-01],\n       [8.7116861e-01],\n       [3.7940532e-02],\n       [1.2242794e-03],\n       [3.3551434e-01],\n       [3.6336499e-01],\n       [1.0478795e-03],\n       [4.7419667e-03],\n       [8.9022845e-01],\n       [3.5727024e-04],\n       [9.6224439e-01],\n       [1.1654678e-01],\n       [9.9766707e-01],\n       [9.9317777e-01],\n       [1.7397791e-02],\n       [9.8424339e-01],\n       [9.6820557e-01],\n       [9.9702269e-01],\n       [4.8214856e-01],\n       [5.0483876e-01],\n       [9.8600841e-01],\n       [9.9423969e-01],\n       [6.1287212e-01],\n       [1.5059707e-01],\n       [2.2197068e-03],\n       [9.3773615e-01],\n       [3.2414600e-01],\n       [1.6082588e-01],\n       [9.8868179e-01],\n       [7.8492010e-01],\n       [1.2842131e-01],\n       [9.9688363e-01],\n       [9.9774408e-01],\n       [9.9258167e-01],\n       [2.1583644e-01],\n       [2.2993088e-03],\n       [5.5162728e-02],\n       [3.5853282e-01],\n       [9.9213076e-01],\n       [3.9174438e-01],\n       [9.6283233e-01],\n       [2.9030323e-02]], dtype=float32)"
     },
     "execution_count": 211,
     "metadata": {},
     "output_type": "execute_result"
    }
   ],
   "source": [
    "preds"
   ],
   "metadata": {
    "collapsed": false,
    "pycharm": {
     "name": "#%%\n"
    }
   }
  },
  {
   "cell_type": "code",
   "execution_count": 213,
   "outputs": [],
   "source": [
    "fra = Frames()"
   ],
   "metadata": {
    "collapsed": false,
    "pycharm": {
     "name": "#%%\n"
    }
   }
  },
  {
   "cell_type": "code",
   "execution_count": 230,
   "outputs": [
    {
     "name": "stdout",
     "output_type": "stream",
     "text": [
      "Completed 0.0\r"
     ]
    }
   ],
   "source": [
    "x = fra.select_fr(fra.read_fr(file_list[1773:1774]))"
   ],
   "metadata": {
    "collapsed": false,
    "pycharm": {
     "name": "#%%\n"
    }
   }
  },
  {
   "cell_type": "code",
   "execution_count": 231,
   "outputs": [
    {
     "data": {
      "text/plain": "['dataset/Real Life Violence Dataset/Violence\\\\V_795.mp4']"
     },
     "execution_count": 231,
     "metadata": {},
     "output_type": "execute_result"
    }
   ],
   "source": [
    "file_list[1773:1774]"
   ],
   "metadata": {
    "collapsed": false,
    "pycharm": {
     "name": "#%%\n"
    }
   }
  },
  {
   "cell_type": "code",
   "execution_count": 232,
   "outputs": [
    {
     "data": {
      "text/plain": "array([[0.8451073]], dtype=float32)"
     },
     "execution_count": 232,
     "metadata": {},
     "output_type": "execute_result"
    }
   ],
   "source": [
    "model.predict(x)"
   ],
   "metadata": {
    "collapsed": false,
    "pycharm": {
     "name": "#%%\n"
    }
   }
  },
  {
   "cell_type": "code",
   "execution_count": 237,
   "outputs": [
    {
     "name": "stdout",
     "output_type": "stream",
     "text": [
      "Completed 0.0\r"
     ]
    }
   ],
   "source": [
    "a = fra.read_fr([\"test_video_nv.mp4\"])"
   ],
   "metadata": {
    "collapsed": false,
    "pycharm": {
     "name": "#%%\n"
    }
   }
  },
  {
   "cell_type": "code",
   "execution_count": 238,
   "outputs": [
    {
     "data": {
      "text/plain": "array([[0.3363331]], dtype=float32)"
     },
     "execution_count": 238,
     "metadata": {},
     "output_type": "execute_result"
    }
   ],
   "source": [
    "model.predict(fra.select_fr(a))"
   ],
   "metadata": {
    "collapsed": false,
    "pycharm": {
     "name": "#%%\n"
    }
   }
  },
  {
   "cell_type": "code",
   "execution_count": null,
   "outputs": [],
   "source": [],
   "metadata": {
    "collapsed": false,
    "pycharm": {
     "name": "#%%\n"
    }
   }
  }
 ],
 "metadata": {
  "kernelspec": {
   "display_name": "Python 3",
   "language": "python",
   "name": "python3"
  },
  "language_info": {
   "codemirror_mode": {
    "name": "ipython",
    "version": 2
   },
   "file_extension": ".py",
   "mimetype": "text/x-python",
   "name": "python",
   "nbconvert_exporter": "python",
   "pygments_lexer": "ipython2",
   "version": "2.7.6"
  }
 },
 "nbformat": 4,
 "nbformat_minor": 0
}